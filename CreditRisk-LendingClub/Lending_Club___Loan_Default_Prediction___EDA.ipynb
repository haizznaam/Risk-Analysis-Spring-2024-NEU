{
  "metadata": {
    "kernelspec": {
      "language": "python",
      "display_name": "Python 3",
      "name": "python3"
    },
    "language_info": {
      "name": "python",
      "version": "3.10.12",
      "mimetype": "text/x-python",
      "codemirror_mode": {
        "name": "ipython",
        "version": 3
      },
      "pygments_lexer": "ipython3",
      "nbconvert_exporter": "python",
      "file_extension": ".py"
    },
    "kaggle": {
      "accelerator": "none",
      "dataSources": [
        {
          "sourceId": 44744,
          "sourceType": "datasetVersion",
          "datasetId": 33672
        },
        {
          "sourceId": 370089,
          "sourceType": "datasetVersion",
          "datasetId": 902
        },
        {
          "sourceId": 471382,
          "sourceType": "datasetVersion",
          "datasetId": 217513
        },
        {
          "sourceId": 1090393,
          "sourceType": "datasetVersion",
          "datasetId": 608703
        },
        {
          "sourceId": 2344503,
          "sourceType": "datasetVersion",
          "datasetId": 1415343
        }
      ],
      "dockerImageVersionId": 30615,
      "isInternetEnabled": true,
      "language": "python",
      "sourceType": "notebook",
      "isGpuEnabled": false
    },
    "colab": {
      "name": "Lending Club | Loan Default Prediction | EDA ",
      "provenance": [],
      "include_colab_link": true
    }
  },
  "nbformat_minor": 0,
  "nbformat": 4,
  "cells": [
    {
      "cell_type": "markdown",
      "metadata": {
        "id": "view-in-github",
        "colab_type": "text"
      },
      "source": [
        "<a href=\"https://colab.research.google.com/github/haizznaam/Risk-Analysis-NEU/blob/main/Lending_Club_%7C_Loan_Default_Prediction_%7C_EDA.ipynb\" target=\"_parent\"><img src=\"https://colab.research.google.com/assets/colab-badge.svg\" alt=\"Open In Colab\"/></a>"
      ]
    },
    {
      "source": [
        "\n",
        "# IMPORTANT: RUN THIS CELL IN ORDER TO IMPORT YOUR KAGGLE DATA SOURCES\n",
        "# TO THE CORRECT LOCATION (/kaggle/input) IN YOUR NOTEBOOK,\n",
        "# THEN FEEL FREE TO DELETE THIS CELL.\n",
        "# NOTE: THIS NOTEBOOK ENVIRONMENT DIFFERS FROM KAGGLE'S PYTHON\n",
        "# ENVIRONMENT SO THERE MAY BE MISSING LIBRARIES USED BY YOUR\n",
        "# NOTEBOOK.\n",
        "\n",
        "import os\n",
        "import sys\n",
        "from tempfile import NamedTemporaryFile\n",
        "from urllib.request import urlopen\n",
        "from urllib.parse import unquote, urlparse\n",
        "from urllib.error import HTTPError\n",
        "from zipfile import ZipFile\n",
        "import tarfile\n",
        "import shutil\n",
        "\n",
        "CHUNK_SIZE = 40960\n",
        "DATA_SOURCE_MAPPING = 'lendingclub-issued-loans:https%3A%2F%2Fstorage.googleapis.com%2Fkaggle-data-sets%2F33672%2F44744%2Fbundle%2Farchive.zip%3FX-Goog-Algorithm%3DGOOG4-RSA-SHA256%26X-Goog-Credential%3Dgcp-kaggle-com%2540kaggle-161607.iam.gserviceaccount.com%252F20240409%252Fauto%252Fstorage%252Fgoog4_request%26X-Goog-Date%3D20240409T095141Z%26X-Goog-Expires%3D259200%26X-Goog-SignedHeaders%3Dhost%26X-Goog-Signature%3Dbf8a487470ca11a74e5dc28c5429de2f6428ed7bd1942d40f288995b8ceefdeada8895dc754f3c1e911d989a1ce58fd7b2492bcc0f34a5b831ef58a313eef97180e9c41204bcf2e6a3f958fe67402a6ef8799f4a542bd6bfd272042d960c9eecc8a6d114aab77c8cf12440c575290bcd1ec1730a77aec4391e9484719c9b6e99c10a06df6d41580b64ce852b8612a491d2be3238fe331763efb21620d6e9300817ea5308690006c3843161ad5fa30b8327d9ba1ba57271c02c0ae03d0b62664272f72463cbc7d7baefc939f88577f9de2653efdf87383164ab5a6dc01ec17c9c4be75b1eae82ceeabb09476b2c4ca99b0f9f4a795ed41f56edb1f0297651c1f0,lending-club:https%3A%2F%2Fstorage.googleapis.com%2Fkaggle-data-sets%2F902%2F370089%2Fbundle%2Farchive.zip%3FX-Goog-Algorithm%3DGOOG4-RSA-SHA256%26X-Goog-Credential%3Dgcp-kaggle-com%2540kaggle-161607.iam.gserviceaccount.com%252F20240409%252Fauto%252Fstorage%252Fgoog4_request%26X-Goog-Date%3D20240409T095141Z%26X-Goog-Expires%3D259200%26X-Goog-SignedHeaders%3Dhost%26X-Goog-Signature%3D8c0c5e3903c9f43ab8db7c074772544333742a094be370ed28e82a1aa945005c87e0a06e6eff4b350aeead8372b197b4ae50d398649b42c052e1b9f7a1d07c7981c56f85d240b34ba5ff20779c026302ec9d6481fa79f1e8dff5a4c7ce10f940361e66c1f5a0cdf1dd8729ec3ea3498bb71a71f3a01b3aa41120290ea9bd577768c6123eab6256f16a068ddd7db64b38f926e16921b601670b0b3d20963e22921b5b00338c8c3b1845fcbc5f7bb232254be70102aefcd0b510eb5048f2cfb27bbde255abb8a889744d583703c65989aa11726f39ae82dbd47478d6736a1821e49ba352b4172dc17ab3823f6568e655ea70418a289678a6a85f50951afd25363e,lending-club-first-dataset:https%3A%2F%2Fstorage.googleapis.com%2Fkaggle-data-sets%2F217513%2F471382%2Fbundle%2Farchive.zip%3FX-Goog-Algorithm%3DGOOG4-RSA-SHA256%26X-Goog-Credential%3Dgcp-kaggle-com%2540kaggle-161607.iam.gserviceaccount.com%252F20240409%252Fauto%252Fstorage%252Fgoog4_request%26X-Goog-Date%3D20240409T095141Z%26X-Goog-Expires%3D259200%26X-Goog-SignedHeaders%3Dhost%26X-Goog-Signature%3D92b3549e9333351ca037ad0aa6854ebb9c0297150fdab2a002f624bdee5561d3c6db753bcdb506847aab4ca18c7539ea368374534e7a5303a0c95f80295ba5909486d0960167fc8686c27cc98eac985a778867ce06420b35c46c9b59468d861e2987294c490cefe3a81cbdaffa963bbc703bebe928528e4582b8c37b89b6af70a0b6c8cd23d7e12e2b1fc80a45e6b7568ba38757aa641c98754f3272e72c545ad77bd5c5d546b8fccb38e1c95af18cdd94d15dd3155a05f17323da0eb1289f623c45d2247a5a988f72e34af1a5004fddbab0de17a9a7c5f1d9742716971328a4783039df8ecadb914e41886f560e8d94e201448754e2d06ab1e7e23d13c8ff46,lending-club-dataset:https%3A%2F%2Fstorage.googleapis.com%2Fkaggle-data-sets%2F608703%2F1090393%2Fbundle%2Farchive.zip%3FX-Goog-Algorithm%3DGOOG4-RSA-SHA256%26X-Goog-Credential%3Dgcp-kaggle-com%2540kaggle-161607.iam.gserviceaccount.com%252F20240409%252Fauto%252Fstorage%252Fgoog4_request%26X-Goog-Date%3D20240409T095141Z%26X-Goog-Expires%3D259200%26X-Goog-SignedHeaders%3Dhost%26X-Goog-Signature%3D25798d21a853ed742ec65838240ef0c9d9628dcc6890b10a8298ea6204a86a1e8baefa095669e0eb047e46e891e3d0a6193773c38ae98aa879bae965ed53e9964b8520510fa784c496efdf8b409263e0318116af36c91c4eb73d1c91aef3c56125d9c5fa1fcb1e3452eb04f047b0f4587aeab82e44eb2d7d99afea0868b35cfd7951ba71f658249554c2ee14ee6ae6d3cc3259a84223ff86e376089a2b017b02ffc7fb658e1dbe5aafb5657fe14acd51cc3ef48ef7e56539348e7e0517f697b4f4c8a2a8e3321d95b53ae430b3de7dcba146b5fbaf156ef60b77ceb4a98046aeb14cb8d65cb41b0d709cf7638d01e80b91e1b51c4241115b662f5ecf0a809366,lending-club-loan-data-csv:https%3A%2F%2Fstorage.googleapis.com%2Fkaggle-data-sets%2F1415343%2F2344503%2Fbundle%2Farchive.zip%3FX-Goog-Algorithm%3DGOOG4-RSA-SHA256%26X-Goog-Credential%3Dgcp-kaggle-com%2540kaggle-161607.iam.gserviceaccount.com%252F20240409%252Fauto%252Fstorage%252Fgoog4_request%26X-Goog-Date%3D20240409T095141Z%26X-Goog-Expires%3D259200%26X-Goog-SignedHeaders%3Dhost%26X-Goog-Signature%3De329b34f422c67f323aa35895984e9ac8e9d270b1efd5c7ea81abe8d02031f530dda3b40bdfe0b7277e1e8ccfd8e73b8ccd3988b0d17b956f9eb38e0e23f80e70014315b103ba41e76c0da28660e6fb05867bea2d46f16115d42e337adc4c66279ae55804df591d3625aa93b7185955b40905fb6b9369b4a8cc3d5107df7524cabd5ae3f928755cb41bb22c2b82ea7fe42e6485ac80543f2b9a2963e8e15968e1f2640681f8b23069eacd401a1be1ae76b095de686338b2ffd98b43d6b969ee368722a422d6f7ca600ff96ebb6b293231198631e642288143bba58571dbaafae71307ffc3436bf7d39965f1bf400a12255e2265579cc1125f482076f110f4950'\n",
        "\n",
        "KAGGLE_INPUT_PATH='/kaggle/input'\n",
        "KAGGLE_WORKING_PATH='/kaggle/working'\n",
        "KAGGLE_SYMLINK='kaggle'\n",
        "\n",
        "!umount /kaggle/input/ 2> /dev/null\n",
        "shutil.rmtree('/kaggle/input', ignore_errors=True)\n",
        "os.makedirs(KAGGLE_INPUT_PATH, 0o777, exist_ok=True)\n",
        "os.makedirs(KAGGLE_WORKING_PATH, 0o777, exist_ok=True)\n",
        "\n",
        "try:\n",
        "  os.symlink(KAGGLE_INPUT_PATH, os.path.join(\"..\", 'input'), target_is_directory=True)\n",
        "except FileExistsError:\n",
        "  pass\n",
        "try:\n",
        "  os.symlink(KAGGLE_WORKING_PATH, os.path.join(\"..\", 'working'), target_is_directory=True)\n",
        "except FileExistsError:\n",
        "  pass\n",
        "\n",
        "for data_source_mapping in DATA_SOURCE_MAPPING.split(','):\n",
        "    directory, download_url_encoded = data_source_mapping.split(':')\n",
        "    download_url = unquote(download_url_encoded)\n",
        "    filename = urlparse(download_url).path\n",
        "    destination_path = os.path.join(KAGGLE_INPUT_PATH, directory)\n",
        "    try:\n",
        "        with urlopen(download_url) as fileres, NamedTemporaryFile() as tfile:\n",
        "            total_length = fileres.headers['content-length']\n",
        "            print(f'Downloading {directory}, {total_length} bytes compressed')\n",
        "            dl = 0\n",
        "            data = fileres.read(CHUNK_SIZE)\n",
        "            while len(data) > 0:\n",
        "                dl += len(data)\n",
        "                tfile.write(data)\n",
        "                done = int(50 * dl / int(total_length))\n",
        "                sys.stdout.write(f\"\\r[{'=' * done}{' ' * (50-done)}] {dl} bytes downloaded\")\n",
        "                sys.stdout.flush()\n",
        "                data = fileres.read(CHUNK_SIZE)\n",
        "            if filename.endswith('.zip'):\n",
        "              with ZipFile(tfile) as zfile:\n",
        "                zfile.extractall(destination_path)\n",
        "            else:\n",
        "              with tarfile.open(tfile.name) as tarfile:\n",
        "                tarfile.extractall(destination_path)\n",
        "            print(f'\\nDownloaded and uncompressed: {directory}')\n",
        "    except HTTPError as e:\n",
        "        print(f'Failed to load (likely expired) {download_url} to path {destination_path}')\n",
        "        continue\n",
        "    except OSError as e:\n",
        "        print(f'Failed to load {download_url} to path {destination_path}')\n",
        "        continue\n",
        "\n",
        "print('Data source import complete.')\n"
      ],
      "metadata": {
        "id": "SIOXq-BQyTAa"
      },
      "cell_type": "code",
      "outputs": [],
      "execution_count": null
    },
    {
      "cell_type": "markdown",
      "source": [
        "*Created by Emma Yang*\n",
        "\n",
        "This notebook covers the full machine learning pipeline from data preprocessing to feature engineering and to modeling--prediction.The results achieve over **87%** accuracy in predicting good vs bad loans.\n",
        "\n",
        "\n",
        "\n",
        "**GAP (Why am I doing this):**\n",
        "\n",
        "\n",
        "> Fatal Flaws:\n",
        "> *   Poor modeling results  (for example, what we are most concerned about is recall, which is the proportion of real bad loans that are identified. Although some notebook had a high ROC, the recall might not be satisfactory)\n",
        "> *   Wrong classification of good and bad loans from the start in some notebook\n",
        "\n",
        "> Insufficiency:\n",
        "> *   incomplete data cleaning\n",
        "> *   insufficient model exploration\n",
        "\n",
        "Hope you enjoy~"
      ],
      "metadata": {
        "id": "R8BThLyLyTAd"
      }
    },
    {
      "cell_type": "markdown",
      "source": [
        "# Content\n",
        "- [Import and read data](#Import-and-read-data)\n",
        "- [EDA Automation](#EDA-Automation)\n",
        "- [Data Cleaning](#Data-Cleaning)\n",
        "  - [Removing exclusions](#Removing-exclusions)\n",
        "  - [Missing Value Imputation](#Missing-Value-Imputation)\n",
        "  - [Removing Outlier](#Removing-Outlier)\n",
        "- [Correlation Analysis](#Correlation-Analysis)\n",
        "- [Feature Engineering](#Feature-Engineering)\n",
        "  - [Binary Encoding for Binary Variables](#Binary-Encoding)\n",
        "  - [Target Encoding for Multicategorical Variables](#Target-Encoding)\n",
        "  - [Normalization for Numeric Variables](#Normalization)\n",
        "- [Dealing with Imbalanced Dataset](#Dealing-with-Imbalanced-Dataset)\n",
        "- [Feature Selection](#Feature-Selection)\n",
        "- [Model Building](#Model-Building)\n",
        "- [Model Evaluation on Hold-Out Set](#Model-Evaluation)\n",
        "\n",
        "\n"
      ],
      "metadata": {
        "id": "FvdM3oFJyTAe"
      }
    },
    {
      "cell_type": "markdown",
      "source": [
        "<a name=\"Import-and-read-data\"></a>\n",
        "# Import and read data\n"
      ],
      "metadata": {
        "id": "IZkNYDCGyTAf"
      }
    },
    {
      "cell_type": "code",
      "source": [
        "!pip install category_encoders"
      ],
      "metadata": {
        "_kg_hide-input": true,
        "_kg_hide-output": true,
        "execution": {
          "iopub.status.busy": "2023-12-13T03:48:24.927207Z",
          "iopub.execute_input": "2023-12-13T03:48:24.927634Z",
          "iopub.status.idle": "2023-12-13T03:48:41.557696Z",
          "shell.execute_reply.started": "2023-12-13T03:48:24.927602Z",
          "shell.execute_reply": "2023-12-13T03:48:41.55637Z"
        },
        "trusted": true,
        "id": "aJ8mxCnmyTAf"
      },
      "execution_count": null,
      "outputs": []
    },
    {
      "cell_type": "code",
      "source": [
        "import os\n",
        "import pandas as pd\n",
        "import numpy as np\n",
        "from datetime import datetime\n",
        "start_time = datetime.now()\n",
        "\n",
        "\n",
        "import tensorflow as tf\n",
        "import matplotlib.pyplot as plt\n",
        "import seaborn as sns\n",
        "from matplotlib import rcParams\n",
        "\n",
        "%matplotlib inline\n",
        "# figure size in inches\n",
        "rcParams['figure.figsize'] = 8,6\n",
        "\n",
        "\n",
        "# Plotly visualizations\n",
        "from plotly import tools\n",
        "# import chart_studio.plotly as py\n",
        "import plotly.figure_factory as ff\n",
        "import plotly.graph_objs as go\n",
        "from plotly.offline import download_plotlyjs, init_notebook_mode, plot, iplot\n",
        "\n",
        "import plotly.offline as pyo\n",
        "import plotly.express as px\n",
        "init_notebook_mode(connected=True)\n",
        "\n",
        "# For oversampling Library (Dealing with Imbalanced Datasets)\n",
        "from imblearn.over_sampling import SMOTE\n",
        "from collections import Counter\n",
        "from sklearn.preprocessing import LabelEncoder\n",
        "# For undersamping\n",
        "from imblearn.under_sampling import RandomUnderSampler\n",
        "\n",
        "# for encoding and normalization\n",
        "from category_encoders import TargetEncoder\n",
        "from sklearn.preprocessing import StandardScaler\n",
        "\n",
        "from sklearn.pipeline import make_pipeline\n",
        "from imblearn.pipeline import make_pipeline as imbalanced_make_pipeline\n",
        "\n",
        "from imblearn.under_sampling import NearMiss\n",
        "from imblearn.metrics import classification_report_imbalanced\n",
        "from sklearn.metrics import precision_score, recall_score, f1_score, roc_auc_score, accuracy_score, classification_report\n",
        "from collections import Counter\n",
        "from sklearn.model_selection import KFold, StratifiedKFold, StratifiedShuffleSplit\n",
        "from sklearn.linear_model import LogisticRegression\n",
        "\n",
        "from sklearn.feature_selection import VarianceThreshold\n",
        "\n",
        "# import lightgbm as lgb\n",
        "import math\n",
        "import itertools as it\n",
        "from mlxtend.feature_selection import SequentialFeatureSelector as SFS\n",
        "import warnings\n",
        "warnings.filterwarnings(\"ignore\")\n",
        "\n",
        "# Classifiers\n",
        "from xgboost import XGBClassifier\n",
        "from sklearn.tree import DecisionTreeClassifier\n",
        "from sklearn.neighbors import KNeighborsClassifier\n",
        "from sklearn.ensemble import RandomForestClassifier\n",
        "from sklearn.naive_bayes import GaussianNB\n",
        "from sklearn.svm import SVC\n",
        "from lightgbm import LGBMClassifier\n",
        "from sklearn.neural_network import MLPClassifier\n",
        "from sklearn.ensemble import GradientBoostingClassifier\n",
        "\n",
        "# Other machine learning tools\n",
        "\n",
        "from sklearn.feature_selection import RFECV\n",
        "import scipy.stats as sps\n",
        "\n",
        "from sklearn.ensemble import BaggingClassifier\n",
        "\n",
        "print('LOADING DURATION: ', datetime.now() - start_time)\n",
        "\n",
        "\n",
        "pd.set_option('display.max_rows', 20)\n",
        "pd.set_option('display.max_columns', 20)"
      ],
      "metadata": {
        "_kg_hide-input": true,
        "_kg_hide-output": true,
        "execution": {
          "iopub.status.busy": "2023-12-13T03:48:41.559958Z",
          "iopub.execute_input": "2023-12-13T03:48:41.56034Z",
          "iopub.status.idle": "2023-12-13T03:49:02.60048Z",
          "shell.execute_reply.started": "2023-12-13T03:48:41.560307Z",
          "shell.execute_reply": "2023-12-13T03:49:02.599016Z"
        },
        "trusted": true,
        "id": "Smzda3azyTAf"
      },
      "execution_count": null,
      "outputs": []
    },
    {
      "cell_type": "markdown",
      "source": [
        "# Import and read data"
      ],
      "metadata": {
        "id": "l0VuAlStyTAg"
      }
    },
    {
      "cell_type": "code",
      "source": [
        "df = pd.read_csv(\"/kaggle/input/lending-club/accepted_2007_to_2018q4.csv/accepted_2007_to_2018Q4.csv\")\n",
        "\n",
        "df = df.dropna(subset=[\"loan_status\"])\n",
        "df.head()"
      ],
      "metadata": {
        "execution": {
          "iopub.status.busy": "2023-12-13T03:53:41.686408Z",
          "iopub.execute_input": "2023-12-13T03:53:41.686838Z",
          "iopub.status.idle": "2023-12-13T03:55:09.556663Z",
          "shell.execute_reply.started": "2023-12-13T03:53:41.686808Z",
          "shell.execute_reply": "2023-12-13T03:55:09.552748Z"
        },
        "trusted": true,
        "id": "qSMl9PoJyTAg"
      },
      "execution_count": null,
      "outputs": []
    },
    {
      "cell_type": "code",
      "source": [
        "#reduce the data size to fasten following steps, otherwise the memory will soon run out\n",
        "complete_df = df.sample(n=100000, random_state=42)"
      ],
      "metadata": {
        "execution": {
          "iopub.status.busy": "2023-12-13T03:55:59.627273Z",
          "iopub.execute_input": "2023-12-13T03:55:59.627793Z",
          "iopub.status.idle": "2023-12-13T03:56:00.523926Z",
          "shell.execute_reply.started": "2023-12-13T03:55:59.627761Z",
          "shell.execute_reply": "2023-12-13T03:56:00.522632Z"
        },
        "trusted": true,
        "id": "qzfVOl4CyTAg"
      },
      "execution_count": null,
      "outputs": []
    },
    {
      "cell_type": "code",
      "source": [
        "# Add necessary variables\n",
        "# Determining the loans that are bad from loan_status column --dependent variable (y)\n",
        "bad_loan = [\"Charged Off\", \"Default\", \"Does not meet the credit policy. Status:Charged Off\", \"In Grace Period\",\n",
        "            \"Late (16-30 days)\", \"Late (31-120 days)\"]\n",
        "complete_df['loan_condition_int'] = complete_df['loan_status'].apply(lambda status: 1 if status in bad_loan else 0).astype(int)\n",
        "complete_df['loan_condition'] = np.where(complete_df['loan_condition_int'] == 0, 'Good Loan', 'Bad Loan')\n",
        "\n",
        "#emp_length\n",
        "emp_length_mapping = {\n",
        "    '10+ years': 10,\n",
        "    '9 years': 9,\n",
        "    '8 years': 8,\n",
        "    '7 years': 7,\n",
        "    '6 years': 6,\n",
        "    '5 years': 5,\n",
        "    '4 years': 4,\n",
        "    '3 years': 3,\n",
        "    '2 years': 2,\n",
        "    '1 year': 1,\n",
        "    '< 1 year': 0.5,\n",
        "    'n/a': 0\n",
        "}\n",
        "complete_df['emp_length_int'] = complete_df['emp_length'].map(emp_length_mapping)\n",
        "complete_df.head().transpose()\n",
        "\n",
        "# region\n",
        "state_to_region = {\n",
        "    'CA': 'West', 'OR': 'West', 'UT': 'West', 'WA': 'West', 'CO': 'West',\n",
        "    'NV': 'West', 'AK': 'West', 'MT': 'West', 'HI': 'West', 'WY': 'West', 'ID': 'West',\n",
        "    'AZ': 'SouthWest', 'TX': 'SouthWest', 'NM': 'SouthWest', 'OK': 'SouthWest',\n",
        "    'GA': 'SouthEast', 'NC': 'SouthEast', 'VA': 'SouthEast', 'FL': 'SouthEast', 'KY': 'SouthEast',\n",
        "    'SC': 'SouthEast', 'LA': 'SouthEast', 'AL': 'SouthEast', 'WV': 'SouthEast', 'DC': 'SouthEast',\n",
        "    'AR': 'SouthEast', 'DE': 'SouthEast', 'MS': 'SouthEast', 'TN': 'SouthEast',\n",
        "    'IL': 'MidWest', 'MO': 'MidWest', 'MN': 'MidWest', 'OH': 'MidWest', 'WI': 'MidWest',\n",
        "    'KS': 'MidWest', 'MI': 'MidWest', 'SD': 'MidWest', 'IA': 'MidWest', 'NE': 'MidWest',\n",
        "    'IN': 'MidWest', 'ND': 'MidWest',\n",
        "    'CT': 'NorthEast', 'NY': 'NorthEast', 'PA': 'NorthEast', 'NJ': 'NorthEast', 'RI': 'NorthEast',\n",
        "    'MA': 'NorthEast', 'MD': 'NorthEast', 'VT': 'NorthEast', 'NH': 'NorthEast', 'ME': 'NorthEast'\n",
        "}\n",
        "complete_df['region'] = complete_df['addr_state'].map(state_to_region)\n",
        "complete_df.head().transpose()"
      ],
      "metadata": {
        "execution": {
          "iopub.status.busy": "2023-12-13T03:56:00.526423Z",
          "iopub.execute_input": "2023-12-13T03:56:00.526943Z",
          "iopub.status.idle": "2023-12-13T03:56:00.706074Z",
          "shell.execute_reply.started": "2023-12-13T03:56:00.526899Z",
          "shell.execute_reply": "2023-12-13T03:56:00.704827Z"
        },
        "trusted": true,
        "id": "jXreZiV8yTAg"
      },
      "execution_count": null,
      "outputs": []
    },
    {
      "cell_type": "markdown",
      "source": [
        "# EDA Automation\n",
        "The following is an EDA(Exploratory Data Analysis) Automation.\n",
        "\n",
        "The code allows for flexible variable selection, enabling more in-depth business insights to be gained.\n",
        "\n",
        "**instruction:**\n",
        "With designed functions, you can quickly plot by entering variables name (the corresponding variable can be selected in the corresponding comment behind the variable). If you run the code in Colab, you can directly select the variable through the drop-down. If not,"
      ],
      "metadata": {
        "id": "xkmONmi3yTAh"
      }
    },
    {
      "cell_type": "code",
      "source": [
        "EDA_df = complete_df.copy()\n",
        "\n",
        "EDA_cat_columns = EDA_df.select_dtypes(include=['object']).columns.tolist()\n",
        "EDA_num_columns = EDA_df.select_dtypes(exclude=['object']).columns.tolist()\n",
        "\n",
        "# Filter categorical columns with unique value count less than or equal to the specified threshold.\n",
        "filtered_EDA_cat_columns = [col for col in EDA_cat_columns if EDA_df[col].nunique() <= 50]"
      ],
      "metadata": {
        "execution": {
          "iopub.status.busy": "2023-12-13T03:56:01.133127Z",
          "iopub.execute_input": "2023-12-13T03:56:01.134085Z",
          "iopub.status.idle": "2023-12-13T03:56:02.31199Z",
          "shell.execute_reply.started": "2023-12-13T03:56:01.134012Z",
          "shell.execute_reply": "2023-12-13T03:56:02.310857Z"
        },
        "trusted": true,
        "id": "99Tsgs01yTAh"
      },
      "execution_count": null,
      "outputs": []
    },
    {
      "cell_type": "code",
      "source": [
        "def plot_variable_distribution(dataframe, variable_name):\n",
        "    if dataframe[variable_name].dtype == 'object':\n",
        "        # Categorical variables, draw a histogram\n",
        "        sns.countplot(x=variable_name, data=dataframe)\n",
        "        plt.xlabel(variable_name)\n",
        "        plt.ylabel('Count')\n",
        "        plt.title(f'Distribution of {variable_name}')\n",
        "    else:\n",
        "        # Numeric variables, plot histograms\n",
        "        sns.histplot(dataframe[variable_name], kde=True)\n",
        "        plt.xlabel(variable_name)\n",
        "        plt.ylabel('Frequency')\n",
        "        plt.title(f'Distribution of {variable_name}')\n",
        "    plt.show()"
      ],
      "metadata": {
        "execution": {
          "iopub.status.busy": "2023-12-13T03:56:02.314424Z",
          "iopub.execute_input": "2023-12-13T03:56:02.31489Z",
          "iopub.status.idle": "2023-12-13T03:56:02.324401Z",
          "shell.execute_reply.started": "2023-12-13T03:56:02.314847Z",
          "shell.execute_reply": "2023-12-13T03:56:02.323127Z"
        },
        "trusted": true,
        "id": "oJLcSd-7yTAh"
      },
      "execution_count": null,
      "outputs": []
    },
    {
      "cell_type": "code",
      "source": [
        "variable = \"loan_condition\" # @param ['id', 'member_id', 'loan_amnt', 'funded_amnt', 'funded_amnt_inv', 'term', 'int_rate', 'installment', 'grade', 'sub_grade', 'emp_title', 'emp_length', 'home_ownership', 'annual_inc', 'verification_status', 'issue_d', 'loan_status', 'pymnt_plan', 'url', 'desc', 'purpose', 'title', 'zip_code', 'addr_state', 'dti', 'delinq_2yrs', 'earliest_cr_line', 'fico_range_low', 'fico_range_high', 'inq_last_6mths', 'mths_since_last_delinq', 'mths_since_last_record', 'open_acc', 'pub_rec', 'revol_bal', 'revol_util', 'total_acc', 'initial_list_status', 'out_prncp', 'out_prncp_inv', 'total_pymnt', 'total_pymnt_inv', 'total_rec_prncp', 'total_rec_int', 'total_rec_late_fee', 'recoveries', 'collection_recovery_fee', 'last_pymnt_d', 'last_pymnt_amnt', 'next_pymnt_d', 'last_credit_pull_d', 'last_fico_range_high', 'last_fico_range_low', 'collections_12_mths_ex_med', 'mths_since_last_major_derog', 'policy_code', 'application_type', 'annual_inc_joint', 'dti_joint', 'verification_status_joint', 'acc_now_delinq', 'tot_coll_amt', 'tot_cur_bal', 'open_acc_6m', 'open_act_il', 'open_il_12m', 'open_il_24m', 'mths_since_rcnt_il', 'total_bal_il', 'il_util', 'open_rv_12m', 'open_rv_24m', 'max_bal_bc', 'all_util', 'total_rev_hi_lim', 'inq_fi', 'total_cu_tl', 'inq_last_12m', 'acc_open_past_24mths', 'avg_cur_bal', 'bc_open_to_buy', 'bc_util', 'chargeoff_within_12_mths', 'delinq_amnt', 'mo_sin_old_il_acct', 'mo_sin_old_rev_tl_op', 'mo_sin_rcnt_rev_tl_op', 'mo_sin_rcnt_tl', 'mort_acc', 'mths_since_recent_bc', 'mths_since_recent_bc_dlq', 'mths_since_recent_inq', 'mths_since_recent_revol_delinq', 'num_accts_ever_120_pd', 'num_actv_bc_tl', 'num_actv_rev_tl', 'num_bc_sats', 'num_bc_tl', 'num_il_tl', 'num_op_rev_tl', 'num_rev_accts', 'num_rev_tl_bal_gt_0', 'num_sats', 'num_tl_120dpd_2m', 'num_tl_30dpd', 'num_tl_90g_dpd_24m', 'num_tl_op_past_12m', 'pct_tl_nvr_dlq', 'percent_bc_gt_75', 'pub_rec_bankruptcies', 'tax_liens', 'tot_hi_cred_lim', 'total_bal_ex_mort', 'total_bc_limit', 'total_il_high_credit_limit', 'revol_bal_joint', 'sec_app_fico_range_low', 'sec_app_fico_range_high', 'sec_app_earliest_cr_line', 'sec_app_inq_last_6mths', 'sec_app_mort_acc', 'sec_app_open_acc', 'sec_app_revol_util', 'sec_app_open_act_il', 'sec_app_num_rev_accts', 'sec_app_chargeoff_within_12_mths', 'sec_app_collections_12_mths_ex_med', 'sec_app_mths_since_last_major_derog', 'hardship_flag', 'hardship_type', 'hardship_reason', 'hardship_status', 'deferral_term', 'hardship_amount', 'hardship_start_date', 'hardship_end_date', 'payment_plan_start_date', 'hardship_length', 'hardship_dpd', 'hardship_loan_status', 'orig_projected_additional_accrued_interest', 'hardship_payoff_balance_amount', 'hardship_last_payment_amount', 'disbursement_method', 'debt_settlement_flag', 'debt_settlement_flag_date', 'settlement_status', 'settlement_date', 'settlement_amount', 'settlement_percentage', 'settlement_term', 'loan_condition_int', 'loan_condition', 'emp_length_int', 'region'] {allow-input: true}\n",
        "plot_variable_distribution(EDA_df, variable)"
      ],
      "metadata": {
        "execution": {
          "iopub.status.busy": "2023-12-13T03:56:02.326659Z",
          "iopub.execute_input": "2023-12-13T03:56:02.327154Z",
          "iopub.status.idle": "2023-12-13T03:56:02.763953Z",
          "shell.execute_reply.started": "2023-12-13T03:56:02.327112Z",
          "shell.execute_reply": "2023-12-13T03:56:02.762568Z"
        },
        "trusted": true,
        "id": "uCeAd5jQyTAh"
      },
      "execution_count": null,
      "outputs": []
    },
    {
      "cell_type": "code",
      "source": [
        "def plot_2_variable_relationship(dataframe, x_variable, y_variable):\n",
        "    if dataframe[x_variable].dtype != 'object' and dataframe[y_variable].dtype != 'object':\n",
        "        # Two numerical variables, draw a scatter plot\n",
        "        sns.scatterplot(x=x_variable, y=y_variable, data=dataframe)\n",
        "        plt.xlabel(x_variable)\n",
        "        plt.ylabel(y_variable)\n",
        "        plt.title(f'Scatter Plot: {x_variable} vs. {y_variable}')\n",
        "    elif dataframe[x_variable].dtype == 'object' and dataframe[y_variable].dtype == 'object':\n",
        "        # Two categorical variables, draw a crosstab\n",
        "        cross_tab = pd.crosstab(index=dataframe[x_variable], columns=dataframe[y_variable], normalize='columns') #Show column summary percentage\n",
        "        sns.heatmap(cross_tab, annot=True, cmap=\"YlGnBu\")\n",
        "        plt.xlabel(y_variable)\n",
        "        plt.ylabel(x_variable)\n",
        "        plt.title(f'Cross Tabulation: {x_variable} vs. {y_variable}')\n",
        "    elif (dataframe[x_variable].dtype != 'object' and dataframe[y_variable].dtype == 'object') or (dataframe[x_variable].dtype == 'object' and dataframe[y_variable].dtype != 'object'):\n",
        "        # One categorical variable, one numerical variabl\"e, draw a violin plot\n",
        "        if dataframe[x_variable].dtype != 'object':\n",
        "            x_variable, y_variable = y_variable, x_variable  # Swap the order of the variables and make sure Y is a numeric variable\n",
        "        sns.violinplot(x=x_variable, y=y_variable, data=dataframe)\n",
        "        plt.xlabel(x_variable)\n",
        "        plt.ylabel(y_variable)\n",
        "        plt.title(f'Violin Plot: {x_variable} vs. {y_variable}')\n",
        "        sns.despine()\n",
        "    else:\n",
        "        print(\"Unsupported combination of variable types\")"
      ],
      "metadata": {
        "execution": {
          "iopub.status.busy": "2023-12-13T03:56:02.76659Z",
          "iopub.execute_input": "2023-12-13T03:56:02.767139Z",
          "iopub.status.idle": "2023-12-13T03:56:02.780564Z",
          "shell.execute_reply.started": "2023-12-13T03:56:02.767091Z",
          "shell.execute_reply": "2023-12-13T03:56:02.779473Z"
        },
        "trusted": true,
        "id": "bmQGAfI5yTAh"
      },
      "execution_count": null,
      "outputs": []
    },
    {
      "cell_type": "code",
      "source": [
        "X = \"loan_condition\"\n",
        "Y = \"total_rec_prncp\"\n",
        "\n",
        "plot_2_variable_relationship(EDA_df,X,Y)"
      ],
      "metadata": {
        "execution": {
          "iopub.status.busy": "2023-12-13T03:56:03.082615Z",
          "iopub.execute_input": "2023-12-13T03:56:03.083448Z",
          "iopub.status.idle": "2023-12-13T03:56:03.894162Z",
          "shell.execute_reply.started": "2023-12-13T03:56:03.0834Z",
          "shell.execute_reply": "2023-12-13T03:56:03.892919Z"
        },
        "trusted": true,
        "id": "9B6Oj8KgyTAh"
      },
      "execution_count": null,
      "outputs": []
    },
    {
      "cell_type": "code",
      "source": [
        "def plot_3_variable_relationship(dataframe, x1_variable, x2_variable, y_variable):\n",
        "    num_types = ['int64', 'float64']\n",
        "\n",
        "    if (dataframe[x1_variable].dtype == 'object' and\n",
        "        dataframe[x2_variable].dtype == 'object' and\n",
        "        dataframe[y_variable].dtype == 'object'):\n",
        "        # Three categorical variables, draw a crosstab\n",
        "        cross_tab = pd.crosstab(index=dataframe[x1_variable], columns=[dataframe[x2_variable], dataframe[y_variable]], normalize='columns')\n",
        "        sns.heatmap(cross_tab, annot=True, cmap=\"YlGnBu\")\n",
        "        plt.xlabel(f'{x2_variable} - {y_variable}')\n",
        "        plt.ylabel(x1_variable)\n",
        "        plt.title(f'Cross Tabulation: {x1_variable} vs. {x2_variable} vs. {y_variable}')\n",
        "    elif (dataframe[x1_variable].dtype == 'object' and\n",
        "          dataframe[x2_variable].dtype == 'object' and\n",
        "          dataframe[y_variable].dtype in num_types):\n",
        "        # X1 and X2 are categorical, Y is a numerical variable, draw a violin plot or boxplot\n",
        "        # Example: Drawing a Violin Plot\n",
        "        sns.violinplot(x=x1_variable, y=y_variable, hue=x2_variable, data=dataframe)\n",
        "        plt.xlabel(x1_variable)\n",
        "        plt.ylabel(y_variable)\n",
        "        plt.title(f'Violin Plot: {x1_variable} vs. {x2_variable} vs. {y_variable}')\n",
        "    elif (dataframe[x1_variable].dtype in num_types and\n",
        "          dataframe[x2_variable].dtype in num_types and\n",
        "          dataframe[y_variable].dtype == 'object'):\n",
        "        # X1 and X2 are numerical variables, Y is a categorical variable, draw a box plot or violin plot\n",
        "        # Example: Drawing a Violin Plot\n",
        "        sns.boxplot(x=x1_variable, y=y_variable, hue=x2_variable, data=dataframe)\n",
        "        plt.xlabel(x1_variable)\n",
        "        plt.ylabel(y_variable)\n",
        "        plt.title(f'Box Plot: {x1_variable} vs. {x2_variable} vs. {y_variable}')\n",
        "    elif (dataframe[x1_variable].dtype in num_types and\n",
        "          dataframe[x2_variable].dtype in num_types and\n",
        "          dataframe[y_variable].dtype in num_types):\n",
        "        # Three numerical variables, draw a scatter plot\n",
        "        sns.scatterplot(x=x1_variable, y=x2_variable, hue=y_variable, data=dataframe)\n",
        "        plt.xlabel(x1_variable)\n",
        "        plt.ylabel(x2_variable)\n",
        "        plt.title(f'Scatter Plot: {x1_variable} vs. {x2_variable} vs. {y_variable}')\n",
        "    elif ((dataframe[x1_variable].dtype == 'object' and dataframe[x2_variable].dtype in num_types) or\n",
        "          (dataframe[x1_variable].dtype in num_types and dataframe[x2_variable].dtype == 'object')):\n",
        "        # One of X1 and X2 is a categorical variable and the other is a numerical variable\n",
        "        if dataframe[y_variable].dtype == 'object':\n",
        "            # Y is a categorical variable, draw a boxplot or violin plot\n",
        "            sns.boxplot(x=x1_variable, y=x2_variable, hue=y_variable, data=dataframe)\n",
        "            plt.xlabel(x1_variable)\n",
        "            plt.ylabel(x2_variable)\n",
        "            plt.title(f'Box Plot: {x1_variable} vs. {x2_variable} with Color-Coded {y_variable}')\n",
        "        elif dataframe[y_variable].dtype in num_types:\n",
        "            # Y is a numerical variable, draw a box plot or violin plot\n",
        "            sns.boxplot(x=x1_variable, y=x2_variable, data=dataframe)\n",
        "            plt.xlabel(x1_variable)\n",
        "            plt.ylabel(x2_variable)\n",
        "            plt.title(f'Box Plot: {x1_variable} vs. {x2_variable}')\n",
        "    else:\n",
        "        print(\"Unsupported combination of variable types\")\n"
      ],
      "metadata": {
        "execution": {
          "iopub.status.busy": "2023-12-13T03:56:03.896751Z",
          "iopub.execute_input": "2023-12-13T03:56:03.898051Z",
          "iopub.status.idle": "2023-12-13T03:56:03.916429Z",
          "shell.execute_reply.started": "2023-12-13T03:56:03.897997Z",
          "shell.execute_reply": "2023-12-13T03:56:03.914846Z"
        },
        "trusted": true,
        "id": "CmrA7t5uyTAh"
      },
      "execution_count": null,
      "outputs": []
    },
    {
      "cell_type": "code",
      "source": [
        "X1 = \"grade\"\n",
        "X2 = \"term\"\n",
        "Y = \"loan_amnt\"\n",
        "\n",
        "plot_3_variable_relationship(EDA_df,X1,X2,Y)"
      ],
      "metadata": {
        "execution": {
          "iopub.status.busy": "2023-12-13T03:56:04.166745Z",
          "iopub.execute_input": "2023-12-13T03:56:04.167436Z",
          "iopub.status.idle": "2023-12-13T03:56:06.078366Z",
          "shell.execute_reply.started": "2023-12-13T03:56:04.167399Z",
          "shell.execute_reply": "2023-12-13T03:56:06.07702Z"
        },
        "trusted": true,
        "id": "Bzuv_76GyTAi"
      },
      "execution_count": null,
      "outputs": []
    },
    {
      "cell_type": "markdown",
      "source": [
        "<a name=\"Data-Cleaning\"></a>\n",
        "# Data Cleaning\n",
        "\n",
        "This part includes:\n",
        "\n",
        "\n",
        "*   Removing Exclusions\n",
        "*   Missing Value Imputation\n",
        "*   Removing Outliers"
      ],
      "metadata": {
        "id": "e8nvOS3YyTAi"
      }
    },
    {
      "cell_type": "markdown",
      "source": [
        "<a name=\"Removing-exclusions\"></a>\n",
        "## Removing Exclusions\n",
        "\n",
        "Steps:\n",
        "\n",
        "\n",
        "1.   Delete `Current` and `Issued` status\n",
        "(Adjustment: change the classification of good loans and bad loans)\n",
        "2.   Delete variables with more than 80% missing values\n",
        "2.   Delete direct indicators\n",
        "1.   Delete repetitive object variable"
      ],
      "metadata": {
        "id": "CraSuIwGyTAi"
      }
    },
    {
      "cell_type": "code",
      "source": [
        "complete_df.dtypes"
      ],
      "metadata": {
        "execution": {
          "iopub.status.busy": "2023-12-13T03:56:12.173481Z",
          "iopub.execute_input": "2023-12-13T03:56:12.174373Z",
          "iopub.status.idle": "2023-12-13T03:56:12.187101Z",
          "shell.execute_reply.started": "2023-12-13T03:56:12.17423Z",
          "shell.execute_reply": "2023-12-13T03:56:12.185771Z"
        },
        "trusted": true,
        "id": "qENBZbLQyTAi"
      },
      "execution_count": null,
      "outputs": []
    },
    {
      "cell_type": "code",
      "source": [
        "pd.value_counts(complete_df.loan_status).to_frame().reset_index()"
      ],
      "metadata": {
        "execution": {
          "iopub.status.busy": "2023-12-13T03:56:12.491608Z",
          "iopub.execute_input": "2023-12-13T03:56:12.492085Z",
          "iopub.status.idle": "2023-12-13T03:56:12.526419Z",
          "shell.execute_reply.started": "2023-12-13T03:56:12.492023Z",
          "shell.execute_reply": "2023-12-13T03:56:12.525138Z"
        },
        "trusted": true,
        "id": "MAglbY90yTAi"
      },
      "execution_count": null,
      "outputs": []
    },
    {
      "cell_type": "markdown",
      "source": [
        "\n",
        "**1 Ajustment: change the classification of good loans and bad loans**\n",
        "\n",
        "\n",
        "`Current` and `Issued` should be excluded, as they did not indicate the direction of the loans (it was unclear whether they were associated with good or bad loans).\n",
        "\n",
        "\n",
        "| Category | Loan Condition | original Loan Status |\n",
        "| --- | --- | --- |\n",
        "| Good Loan | 0 | Fully Paid, Current, (Issued) |\n",
        "| Bad Loan | 1 | Default, Charged Off, In Grace Period, Late (16-30 days), Late (31-120 days) |\n",
        "\n",
        "*some dataset with Issued, some without\n",
        "\n",
        "\n",
        "\n",
        "| Category | Loan Condition | adjuested Loan Status |\n",
        "| --- | --- | --- |\n",
        "| Good Loan | 0 | Fully Paid |\n",
        "| Bad Loan | 1 | Default, Charged Off, In Grace Period, Late (16-30 days), Late (31-120 days) |"
      ],
      "metadata": {
        "id": "vkrYw9Q5yTAi"
      }
    },
    {
      "cell_type": "code",
      "source": [
        "drop_df = complete_df\n",
        "drop_df = complete_df[~complete_df['loan_status'].isin(['Current', 'Issued',\n",
        "                                #  'In Grace Period', 'Late (16-30 days)', 'Late (31-120 days)',\n",
        "                                # 'Does not meet the credit policy. Status:Fully Paid', 'Does not meet the credit policy. Status:Charged Off'\n",
        "                                                           ])]"
      ],
      "metadata": {
        "execution": {
          "iopub.status.busy": "2023-12-13T03:56:13.989172Z",
          "iopub.execute_input": "2023-12-13T03:56:13.989552Z",
          "iopub.status.idle": "2023-12-13T03:56:14.082456Z",
          "shell.execute_reply.started": "2023-12-13T03:56:13.989523Z",
          "shell.execute_reply": "2023-12-13T03:56:14.081023Z"
        },
        "trusted": true,
        "id": "Zia04AmEyTAi"
      },
      "execution_count": null,
      "outputs": []
    },
    {
      "cell_type": "markdown",
      "source": [
        "**2 Delete variables with more than 80% missing values**\n",
        "\n",
        "There are a lot of columns which have huge chunk of data missing. These columns are not necessary for our analysis. The following part will drop any columns where 20% or more data is missing, which means only columns whose number of non-null values is at least 80% of the total number of rows in the dataset will be retained."
      ],
      "metadata": {
        "id": "_rJylX0_yTAi"
      }
    },
    {
      "cell_type": "code",
      "source": [
        "def get_missing_value_stats(input_df):\n",
        "    df_null = pd.DataFrame({\n",
        "        'Missing Count': input_df.isnull().sum(),\n",
        "        'Missing Percent': 100 * input_df.isnull().sum() / len(input_df),\n",
        "        'Type': input_df.dtypes\n",
        "    })\n",
        "    missing_values = df_null[df_null['Missing Count'] > 0].sort_values(by='Missing Count', ascending=False) #改\n",
        "    return missing_values\n",
        "\n",
        "def get_value_stats(input_df):\n",
        "    df_null = pd.DataFrame({\n",
        "        '#Count': input_df.notna().sum(),\n",
        "        '%Populated': 100 * input_df.notna().sum() / len(input_df),\n",
        "        '#Unique Values':input_df.nunique(),\n",
        "        'Most Common Value': input_df.mode().iloc[0],\n",
        "        'Type': input_df.dtypes\n",
        "    })\n",
        "\n",
        "    missing_values = df_null[df_null['#Count'] > 0].sort_values(by='#Count', ascending=False)\n",
        "\n",
        "    return missing_values\n",
        "\n",
        "# Finding the the count and percentage of values that are missing.\n",
        "get_missing_value_stats(drop_df)"
      ],
      "metadata": {
        "execution": {
          "iopub.status.busy": "2023-12-13T03:56:15.163999Z",
          "iopub.execute_input": "2023-12-13T03:56:15.164511Z",
          "iopub.status.idle": "2023-12-13T03:56:15.713572Z",
          "shell.execute_reply.started": "2023-12-13T03:56:15.164471Z",
          "shell.execute_reply": "2023-12-13T03:56:15.71265Z"
        },
        "trusted": true,
        "id": "KLi_hY-FyTAi"
      },
      "execution_count": null,
      "outputs": []
    },
    {
      "cell_type": "code",
      "source": [
        "#drop any columns where over a certain percentage is missing\n",
        "drop_df = drop_df.dropna(axis=1, thresh=int(0.20*len(drop_df)))\n",
        "get_missing_value_stats(drop_df)"
      ],
      "metadata": {
        "execution": {
          "iopub.status.busy": "2023-12-13T03:56:16.224528Z",
          "iopub.execute_input": "2023-12-13T03:56:16.224981Z",
          "iopub.status.idle": "2023-12-13T03:56:16.97262Z",
          "shell.execute_reply.started": "2023-12-13T03:56:16.224944Z",
          "shell.execute_reply": "2023-12-13T03:56:16.971467Z"
        },
        "trusted": true,
        "id": "zsde2uJTyTAj"
      },
      "execution_count": null,
      "outputs": []
    },
    {
      "cell_type": "markdown",
      "source": [
        "**3 Delete dynamic indicators**\n",
        "\n",
        "In fact, certain variables directly indicate the outcome of the `loan condition`, such as the `total_rec_prnp` (Principal received to date) shown in the chart. If this value is equal to the `loan_amnt` (loan amount), it directly signifies that the loan is a good loan.\n",
        "In other words, since we assume that we are within the loan repayment period for prediction purposes, we should eliminate variables that change before and after the loan term, and ensure that only variables directly influencing the loan condition outcome are preserved."
      ],
      "metadata": {
        "id": "Koft-KWGyTAj"
      }
    },
    {
      "cell_type": "code",
      "source": [
        "sns.pairplot(drop_df[['total_rec_prncp', 'loan_condition', 'loan_amnt']].sample(n=1000, random_state=42), hue='loan_condition')"
      ],
      "metadata": {
        "execution": {
          "iopub.status.busy": "2023-12-13T03:56:18.307601Z",
          "iopub.execute_input": "2023-12-13T03:56:18.307988Z",
          "iopub.status.idle": "2023-12-13T03:56:20.400348Z",
          "shell.execute_reply.started": "2023-12-13T03:56:18.307957Z",
          "shell.execute_reply": "2023-12-13T03:56:20.398983Z"
        },
        "trusted": true,
        "id": "hxAu30_fyTAj"
      },
      "execution_count": null,
      "outputs": []
    },
    {
      "cell_type": "markdown",
      "source": [
        "Similarly, we have:\n",
        "\n",
        "| Feature             | Description                                                |\n",
        "|---------------------|------------------------------------------------------------|\n",
        "| collection_recovery_fee | Post charge off collection fee                         |\n",
        "| last_pymnt_amnt       | Last total payment amount received                      |\n",
        "| next_pymnt_d          | Next scheduled payment date                              |\n",
        "| out_prncp             | Remaining outstanding principal for total amount funded |\n",
        "| out_prncp_inv         | Remaining outstanding principal for portion of total amount funded by investors |\n",
        "| recoveries            | Post charge off gross recovery                           |\n",
        "| total_pymnt           | Payments received to date for total amount funded       |\n",
        "|total_pymnt_inv|Payments received to date for portion of total amount funded by investors|\n",
        "| total_rec_int         | Interest received to date                                 |\n",
        "| total_rec_late_fee    | Late fees received to date                               |\n",
        "| total_rec_prncp       | Principal received to date                               |\n"
      ],
      "metadata": {
        "id": "igpIkHKRyTAj"
      }
    },
    {
      "cell_type": "code",
      "source": [
        "direct_indicators = [\n",
        "    'collection_recovery_fee',\n",
        "    'last_pymnt_amnt',\n",
        "    'out_prncp',\n",
        "    'out_prncp_inv',\n",
        "    'recoveries',\n",
        "    'total_pymnt',\n",
        "    'total_pymnt_inv',\n",
        "    'total_rec_int',\n",
        "    'total_rec_late_fee',\n",
        "    'total_rec_prncp'\n",
        "]\n",
        "\n",
        "drop_df.drop(direct_indicators, axis=1, inplace=True)"
      ],
      "metadata": {
        "execution": {
          "iopub.status.busy": "2023-12-13T03:56:20.402203Z",
          "iopub.execute_input": "2023-12-13T03:56:20.402769Z",
          "iopub.status.idle": "2023-12-13T03:56:20.462629Z",
          "shell.execute_reply.started": "2023-12-13T03:56:20.402735Z",
          "shell.execute_reply": "2023-12-13T03:56:20.461338Z"
        },
        "trusted": true,
        "id": "dgus-8anyTAj"
      },
      "execution_count": null,
      "outputs": []
    },
    {
      "cell_type": "markdown",
      "source": [
        "**4 Delete repetitive and useless object variables**\n",
        "\n",
        "| delete | reserve |\n",
        "| --- | --- |\n",
        "| emp_length | emp_length_int |"
      ],
      "metadata": {
        "id": "Lu5JQTsiyTAj"
      }
    },
    {
      "cell_type": "code",
      "source": [
        "#drop repeated features\n",
        "# drop_df.drop(['loan_condition'], axis=1, inplace=True)\n",
        "# drop_df.drop(['loan_status'], axis=1, inplace=True)\n",
        "drop_df.drop(['emp_length'], axis=1, inplace=True)\n",
        "\n",
        "drop_df.drop(['id','emp_title','url','title','zip_code'], axis=1, inplace=True)\n",
        "\n",
        "# unique values a categorical variable (object) has\n",
        "drop_df.select_dtypes(include=[\"object\"]).nunique()  #include/exclude"
      ],
      "metadata": {
        "execution": {
          "iopub.status.busy": "2023-12-13T03:56:20.464304Z",
          "iopub.execute_input": "2023-12-13T03:56:20.464689Z",
          "iopub.status.idle": "2023-12-13T03:56:20.757175Z",
          "shell.execute_reply.started": "2023-12-13T03:56:20.464657Z",
          "shell.execute_reply": "2023-12-13T03:56:20.755669Z"
        },
        "trusted": true,
        "id": "Lt30o5_oyTAj"
      },
      "execution_count": null,
      "outputs": []
    },
    {
      "cell_type": "markdown",
      "source": [
        "<a name=\"Missing-Value-Imputation\"></a>\n",
        "## Missing Value Imputation\n",
        "\n",
        "inspired by [JANIO MARTINEZ BACHMANN notebook ](https://www.kaggle.com/code/janiobachmann/lending-club-risk-analysis-and-metrics)"
      ],
      "metadata": {
        "id": "WX2QeqouyTAk"
      }
    },
    {
      "cell_type": "markdown",
      "source": [
        "\n",
        "\n",
        "\n",
        "|index|Count|Percent|Type|Imputation method |\n",
        "|---|---|---|---|---|\n",
        "|tot\\_coll\\_amt|66689|24\\.063289312260952|float64| 0 (checked the meaning, 0 suitable) |\n",
        "|total\\_rev\\_hi\\_lim|66689|24\\.063289312260952|float64|0 (checked the meaning, 0 suitable) |\n",
        "|tot\\_cur\\_bal|66689|24\\.063289312260952|float64|0 (checked the meaning, 0 suitable) |\n",
        "|emp\\_length\\_int|11101|4\\.005556758317096|float64|median|\n",
        "|last\\_pymnt\\_d|921|0\\.3323230136393159|object|mode |\n",
        "|revol\\_util|253|0\\.09128960092372086|float64|\n",
        "|collections\\_12\\_mths\\_ex\\_med|145|0\\.05232012701161868|float64|\n",
        "|pub\\_rec|29|0\\.010464025402323735|float64|median |\n",
        "|total\\_acc|29|0\\.010464025402323735|float64|median |\n",
        "|acc\\_now\\_delinq|29|0\\.010464025402323735|float64|\n",
        "|open\\_acc|29|0\\.010464025402323735|float64|\n",
        "|inq\\_last\\_6mths|29|0\\.010464025402323735|float64|\n",
        "|earliest\\_cr\\_line|29|0\\.010464025402323735|object|\n",
        "|delinq\\_2yrs|29|0\\.010464025402323735|float64|mean |\n",
        "|last\\_credit\\_pull\\_d|24|0\\.008659883091578264|object|mode |\n",
        "|annual\\_income|4|0\\.0014433138485963773|float64|mean |\n",
        "|income\\_category|4|0\\.0014433138485963773|object|mode |\n",
        "\n",
        "\n",
        "\n"
      ],
      "metadata": {
        "id": "DaYQ_9O9yTAk"
      }
    },
    {
      "cell_type": "code",
      "source": [
        "fillna_df = drop_df.copy()\n",
        "\n",
        "# for object variables - Get the mode of next payment date and last payment date and the last date credit amount was pulled\n",
        "for column in [\"last_pymnt_d\", \"last_credit_pull_d\"]:  #, 'income_category'\n",
        "    fillna_df[column] = fillna_df.groupby(\"region\")[column].transform(lambda x: x.fillna(x.mode()))\n",
        "\n",
        "# for numerical variables\n",
        "# Get the mode on the number of accounts in which the client is delinquent\n",
        "fillna_df[\"pub_rec\"] = fillna_df.groupby(\"region\")[\"pub_rec\"].transform(lambda x: x.fillna(x.median()))\n",
        "# Get the mode of the total number of credit lines the borrower has\n",
        "fillna_df[\"total_acc\"] = fillna_df.groupby(\"region\")[\"total_acc\"].transform(lambda x: x.fillna(x.median()))\n",
        "\n",
        "fillna_df[\"emp_length_int\"] = fillna_df.groupby(\"region\")[\"emp_length_int\"].transform(lambda x: x.fillna(x.median()))\n",
        "\n",
        "# Get the mean of the annual income depending on the region the client is located.\n",
        "fillna_df[\"annual_inc\"] = fillna_df.groupby(\"region\")[\"annual_inc\"].transform(lambda x: x.fillna(x.mean()))\n",
        "# Mode of credit delinquencies in the past two years.\n",
        "fillna_df[\"delinq_2yrs\"] = fillna_df.groupby(\"region\")[\"delinq_2yrs\"].transform(lambda x: x.fillna(x.mean()))"
      ],
      "metadata": {
        "execution": {
          "iopub.status.busy": "2023-12-13T03:56:23.065444Z",
          "iopub.execute_input": "2023-12-13T03:56:23.065886Z",
          "iopub.status.idle": "2023-12-13T03:56:23.382531Z",
          "shell.execute_reply.started": "2023-12-13T03:56:23.065852Z",
          "shell.execute_reply": "2023-12-13T03:56:23.381331Z"
        },
        "trusted": true,
        "id": "JfNv7-f8yTAk"
      },
      "execution_count": null,
      "outputs": []
    },
    {
      "cell_type": "code",
      "source": [
        "# for other, fill in with zero\n",
        "fillna_df.fillna(0, inplace=True)\n",
        "fillna_df.isnull().sum().max() # Maximum number of nulls."
      ],
      "metadata": {
        "execution": {
          "iopub.status.busy": "2023-12-13T03:56:23.487068Z",
          "iopub.execute_input": "2023-12-13T03:56:23.487518Z",
          "iopub.status.idle": "2023-12-13T03:56:23.847555Z",
          "shell.execute_reply.started": "2023-12-13T03:56:23.487484Z",
          "shell.execute_reply": "2023-12-13T03:56:23.846135Z"
        },
        "trusted": true,
        "id": "Uvj9KaUuyTAk"
      },
      "execution_count": null,
      "outputs": []
    },
    {
      "cell_type": "code",
      "source": [
        "len(fillna_df['loan_condition_int'])\n",
        "# Loan Ratios (Imbalanced classes)\n",
        "fillna_df['loan_condition_int'].value_counts()/len(fillna_df['loan_condition_int']) * 100"
      ],
      "metadata": {
        "execution": {
          "iopub.status.busy": "2023-12-13T03:56:23.861064Z",
          "iopub.execute_input": "2023-12-13T03:56:23.861498Z",
          "iopub.status.idle": "2023-12-13T03:56:23.873805Z",
          "shell.execute_reply.started": "2023-12-13T03:56:23.861466Z",
          "shell.execute_reply": "2023-12-13T03:56:23.872848Z"
        },
        "trusted": true,
        "id": "TJQ6jfWqyTAk"
      },
      "execution_count": null,
      "outputs": []
    },
    {
      "cell_type": "markdown",
      "source": [
        "<a name=\"Removing-Outliers\"></a>\n",
        "## Removing Outliers\n",
        "\n",
        "Custom thresholds were used to remove outliers\n",
        "(3-sigma method did not work well)"
      ],
      "metadata": {
        "id": "cspuEy4KyTAk"
      }
    },
    {
      "cell_type": "code",
      "source": [
        "#Custom thresholds\n",
        "RemoveOutlier_df = fillna_df.copy()\n",
        "print(\"Dataset before removing outlier:\",RemoveOutlier_df.shape)\n",
        "RemoveOutlier_df = RemoveOutlier_df[RemoveOutlier_df['annual_inc'] <= 250000]\n",
        "RemoveOutlier_df = RemoveOutlier_df[RemoveOutlier_df['dti'] <= 50]\n",
        "RemoveOutlier_df = RemoveOutlier_df[RemoveOutlier_df['open_acc'] <= 40]\n",
        "RemoveOutlier_df = RemoveOutlier_df[RemoveOutlier_df['total_acc'] <= 80]\n",
        "RemoveOutlier_df = RemoveOutlier_df[RemoveOutlier_df['revol_util'] <= 120]\n",
        "RemoveOutlier_df = RemoveOutlier_df[RemoveOutlier_df['revol_bal'] <= 250000]\n",
        "RemoveOutlier_df.reset_index(drop=True, inplace=True)\n",
        "print(\"Dataset after removing outlier:\",RemoveOutlier_df.shape)\n",
        "\n",
        "RemoveOutlier_df.head().transpose()"
      ],
      "metadata": {
        "execution": {
          "iopub.status.busy": "2023-12-13T03:56:25.136448Z",
          "iopub.execute_input": "2023-12-13T03:56:25.13715Z",
          "iopub.status.idle": "2023-12-13T03:56:25.477845Z",
          "shell.execute_reply.started": "2023-12-13T03:56:25.1371Z",
          "shell.execute_reply": "2023-12-13T03:56:25.476616Z"
        },
        "trusted": true,
        "id": "4v_QosapyTAn"
      },
      "execution_count": null,
      "outputs": []
    },
    {
      "cell_type": "markdown",
      "source": [
        "<a name=\"Correlation-Analysis\"></a>\n",
        "# Correlation Analysis\n",
        "\n",
        "Correlation analysis was performed on the variables to assess their importance and relationship to the target variable y. This provided insights into the most relevant variables for predicting good vs bad loans.\n",
        "\n",
        "For the correlation analysis, categorical variables were label encoded to enable numeric correlation values to be calculated. While this encoding can introduce artificial numerical relationships, it provided a convenient quick view of variable importance.\n",
        "\n",
        "For the actual model building later on, more appropriate encodings like target encoding were used for the categorical variables."
      ],
      "metadata": {
        "id": "EzusMvGCyTAn"
      }
    },
    {
      "cell_type": "code",
      "source": [
        "target_col = target_variable = \"loan_condition_int\""
      ],
      "metadata": {
        "execution": {
          "iopub.status.busy": "2023-12-13T03:56:26.094375Z",
          "iopub.execute_input": "2023-12-13T03:56:26.09508Z",
          "iopub.status.idle": "2023-12-13T03:56:26.101535Z",
          "shell.execute_reply.started": "2023-12-13T03:56:26.095029Z",
          "shell.execute_reply": "2023-12-13T03:56:26.100253Z"
        },
        "trusted": true,
        "id": "9xntad7YyTAn"
      },
      "execution_count": null,
      "outputs": []
    },
    {
      "cell_type": "code",
      "source": [
        "corr_df = RemoveOutlier_df.copy()\n",
        "\n",
        "# correlation with y\n",
        "correlation_with_loan_condition = corr_df.select_dtypes(include=['int64', 'float64']).corr()[target_variable]\n",
        "sorted_correlation = correlation_with_loan_condition.drop(target_variable).sort_values(ascending=False)\n",
        "\n",
        "# plot\n",
        "plt.figure(figsize=(12, 6))\n",
        "sns.barplot(x=sorted_correlation.index, y=sorted_correlation.values, orient='v')\n",
        "plt.xlabel('Correlation with{}'.format(target_variable))\n",
        "plt.title('Features Correlation with{}'.format(target_variable))\n",
        "plt.xticks(rotation=90)\n",
        "plt.show()\n",
        "print(sorted_correlation)"
      ],
      "metadata": {
        "execution": {
          "iopub.status.busy": "2023-12-13T03:56:26.329672Z",
          "iopub.execute_input": "2023-12-13T03:56:26.330121Z",
          "iopub.status.idle": "2023-12-13T03:56:28.460907Z",
          "shell.execute_reply.started": "2023-12-13T03:56:26.330086Z",
          "shell.execute_reply": "2023-12-13T03:56:28.459657Z"
        },
        "trusted": true,
        "id": "dr7Ay_L9yTAn"
      },
      "execution_count": null,
      "outputs": []
    },
    {
      "cell_type": "code",
      "source": [
        "# Select the variables with the highest correlation with the dependent variable and explore the correlation between them\n",
        "top_variables = sorted_correlation.abs().nlargest(10).index.tolist()\n",
        "\n",
        "plt.figure(figsize=(20, 20))\n",
        "correlation_matrix = RemoveOutlier_df[top_variables].corr()\n",
        "mask = np.tril(np.ones_like(correlation_matrix, dtype=bool))\n",
        "\n",
        "sns.heatmap(correlation_matrix, annot=True, cmap='bwr', vmin=-1, vmax=1, square=True, linewidths=0.5, mask=mask)\n",
        "plt.title('Correlation Heatmap for Numeric Columns of Interest')\n",
        "plt.show()"
      ],
      "metadata": {
        "execution": {
          "iopub.status.busy": "2023-12-13T03:56:28.463181Z",
          "iopub.execute_input": "2023-12-13T03:56:28.463546Z",
          "iopub.status.idle": "2023-12-13T03:56:29.192411Z",
          "shell.execute_reply.started": "2023-12-13T03:56:28.463514Z",
          "shell.execute_reply": "2023-12-13T03:56:29.191278Z"
        },
        "trusted": true,
        "id": "RYCfahOIyTAn"
      },
      "execution_count": null,
      "outputs": []
    },
    {
      "cell_type": "code",
      "source": [
        "# # Further, explore the specific distribution of the relationship between variables under the action of the dependent variable loan_condition_int\n",
        "# # This runs a bit slowly, so run with caution\n",
        "sample_corr_df = corr_df[top_variables + [target_variable]].sample(n=1000, random_state=42)\n",
        "sns.pairplot(sample_corr_df,hue=target_variable, diag_kind='kde',corner=True)"
      ],
      "metadata": {
        "execution": {
          "iopub.status.busy": "2023-12-13T03:57:21.228077Z",
          "iopub.execute_input": "2023-12-13T03:57:21.228564Z",
          "iopub.status.idle": "2023-12-13T03:57:54.056423Z",
          "shell.execute_reply.started": "2023-12-13T03:57:21.228529Z",
          "shell.execute_reply": "2023-12-13T03:57:54.055075Z"
        },
        "trusted": true,
        "id": "nEZG6PvJyTAn"
      },
      "execution_count": null,
      "outputs": []
    },
    {
      "cell_type": "markdown",
      "source": [
        "<a name=\"Feature-Engineering\"></a>\n",
        "# Feature Engineering\n",
        "\n",
        "Steps:\n",
        "- **Binary Encoding** for binary (Boolean) variables\n",
        "- **Target Encoding** for multivariate variables\n",
        "- **Normalization** for numeric variables\n",
        "\n",
        "\n",
        "Note:\n",
        "In order to prevent data leakage, target encoding and normalization should only be completed on the training set, and then use the same rules to change the test set.\n",
        "\n",
        "\n",
        "Something to mention:\n",
        "\n",
        "- Train Test Split: use StrattifiedShuffleSplit to have approximately the same ratio of bad loans compared to good loans in both training and testing data. --important to imbalanced dataset\n",
        "- Target Encoding: use smooth method to avoid overfitting\n"
      ],
      "metadata": {
        "id": "dxr7nUQ9yTAo"
      }
    },
    {
      "cell_type": "code",
      "source": [
        "TE_df = RemoveOutlier_df.copy()"
      ],
      "metadata": {
        "execution": {
          "iopub.status.busy": "2023-12-13T03:59:25.479578Z",
          "iopub.execute_input": "2023-12-13T03:59:25.479992Z",
          "iopub.status.idle": "2023-12-13T03:59:25.523068Z",
          "shell.execute_reply.started": "2023-12-13T03:59:25.47996Z",
          "shell.execute_reply": "2023-12-13T03:59:25.521811Z"
        },
        "trusted": true,
        "id": "Im_qClkXyTAo"
      },
      "execution_count": null,
      "outputs": []
    },
    {
      "cell_type": "code",
      "source": [
        "# divide variables into numerical variables and categorical variables, categorical variables are divided into binary variables and multivariate variables\n",
        "original_cols = TE_df.columns\n",
        "\n",
        "cat_cols = TE_df.select_dtypes(include=['object']).columns.tolist()\n",
        "num_cols = [col for col in TE_df.select_dtypes(exclude=['object']).columns.tolist() if col not in ['id', 'loan_condition_int']]\n",
        "\n",
        "dual_cat_cols = [col for col in cat_cols if TE_df[col].nunique()<=2]\n",
        "multi_cat_cols =[col for col in cat_cols if TE_df[col].nunique()>2]\n",
        "\n",
        "multi_cat_cols"
      ],
      "metadata": {
        "execution": {
          "iopub.status.busy": "2023-12-13T03:59:25.635991Z",
          "iopub.execute_input": "2023-12-13T03:59:25.636425Z",
          "iopub.status.idle": "2023-12-13T03:59:25.953595Z",
          "shell.execute_reply.started": "2023-12-13T03:59:25.636395Z",
          "shell.execute_reply": "2023-12-13T03:59:25.952249Z"
        },
        "trusted": true,
        "id": "qxowAbXsyTAo"
      },
      "execution_count": null,
      "outputs": []
    },
    {
      "cell_type": "markdown",
      "source": [
        "<a name=\"Binary-Encoding\"></a>\n",
        "## Binary Encoding for Binary Variables"
      ],
      "metadata": {
        "id": "ju0XJJmiyTAo"
      }
    },
    {
      "cell_type": "code",
      "source": [
        "# pair all categorical features with another categorical feature\n",
        "import itertools\n",
        "def combine_categories(dataframe, cat_cols, expand_dim=False):\n",
        "    df = dataframe.copy()\n",
        "    combined = list(itertools.combinations(cat_cols, 2))\n",
        "    for c1, c2 in combined:\n",
        "        df.loc[:, f'{c1}__{c2}'] = df[c1].astype(str) + '_' + df[c2].astype(str)\n",
        "        if expand_dim:\n",
        "            cat_cols.append(f'{c1}__{c2}')\n",
        "    return df, cat_cols\n",
        "\n",
        "# binary encoding for dual_cat_cols\n",
        "TE_df = pd.get_dummies(TE_df, columns=dual_cat_cols, drop_first=True)\n",
        "\n",
        "# update dual_cat_cols\n",
        "changed_columns = [col for col in TE_df.columns if col not in original_cols]\n",
        "dual_cat_cols = changed_columns\n",
        "\n",
        "TE_df.head().transpose()"
      ],
      "metadata": {
        "execution": {
          "iopub.status.busy": "2023-12-13T03:59:25.984409Z",
          "iopub.execute_input": "2023-12-13T03:59:25.984837Z",
          "iopub.status.idle": "2023-12-13T03:59:26.146341Z",
          "shell.execute_reply.started": "2023-12-13T03:59:25.984805Z",
          "shell.execute_reply": "2023-12-13T03:59:26.14513Z"
        },
        "trusted": true,
        "id": "uN9PYlMkyTAo"
      },
      "execution_count": null,
      "outputs": []
    },
    {
      "cell_type": "markdown",
      "source": [
        "## 🔪Train Test Split\n",
        "\n",
        "The purpose of the code below is to have the same ratio across our training and test sets.\n",
        "\n",
        "This should better be done before target encoding and normalization to avoid data leakage."
      ],
      "metadata": {
        "id": "BWt25C3hyTAo"
      }
    },
    {
      "cell_type": "code",
      "source": [
        "from sklearn.model_selection import StratifiedShuffleSplit\n",
        "\n",
        "stratified = StratifiedShuffleSplit(n_splits=1, test_size=0.2, random_state=42) #Specify test_size to account for 20%\n",
        "\n",
        "for train_set, test_set in stratified.split(TE_df, TE_df[target_col]):\n",
        "    stratified_train = TE_df.loc[train_set]\n",
        "    stratified_test = TE_df.loc[test_set]\n",
        "\n",
        "train_df = stratified_train\n",
        "test_df = stratified_test\n",
        "\n",
        "# Let's Shuffle the data\n",
        "train_df = train_df.sample(frac=1).reset_index(drop=True)\n",
        "test_df = test_df.sample(frac=1).reset_index(drop=True)\n",
        "\n",
        "print(train_df[target_col].value_counts()/len(TE_df))\n",
        "print(test_df[target_col].value_counts()/len(TE_df))\n",
        "train_df.shape"
      ],
      "metadata": {
        "execution": {
          "iopub.status.busy": "2023-12-13T03:59:26.3517Z",
          "iopub.execute_input": "2023-12-13T03:59:26.352147Z",
          "iopub.status.idle": "2023-12-13T03:59:26.543827Z",
          "shell.execute_reply.started": "2023-12-13T03:59:26.352112Z",
          "shell.execute_reply": "2023-12-13T03:59:26.542585Z"
        },
        "trusted": true,
        "id": "WiKS2X8xyTAo"
      },
      "execution_count": null,
      "outputs": []
    },
    {
      "cell_type": "code",
      "source": [
        "# separates the y(target variables) and X(features) for the training and testing datasets\n",
        "\n",
        "train_y = train_df[[target_col]]\n",
        "test_y = test_df[[target_col]]\n",
        "\n",
        "train_X = train_df.drop(target_col, axis=1, inplace=False)\n",
        "test_X = test_df.drop(target_col, axis=1, inplace=False)\n",
        "\n",
        "train_X.shape"
      ],
      "metadata": {
        "execution": {
          "iopub.status.busy": "2023-12-13T03:59:26.562704Z",
          "iopub.execute_input": "2023-12-13T03:59:26.563179Z",
          "iopub.status.idle": "2023-12-13T03:59:26.603839Z",
          "shell.execute_reply.started": "2023-12-13T03:59:26.563144Z",
          "shell.execute_reply": "2023-12-13T03:59:26.602519Z"
        },
        "trusted": true,
        "id": "rSlt_vlGyTAo"
      },
      "execution_count": null,
      "outputs": []
    },
    {
      "cell_type": "markdown",
      "source": [
        "until now, we have：\n",
        "\n",
        "\n",
        "| train vs test | X | y |\n",
        "| --- | --- | --- |\n",
        "| train | `train_X` | `train_y` |\n",
        "| test | `test_X` | `test_y` |"
      ],
      "metadata": {
        "id": "OthR6OUIyTAo"
      }
    },
    {
      "cell_type": "markdown",
      "source": [
        "<a name=\"Target-Encoding\"></a>\n",
        "## Target Encoding for Multicategorical Variables"
      ],
      "metadata": {
        "id": "MxYS8OY9yTAo"
      }
    },
    {
      "cell_type": "code",
      "source": [
        "# Create a data set containing only multi-categorical variables\n",
        "multi_cat_train_X = train_X[multi_cat_cols]\n",
        "multi_cat_test_X = test_X[multi_cat_cols]\n",
        "\n",
        "# Target encode categorical variables with smoothing method (on train set)\n",
        "encoder = TargetEncoder(smoothing=0.2)\n",
        "encoder.fit(multi_cat_train_X, train_y)\n",
        "\n",
        "# Apply the same encoding rules on train and test set\n",
        "encoded_multi_cat_train_X = encoder.transform(multi_cat_train_X)\n",
        "encoded_multi_cat_test_X = encoder.transform(multi_cat_test_X)\n",
        "\n",
        "encoded_train_X = pd.concat([train_X.drop(columns=multi_cat_cols), encoded_multi_cat_train_X], axis=1)\n",
        "encoded_test_X = pd.concat([test_X.drop(columns=multi_cat_cols), encoded_multi_cat_test_X], axis=1)\n",
        "\n",
        "encoded_train_X.head().transpose()"
      ],
      "metadata": {
        "execution": {
          "iopub.status.busy": "2023-12-13T03:59:27.344492Z",
          "iopub.execute_input": "2023-12-13T03:59:27.344902Z",
          "iopub.status.idle": "2023-12-13T03:59:28.530612Z",
          "shell.execute_reply.started": "2023-12-13T03:59:27.344871Z",
          "shell.execute_reply": "2023-12-13T03:59:28.529449Z"
        },
        "trusted": true,
        "id": "2bm128wjyTAp"
      },
      "execution_count": null,
      "outputs": []
    },
    {
      "cell_type": "markdown",
      "source": [
        "until now, we have：\n",
        "\n",
        "\n",
        "| train vs test | X | y |\n",
        "| --- | --- | --- |\n",
        "| train | `encoded_train_X` | `train_y` |\n",
        "| test | `encoded_test_X` | `test_y` |"
      ],
      "metadata": {
        "id": "HpsTxS9OyTAp"
      }
    },
    {
      "cell_type": "markdown",
      "source": [
        "<a name=\"Normalization\"></a>\n",
        "## Normalization for Numeric Variables"
      ],
      "metadata": {
        "id": "TioYhJtwyTAp"
      }
    },
    {
      "cell_type": "code",
      "source": [
        "scaler = StandardScaler()\n",
        "\n",
        "# Fit and apply normalization on the training set\n",
        "standardized_train_X = encoded_train_X.copy()\n",
        "standardized_train_X[num_cols] = scaler.fit_transform(encoded_train_X[num_cols])\n",
        "\n",
        "# Apply the same normalization rules on the test set\n",
        "standardized_test_X = encoded_test_X.copy()\n",
        "standardized_test_X[num_cols] = scaler.transform(encoded_test_X[num_cols])\n",
        "\n",
        "standardized_train_X.head().transpose()"
      ],
      "metadata": {
        "execution": {
          "iopub.status.busy": "2023-12-13T03:59:28.535391Z",
          "iopub.execute_input": "2023-12-13T03:59:28.535785Z",
          "iopub.status.idle": "2023-12-13T03:59:28.690274Z",
          "shell.execute_reply.started": "2023-12-13T03:59:28.535753Z",
          "shell.execute_reply": "2023-12-13T03:59:28.68912Z"
        },
        "trusted": true,
        "id": "FOQsgz06yTAp"
      },
      "execution_count": null,
      "outputs": []
    },
    {
      "cell_type": "markdown",
      "source": [
        "until now, we have：\n",
        "\n",
        "\n",
        "| train vs test | X | y |\n",
        "| --- | --- | --- |\n",
        "| train | `standardized_train_X` | `train_y` |\n",
        "| test | `standardized_test_X` | `test_y` |"
      ],
      "metadata": {
        "id": "JscZUl7LyTAp"
      }
    },
    {
      "cell_type": "markdown",
      "source": [
        "<a name=\"Dealing-with-Imbalanced-Dataset\"></a>\n",
        "# Dealing with Imbalanced Dataset\n",
        "Our data set is an unbalanced data set (80% good loans). What we are more concerned about is the accuracy of bad loan prediction, so balancing the data is particularly important."
      ],
      "metadata": {
        "id": "81LLtkDFyTAp"
      }
    },
    {
      "cell_type": "markdown",
      "source": [
        "\n",
        "\n",
        "Balanced data can be oversampled or undersampled. Random undersampling and SMOTE (oversampling) methods are provided below. Since the data set is very large, the data set after undersampling is used subsequently. In comparison, the authenticity of the data is guaranteed.\n",
        "\n",
        "![image.png](data:image/png;base64,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)"
      ],
      "metadata": {
        "id": "9d7U7SGjyTAp"
      }
    },
    {
      "cell_type": "markdown",
      "source": [
        "Undersamping our data"
      ],
      "metadata": {
        "id": "Mj75YenhyTAq"
      }
    },
    {
      "cell_type": "code",
      "source": [
        "undersampler = RandomUnderSampler(random_state=42)\n",
        "\n",
        "# Undersampling the training set\n",
        "standardized_train_X_undersample, train_y_undersample = undersampler.fit_resample(standardized_train_X, train_y)\n",
        "\n",
        "\n",
        "print('standardized_train_X_undersample.shape',standardized_train_X_undersample.shape)\n",
        "pd.value_counts(train_y_undersample.loan_condition_int).to_frame()"
      ],
      "metadata": {
        "execution": {
          "iopub.status.busy": "2023-12-13T03:59:29.309473Z",
          "iopub.execute_input": "2023-12-13T03:59:29.309876Z",
          "iopub.status.idle": "2023-12-13T03:59:29.385083Z",
          "shell.execute_reply.started": "2023-12-13T03:59:29.309846Z",
          "shell.execute_reply": "2023-12-13T03:59:29.384125Z"
        },
        "trusted": true,
        "id": "1xkh8xqCyTAq"
      },
      "execution_count": null,
      "outputs": []
    },
    {
      "cell_type": "markdown",
      "source": [
        "until now (undersampling), we have：\n",
        "\n",
        "\n",
        "| train vs test | X | y |\n",
        "| --- | --- | --- |\n",
        "| train | standardized_train_X_undersample | train_y_undersample |\n",
        "| test | standardized_test_X | test_y |"
      ],
      "metadata": {
        "id": "3Y1fQwPbyTAr"
      }
    },
    {
      "cell_type": "markdown",
      "source": [
        "Or you can use SMOTE. After testing, the effect is similar to the model after Undersampling."
      ],
      "metadata": {
        "id": "SzM2TqaEyTAr"
      }
    },
    {
      "cell_type": "code",
      "source": [
        "# smote = SMOTE(random_state=42)\n",
        "\n",
        "# # oversampling the training set\n",
        "# train_X_SMOTE, train_y_SMOTE = smote.fit_resample(standardized_train_X, train_y)"
      ],
      "metadata": {
        "execution": {
          "iopub.status.busy": "2023-12-13T03:59:31.107157Z",
          "iopub.execute_input": "2023-12-13T03:59:31.108269Z",
          "iopub.status.idle": "2023-12-13T03:59:31.112759Z",
          "shell.execute_reply.started": "2023-12-13T03:59:31.108217Z",
          "shell.execute_reply": "2023-12-13T03:59:31.111571Z"
        },
        "trusted": true,
        "id": "jwotvn8OyTAr"
      },
      "execution_count": null,
      "outputs": []
    },
    {
      "cell_type": "markdown",
      "source": [
        "<a name=\"Feature-Selection\"></a>\n",
        "# Feature Selection\n",
        "\n",
        "\n",
        "*   Filter\n",
        "*   Wrapper\n",
        "\n"
      ],
      "metadata": {
        "id": "Q2z6ipMCyTAr"
      }
    },
    {
      "cell_type": "code",
      "source": [
        "selector = VarianceThreshold(threshold=1)\n",
        "selector.fit(standardized_train_X_undersample)\n",
        "\n",
        "filtered_feature_names = standardized_train_X_undersample.columns[selector.get_support()]\n",
        "standardized_train_X_undersample_filtered = standardized_train_X_undersample[filtered_feature_names]\n",
        "\n",
        "standardized_train_X_undersample_filtered.shape"
      ],
      "metadata": {
        "execution": {
          "iopub.status.busy": "2023-12-13T03:59:31.871455Z",
          "iopub.execute_input": "2023-12-13T03:59:31.871899Z",
          "iopub.status.idle": "2023-12-13T03:59:31.924455Z",
          "shell.execute_reply.started": "2023-12-13T03:59:31.871863Z",
          "shell.execute_reply": "2023-12-13T03:59:31.923284Z"
        },
        "trusted": true,
        "id": "_S6PoCURyTAr"
      },
      "execution_count": null,
      "outputs": []
    },
    {
      "cell_type": "code",
      "source": [
        "#modify this if you want to use SMOTE\n",
        "to_wrap_train_X = standardized_train_X_undersample_filtered.copy()\n",
        "train_y = train_y_undersample.copy()"
      ],
      "metadata": {
        "execution": {
          "iopub.status.busy": "2023-12-13T03:59:31.933645Z",
          "iopub.execute_input": "2023-12-13T03:59:31.934112Z",
          "iopub.status.idle": "2023-12-13T03:59:31.948527Z",
          "shell.execute_reply.started": "2023-12-13T03:59:31.934073Z",
          "shell.execute_reply": "2023-12-13T03:59:31.947073Z"
        },
        "trusted": true,
        "id": "I4hwQbc6yTAr"
      },
      "execution_count": null,
      "outputs": []
    },
    {
      "cell_type": "code",
      "source": [
        "nfeatures = len(to_wrap_train_X.columns)\n",
        "nfeatures"
      ],
      "metadata": {
        "execution": {
          "iopub.status.busy": "2023-12-13T03:59:46.01775Z",
          "iopub.execute_input": "2023-12-13T03:59:46.018208Z",
          "iopub.status.idle": "2023-12-13T03:59:46.026326Z",
          "shell.execute_reply.started": "2023-12-13T03:59:46.018174Z",
          "shell.execute_reply": "2023-12-13T03:59:46.024961Z"
        },
        "trusted": true,
        "id": "ZdMsHPUEyTAr"
      },
      "execution_count": null,
      "outputs": []
    },
    {
      "cell_type": "markdown",
      "source": [
        "Stepwise selection wrapper will take a lot of time, so you can skip it directly and use the results I got after running it, as follows:"
      ],
      "metadata": {
        "id": "V8_Eg9m1yTAr"
      }
    },
    {
      "cell_type": "code",
      "source": [
        "vars_final = ['delinq_2yrs',\n",
        " 'last_fico_range_high',\n",
        " 'last_fico_range_low',\n",
        " 'acc_now_delinq',\n",
        " 'open_acc_6m',\n",
        " 'total_bal_il',\n",
        " 'il_util',\n",
        " 'open_rv_12m',\n",
        " 'all_util']"
      ],
      "metadata": {
        "execution": {
          "iopub.status.busy": "2023-12-13T03:59:47.262765Z",
          "iopub.execute_input": "2023-12-13T03:59:47.263213Z",
          "iopub.status.idle": "2023-12-13T03:59:47.269668Z",
          "shell.execute_reply.started": "2023-12-13T03:59:47.263177Z",
          "shell.execute_reply": "2023-12-13T03:59:47.26823Z"
        },
        "trusted": true,
        "id": "9mE5g8rQyTAr"
      },
      "execution_count": null,
      "outputs": []
    },
    {
      "cell_type": "markdown",
      "source": [
        "Or if you have time you can run it yourself （Ctrl+/ Uncomment and run）"
      ],
      "metadata": {
        "id": "q6IL2XhvyTAr"
      }
    },
    {
      "cell_type": "code",
      "source": [
        "# %%time\n",
        "# import warnings\n",
        "# warnings.filterwarnings(\"ignore\", category=DeprecationWarning)\n",
        "\n",
        "# nfeatures = len(to_wrap_train_X.columns)\n",
        "# clf = RandomForestClassifier(n_estimators=5, n_jobs=-1)\n",
        "# sfs = SFS(clf, k_features=nfeatures, forward=True, verbose=2, cv=2, n_jobs=-1)\n",
        "# sfs.fit(to_wrap_train_X, train_y)\n",
        "\n",
        "# from mlxtend.plotting import plot_sequential_feature_selection as plot_sfs\n",
        "# vars_FS = pd.DataFrame.from_dict(sfs.get_metric_dict()).T\n",
        "# vars_FS"
      ],
      "metadata": {
        "execution": {
          "iopub.status.busy": "2023-12-13T03:59:48.047293Z",
          "iopub.execute_input": "2023-12-13T03:59:48.04773Z",
          "iopub.status.idle": "2023-12-13T03:59:48.053675Z",
          "shell.execute_reply.started": "2023-12-13T03:59:48.047698Z",
          "shell.execute_reply": "2023-12-13T03:59:48.052079Z"
        },
        "trusted": true,
        "id": "tFxMb0kSyTAs"
      },
      "execution_count": null,
      "outputs": []
    },
    {
      "cell_type": "code",
      "source": [
        "# vars_final = list(vars_FS.loc[15, 'feature_names'])\n",
        "# vars_final"
      ],
      "metadata": {
        "execution": {
          "iopub.status.busy": "2023-12-13T03:59:48.264085Z",
          "iopub.execute_input": "2023-12-13T03:59:48.264562Z",
          "iopub.status.idle": "2023-12-13T03:59:48.270427Z",
          "shell.execute_reply.started": "2023-12-13T03:59:48.264514Z",
          "shell.execute_reply": "2023-12-13T03:59:48.269134Z"
        },
        "trusted": true,
        "id": "N3oitfhpyTAs"
      },
      "execution_count": null,
      "outputs": []
    },
    {
      "cell_type": "code",
      "source": [
        "# fig1 = plot_sfs(sfs.get_metric_dict(),kind='std_dev', figsize=(8, 5))\n",
        "# plt.xticks(np.arange(0, len(to_wrap_train_X.columns), step=5))\n",
        "\n",
        "# # plt.ylim([0.9, 1.0])\n",
        "# plt.xlim(0,len(to_wrap_train_X.columns))\n",
        "# plt.title('Stepwise Selection')\n",
        "# plt.grid()\n",
        "# plt.show()"
      ],
      "metadata": {
        "execution": {
          "iopub.status.busy": "2023-12-13T03:59:48.448627Z",
          "iopub.execute_input": "2023-12-13T03:59:48.449081Z",
          "iopub.status.idle": "2023-12-13T03:59:48.454652Z",
          "shell.execute_reply.started": "2023-12-13T03:59:48.449017Z",
          "shell.execute_reply": "2023-12-13T03:59:48.453708Z"
        },
        "trusted": true,
        "id": "7fVxwhdcyTAs"
      },
      "execution_count": null,
      "outputs": []
    },
    {
      "cell_type": "code",
      "source": [
        "# Use wrapper to reduce variables\n",
        "wrapped_train_X = to_wrap_train_X.filter(vars_final, axis=1)\n",
        "wrapped_test_X = standardized_test_X.filter(vars_final, axis=1)\n",
        "\n",
        "\n",
        "print(\"final train/test X shape (target encoded):\", wrapped_train_X.shape, wrapped_test_X.shape)\n",
        "print(\"final train/test y shape:\", train_y.shape, test_y.shape)"
      ],
      "metadata": {
        "execution": {
          "iopub.status.busy": "2023-12-13T03:59:48.727512Z",
          "iopub.execute_input": "2023-12-13T03:59:48.727928Z",
          "iopub.status.idle": "2023-12-13T03:59:48.738275Z",
          "shell.execute_reply.started": "2023-12-13T03:59:48.727897Z",
          "shell.execute_reply": "2023-12-13T03:59:48.737063Z"
        },
        "trusted": true,
        "id": "NjWMhoJryTAs"
      },
      "execution_count": null,
      "outputs": []
    },
    {
      "cell_type": "code",
      "source": [
        "wrapped_train_X.head()"
      ],
      "metadata": {
        "execution": {
          "iopub.status.busy": "2023-12-13T03:59:50.139576Z",
          "iopub.execute_input": "2023-12-13T03:59:50.14001Z",
          "iopub.status.idle": "2023-12-13T03:59:50.15869Z",
          "shell.execute_reply.started": "2023-12-13T03:59:50.139977Z",
          "shell.execute_reply": "2023-12-13T03:59:50.157369Z"
        },
        "trusted": true,
        "id": "BOjSf3RQyTAs"
      },
      "execution_count": null,
      "outputs": []
    },
    {
      "cell_type": "markdown",
      "source": [
        "until now, we have：\n",
        "\n",
        "\n",
        "| train vs test | X | y |\n",
        "| --- | --- | --- |\n",
        "| train | wrapped_train_X | train_y |\n",
        "| test | wrapped_test_X | test_y |"
      ],
      "metadata": {
        "id": "i3FJpSkuyTAs"
      }
    },
    {
      "cell_type": "markdown",
      "source": [
        "<a name=\"Model-Building\"></a>\n",
        "# Model Building\n",
        "\n",
        "Models:\n",
        "\n",
        "\n",
        "*   Logistic Regression\n",
        "*   Decision Tree\n",
        "*   K Nearest Neighbors\n",
        "*   Random Forest\n",
        "*   Gaussian Naive Bayes\n",
        "*   Light GBM\n",
        "*   XGBoost\n",
        "*   Gradient Boosting\n",
        "*   Neural Network\n",
        "\n",
        "**5-fold Cross Validation**: The model was trained on the training set and 5-fold cross-validation was used to assess model accuracy during training.\n",
        "\n"
      ],
      "metadata": {
        "id": "iLniRYcsyTAs"
      }
    },
    {
      "cell_type": "code",
      "source": [
        "from sklearn.metrics import accuracy_score, confusion_matrix, precision_score, recall_score, f1_score\n",
        "\n",
        "def plot_confusion_matrix(mean_conf_matrix, xtick_labels=None, ytick_labels=None):\n",
        "    fig, axes = plt.subplots(figsize=(8, 6))\n",
        "    default_style = sns.axes_style()\n",
        "    # sns.set(font_scale=1.5)\n",
        "    ax = sns.heatmap(mean_conf_matrix.T, annot=True, cmap='Blues', fmt=\".1f\",annot_kws={\"size\": 18})\n",
        "    if xtick_labels:\n",
        "        ax.set_xticklabels(xtick_labels)\n",
        "    if ytick_labels:\n",
        "        ax.set_yticklabels(ytick_labels)\n",
        "\n",
        "\n",
        "    ax.set_xlabel('True Label')\n",
        "    ax.set_ylabel('Predicted Label')\n",
        "    ax.axis('equal')\n",
        "    plt.title('Mean Confusion Matrix')\n",
        "    sns.set_style(default_style)\n",
        "    plt.show()\n",
        "\n",
        "def calculate_scores(model, X_trn, y_trn, X_tst, y_tst):\n",
        "    \"\"\"Calculate various classification scores on the test set\"\"\"\n",
        "    model.fit(X_trn, y_trn)\n",
        "    y_pred = model.predict(X_tst)\n",
        "    accuracy = accuracy_score(y_tst, y_pred)\n",
        "\n",
        "    # Calculate confusion matrix\n",
        "    conf_matrix = confusion_matrix(y_tst, y_pred)\n",
        "\n",
        "    # Calculate precision, recall, and F1-score\n",
        "    precision = precision_score(y_tst, y_pred)\n",
        "    recall = recall_score(y_tst, y_pred)\n",
        "    f1 = f1_score(y_tst, y_pred)\n",
        "\n",
        "    y_pred_proba = model.predict_proba(X_tst)[:,1]\n",
        "    auc = roc_auc_score(y_tst, y_pred_proba)\n",
        "\n",
        "    mask = y_tst['loan_condition_int'].astype(bool).values\n",
        "    churn = y_pred_proba[mask]\n",
        "    not_churn = y_pred_proba[~mask]\n",
        "    ks = sps.ks_2samp(churn, not_churn)[0]\n",
        "\n",
        "    return accuracy, auc, ks, conf_matrix, precision, recall, f1\n",
        "\n",
        "def fit_first_level(models, X_trn, y_trn, X_tst):\n",
        "    \"\"\"\n",
        "    Prepare first-level model fitting for stacking. Only used during model stacking.\n",
        "    Output the predicted probabilities of the first-level models as features for the stacking model.\n",
        "    \"\"\"\n",
        "    # Create dataframes to store predictions of the first-level models\n",
        "    X2_trn = np.zeros((len(X_trn), 2 * len(models)))\n",
        "    X2_tst = np.zeros((len(X_tst), 2 * len(models)))\n",
        "\n",
        "    for i, model in enumerate(models.values()):\n",
        "        print(\"Stacking with\", model)\n",
        "\n",
        "        model.fit(X_trn, y_trn)\n",
        "        y_trn_pred_proba = model.predict_proba(X_trn)\n",
        "        y_tst_pred_proba = model.predict_proba(X_tst)\n",
        "\n",
        "        X2_trn[:, i*2:(i+1)*2] = y_trn_pred_proba\n",
        "        X2_tst[:, i*2:(i+1)*2] = y_tst_pred_proba\n",
        "\n",
        "    return X2_trn, X2_tst\n",
        "\n",
        "def calculate_cv_scores(model, X, y, cv=5, stacking=False, models=None, verbose=False):\n",
        "    \"\"\"Calculate average k-fold cross-validated classification scores\"\"\"\n",
        "    kf = KFold(n_splits=cv, shuffle=True)\n",
        "    accuracy_scores = []\n",
        "    auc_scores = []\n",
        "    ks_scores = []\n",
        "    conf_matrices = []  # Store confusion matrices for each fold\n",
        "    precision_scores = []\n",
        "    recall_scores = []\n",
        "    f1_scores = []\n",
        "    fold_count = 0\n",
        "\n",
        "    for train_index, test_index in kf.split(X):\n",
        "        X_trn, X_tst = X.iloc[train_index], X.iloc[test_index]\n",
        "        y_trn, y_tst = y.iloc[train_index], y.iloc[test_index]\n",
        "\n",
        "        if stacking:\n",
        "            # smote = False\n",
        "            X_trn, X_tst = fit_first_level(models, X_trn, y_trn, X_tst)\n",
        "\n",
        "        accuracy, auc, ks, conf_matrix, precision, recall, f1 = calculate_scores(model, X_trn, y_trn, X_tst, y_tst)\n",
        "        accuracy_scores.append(accuracy)\n",
        "        auc_scores.append(auc)\n",
        "        ks_scores.append(ks)\n",
        "        conf_matrices.append(conf_matrix)\n",
        "        precision_scores.append(precision)\n",
        "        recall_scores.append(recall)\n",
        "        f1_scores.append(f1)\n",
        "\n",
        "        # if verbose:\n",
        "        #     print(f\"Fold {fold_count} accuracy, auc, ks:\", accuracy, auc, ks)\n",
        "\n",
        "        fold_count += 1\n",
        "\n",
        "    # mean confusion matrix\n",
        "    mean_conf_matrix = np.mean(conf_matrices, axis=0) #/ np.sum(np.mean(conf_matrices, axis=0)))\n",
        "    print(f\"Mean Confusion Matrix for Model:\\n\", mean_conf_matrix)\n",
        "    plot_confusion_matrix(mean_conf_matrix, xtick_labels=['Good Loan', 'Bad Loan'], ytick_labels=['Good Loan', 'Bad Loan'])\n",
        "\n",
        "    return np.mean(accuracy_scores), np.mean(auc_scores), np.mean(ks_scores), np.mean(precision_scores), np.mean(recall_scores), np.mean(f1_scores)\n",
        "\n",
        "def fit_models_summary(models, X, y, cv=5, smote = False,undersample = False):\n",
        "    \"\"\"\n",
        "    Calculate average k-fold cross-validated classification scores for multiple models.\n",
        "    Generate a summary dataframe.\n",
        "    \"\"\"\n",
        "    baseline = pd.DataFrame(columns=['accuracy', 'auc', 'ks', 'precision', 'recall', 'f1'])\n",
        "\n",
        "    for name, model in models.items():\n",
        "        # accuracy, auc, ks, precision, recall, f1 = calculate_cv_scores(model, X, y, cv=cv, smote=False)\n",
        "        # baseline.loc[name] = [accuracy, auc, ks, None, precision, recall, f1]\n",
        "\n",
        "        accuracy, auc, ks, precision, recall, f1 = calculate_cv_scores(model, X, y, cv=cv)\n",
        "\n",
        "        if smote:\n",
        "            baseline.loc[\"{} (SMOTE)\".format(name)] = [accuracy, auc, ks, precision, recall, f1]\n",
        "        if undersample:\n",
        "            baseline.loc[\"{} (undersample)\".format(name)] = [accuracy, auc, ks, precision, recall, f1]\n",
        "\n",
        "        print(f\"{name} processed\")\n",
        "\n",
        "    return baseline"
      ],
      "metadata": {
        "execution": {
          "iopub.status.busy": "2023-12-13T03:59:53.127609Z",
          "iopub.execute_input": "2023-12-13T03:59:53.128082Z",
          "iopub.status.idle": "2023-12-13T03:59:53.158576Z",
          "shell.execute_reply.started": "2023-12-13T03:59:53.12803Z",
          "shell.execute_reply": "2023-12-13T03:59:53.157145Z"
        },
        "trusted": true,
        "id": "TojS7y41yTAs"
      },
      "execution_count": null,
      "outputs": []
    },
    {
      "cell_type": "code",
      "source": [
        "mss=60\n",
        "msl=int(mss/2)\n",
        "\n",
        "models = {\n",
        "     'Logistic Regression': LogisticRegression(),\n",
        "     'Decision Tree': DecisionTreeClassifier(max_depth=10,min_samples_split=mss,min_samples_leaf=msl),\n",
        "     'K Nearest Neighbors': KNeighborsClassifier(n_neighbors=20),\n",
        "     'Random Forest': RandomForestClassifier(n_estimators=20,max_depth=10),\n",
        "     'Gaussian Naive Bayes': GaussianNB(var_smoothing=1),\n",
        "     'Light GBM': LGBMClassifier(n_estimators=50,max_depth=3),\n",
        "     'XGBoost': XGBClassifier(n_estimators=50,max_depth=3),\n",
        "     'Gradient Boosting': GradientBoostingClassifier(n_estimators=50,max_depth=3),\n",
        "     \"Neural Network\": MLPClassifier(hidden_layer_sizes = (10,10)),\n",
        "# #     'Support Vector Machine': SVC()\n",
        "}"
      ],
      "metadata": {
        "execution": {
          "iopub.status.busy": "2023-12-13T03:59:54.078611Z",
          "iopub.execute_input": "2023-12-13T03:59:54.079026Z",
          "iopub.status.idle": "2023-12-13T03:59:54.088359Z",
          "shell.execute_reply.started": "2023-12-13T03:59:54.078995Z",
          "shell.execute_reply": "2023-12-13T03:59:54.086807Z"
        },
        "trusted": true,
        "id": "N1Q6jNa3yTAt"
      },
      "execution_count": null,
      "outputs": []
    },
    {
      "cell_type": "code",
      "source": [
        "# test baseline models on undersampling dataset\n",
        "baseline_tgt = fit_models_summary(models, wrapped_train_X, train_y, undersample=True)"
      ],
      "metadata": {
        "execution": {
          "iopub.status.busy": "2023-12-12T13:56:28.268133Z",
          "iopub.execute_input": "2023-12-12T13:56:28.269135Z",
          "iopub.status.idle": "2023-12-12T13:57:07.237694Z",
          "shell.execute_reply.started": "2023-12-12T13:56:28.269074Z",
          "shell.execute_reply": "2023-12-12T13:57:07.236794Z"
        },
        "trusted": true,
        "id": "Q0olvhmiyTAt"
      },
      "execution_count": null,
      "outputs": []
    },
    {
      "cell_type": "code",
      "source": [
        "baseline_tgt"
      ],
      "metadata": {
        "execution": {
          "iopub.status.busy": "2023-12-12T13:50:49.196001Z",
          "iopub.execute_input": "2023-12-12T13:50:49.196534Z",
          "iopub.status.idle": "2023-12-12T13:50:49.214842Z",
          "shell.execute_reply.started": "2023-12-12T13:50:49.196495Z",
          "shell.execute_reply": "2023-12-12T13:50:49.213405Z"
        },
        "trusted": true,
        "id": "vlUuw6aHyTAt"
      },
      "execution_count": null,
      "outputs": []
    },
    {
      "cell_type": "markdown",
      "source": [
        "<a name=\"Model-Stacking\"></a>\n",
        "# Model Bagging and Stacking"
      ],
      "metadata": {
        "id": "Upuj0Xl-yTAt"
      }
    },
    {
      "cell_type": "markdown",
      "source": [
        "Bagging"
      ],
      "metadata": {
        "id": "N_6B4yP_yTAt"
      }
    },
    {
      "cell_type": "code",
      "source": [
        "models = {\n",
        "     'Logistic Regression': LogisticRegression(),\n",
        "     'Decision Tree': DecisionTreeClassifier(max_depth=10,min_samples_split=mss,min_samples_leaf=msl),\n",
        "    #  'K Nearest Neighbors': KNeighborsClassifier(n_neighbors=20),\n",
        "     'Random Forest': RandomForestClassifier(n_estimators=20,max_depth=10),\n",
        "    #  'Gaussian Naive Bayes': GaussianNB(var_smoothing=1),\n",
        "     'Light GBM': LGBMClassifier(n_estimators=50,max_depth=3),\n",
        "     'XGBoost': XGBClassifier(n_estimators=50,max_depth=3),\n",
        "     'Gradient Boosting': GradientBoostingClassifier(n_estimators=50,max_depth=3),\n",
        "     \"Neural Network\": MLPClassifier(hidden_layer_sizes = (10,10))\n",
        "}"
      ],
      "metadata": {
        "execution": {
          "iopub.status.busy": "2023-12-12T14:03:00.184657Z",
          "iopub.execute_input": "2023-12-12T14:03:00.185105Z",
          "iopub.status.idle": "2023-12-12T14:03:00.197056Z",
          "shell.execute_reply.started": "2023-12-12T14:03:00.185067Z",
          "shell.execute_reply": "2023-12-12T14:03:00.195719Z"
        },
        "trusted": true,
        "id": "XGRmcw8tyTAt"
      },
      "execution_count": null,
      "outputs": []
    },
    {
      "cell_type": "code",
      "source": [
        "performance_df = pd.DataFrame(columns=['accuracy', 'auc', 'ks', 'precision', 'recall', 'f1'])\n",
        "\n",
        "bagging_models = {}\n",
        "\n",
        "for model_name, model in models.items():\n",
        "    print(\"processing: \", model_name)\n",
        "    bagging_model = BaggingClassifier(base_estimator=model, n_estimators=10, random_state=42)\n",
        "\n",
        "    # Training Bagging model\n",
        "    bagging_model.fit(wrapped_train_X, train_y)\n",
        "\n",
        "    bagging_models[model_name + '_bagging'] = bagging_model\n",
        "    accuracy, auc, ks, conf_matrix, precision, recall, f1 = calculate_scores(bagging_model, wrapped_train_X, train_y, wrapped_test_X, test_y)\n",
        "    performance_dict = {\n",
        "        'accuracy': accuracy,\n",
        "        'auc': auc,\n",
        "        'ks': ks,\n",
        "        'precision': precision,\n",
        "        'recall': recall,\n",
        "        'f1': f1\n",
        "    }\n",
        "    performance_df.loc[model_name + ' (bagging)'] = performance_dict\n",
        "\n",
        "performance_df"
      ],
      "metadata": {
        "execution": {
          "iopub.status.busy": "2023-12-12T14:03:01.020444Z",
          "iopub.execute_input": "2023-12-12T14:03:01.02163Z",
          "iopub.status.idle": "2023-12-12T14:05:04.287143Z",
          "shell.execute_reply.started": "2023-12-12T14:03:01.02158Z",
          "shell.execute_reply": "2023-12-12T14:05:04.28599Z"
        },
        "trusted": true,
        "id": "fvUrosS6yTAt"
      },
      "execution_count": null,
      "outputs": []
    },
    {
      "cell_type": "markdown",
      "source": [
        "Stacking"
      ],
      "metadata": {
        "id": "qBPRE_7HyTAt"
      }
    },
    {
      "cell_type": "code",
      "source": [
        "%%time\n",
        "stack_model = XGBClassifier(max_depth = 3)\n",
        "accuracy, auc, ks, precision, recall, f1 = calculate_cv_scores(stack_model, wrapped_train_X, train_y,\n",
        "                                        stacking = True, models = models,\n",
        "                                        verbose = True)\n",
        "print('Stacking baseline:')\n",
        "print('Accuracy:', accuracy)\n",
        "print('AUC:', auc)\n",
        "print('recall:', recall)"
      ],
      "metadata": {
        "execution": {
          "iopub.status.busy": "2023-12-12T13:54:36.510187Z",
          "iopub.execute_input": "2023-12-12T13:54:36.510994Z",
          "iopub.status.idle": "2023-12-12T13:55:14.37887Z",
          "shell.execute_reply.started": "2023-12-12T13:54:36.510934Z",
          "shell.execute_reply": "2023-12-12T13:55:14.377567Z"
        },
        "trusted": true,
        "id": "ovyed6hfyTAt"
      },
      "execution_count": null,
      "outputs": []
    },
    {
      "cell_type": "markdown",
      "source": [
        "<a name=\"Model-Evaluation\"></a>\n",
        "# Model Evaluation on Test Set\n",
        "**Performance on test set:** models were evaluated on the held-out test set to obtain true test accuracy."
      ],
      "metadata": {
        "id": "oMHLO7l4yTAt"
      }
    },
    {
      "cell_type": "code",
      "source": [
        "holdout_summary = pd.DataFrame(columns = ['accuracy','auc','ks','precision','recall','f1'])\n",
        "\n",
        "X_trn, y_trn = wrapped_train_X, train_y\n",
        "\n",
        "for name, model in models.items():\n",
        "    accuracy, auc, ks, conf_matrix, precision, recall, f1 = calculate_scores(model, X_trn, y_trn, wrapped_test_X, test_y)\n",
        "    holdout_summary.loc[name] = [accuracy, auc, ks, precision, recall, f1]\n",
        "\n",
        "X2_trn, X2_tst = fit_first_level(models, wrapped_train_X, train_y, wrapped_test_X)\n",
        "\n",
        "\n",
        "# add bagging model performance\n",
        "for model_name, bagging_model in bagging_models.items():\n",
        "    accuracy, auc, ks, conf_matrix, precision, recall, f1 = calculate_scores(bagging_model, wrapped_train_X, train_y, wrapped_test_X, test_y)\n",
        "    holdout_summary.loc[model_name] = [accuracy, auc, ks, precision, recall, f1]\n",
        "\n",
        "\n",
        "# add stack model performance\n",
        "stack_model = XGBClassifier()\n",
        "accuracy, auc, ks, conf_matrix, precision, recall, f1 = calculate_scores(stack_model, X2_trn, train_y, X2_tst, test_y)\n",
        "holdout_summary.loc['Stacking Model (XGB)'] = [accuracy, auc, ks, precision, recall, f1]"
      ],
      "metadata": {
        "execution": {
          "iopub.status.busy": "2023-12-12T14:08:03.220676Z",
          "iopub.execute_input": "2023-12-12T14:08:03.221498Z",
          "iopub.status.idle": "2023-12-12T14:09:25.591718Z",
          "shell.execute_reply.started": "2023-12-12T14:08:03.221437Z",
          "shell.execute_reply": "2023-12-12T14:09:25.590706Z"
        },
        "trusted": true,
        "id": "OPOWu2ToyTAu"
      },
      "execution_count": null,
      "outputs": []
    },
    {
      "cell_type": "code",
      "source": [
        "holdout_summary"
      ],
      "metadata": {
        "execution": {
          "iopub.status.busy": "2023-12-12T14:12:16.885014Z",
          "iopub.execute_input": "2023-12-12T14:12:16.885671Z",
          "iopub.status.idle": "2023-12-12T14:12:16.903712Z",
          "shell.execute_reply.started": "2023-12-12T14:12:16.885619Z",
          "shell.execute_reply": "2023-12-12T14:12:16.902386Z"
        },
        "trusted": true,
        "id": "hLgPmLrfyTAu"
      },
      "execution_count": null,
      "outputs": []
    },
    {
      "cell_type": "markdown",
      "source": [
        "**Conclusion**\n",
        "- The performance scores on the hold-out set are nearly the same with the cross-validated scores on the training set. This is a good sign that the models don't overfit.\n",
        "- The performance of the models are very close to each other. For computation and interpretability concerns, the Logistic Regression/ Decision Tree/ Random Forest model with undersampling method is recommended."
      ],
      "metadata": {
        "id": "GN0DtX2wyTAu"
      }
    }
  ]
}