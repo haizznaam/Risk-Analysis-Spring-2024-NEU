{
 "cells": [
  {
   "cell_type": "markdown",
   "metadata": {},
   "source": [
    "# Value at Risk - VaR"
   ]
  },
  {
   "cell_type": "markdown",
   "metadata": {},
   "source": [
    "## Packages"
   ]
  },
  {
   "cell_type": "code",
   "execution_count": 25,
   "metadata": {},
   "outputs": [],
   "source": [
    "import pandas as pd\n",
    "import numpy as np\n",
    "import datetime as dt\n",
    "from scipy.stats import norm\n",
    "from scipy.stats import kurtosis, skew\n",
    "import matplotlib.mlab as mlab\n",
    "import matplotlib.pyplot as plt"
   ]
  },
  {
   "cell_type": "markdown",
   "metadata": {},
   "source": [
    "## Create our Portfolio of Currencies"
   ]
  },
  {
   "cell_type": "code",
   "execution_count": 26,
   "metadata": {},
   "outputs": [],
   "source": [
    "dolar_path = \"https://ptax.bcb.gov.br/ptax_internet/consultaBoletim.do?method=gerarCSVFechamentoMoedaNoPeriodo&ChkMoeda=61&DATAINI=01/01/2000&DATAFIM=17/02/2023\"\n",
    "euro_path = \"https://ptax.bcb.gov.br/ptax_internet/consultaBoletim.do?method=gerarCSVFechamentoMoedaNoPeriodo&ChkMoeda=222&DATAINI=01/01/2000&DATAFIM=17/02/2023\"\n",
    "libra_path = \"https://ptax.bcb.gov.br/ptax_internet/consultaBoletim.do?method=gerarCSVFechamentoMoedaNoPeriodo&ChkMoeda=115&DATAINI=01/01/2000&DATAFIM=17/02/2023\"\n",
    "franco_path = \"https://ptax.bcb.gov.br/ptax_internet/consultaBoletim.do?method=gerarCSVFechamentoMoedaNoPeriodo&ChkMoeda=97&DATAINI=01/01/2000&DATAFIM=17/02/2023\""
   ]
  },
  {
   "cell_type": "markdown",
   "metadata": {},
   "source": [
    "## Set a Arbitrarily Investment Weights (Đặt trọng số tùy ý)"
   ]
  },
  {
   "cell_type": "code",
   "execution_count": 27,
   "metadata": {},
   "outputs": [],
   "source": [
    "weights = np.array([0.25, 0.25,0.25,0.25])"
   ]
  },
  {
   "cell_type": "markdown",
   "metadata": {},
   "source": [
    "## Initial Investment Amount"
   ]
  },
  {
   "cell_type": "code",
   "execution_count": 28,
   "metadata": {},
   "outputs": [],
   "source": [
    "initial_investment = 10_000"
   ]
  },
  {
   "cell_type": "markdown",
   "metadata": {},
   "source": [
    "## Dowloading Closing Prices"
   ]
  },
  {
   "cell_type": "code",
   "execution_count": 29,
   "metadata": {},
   "outputs": [],
   "source": [
    "dolar = pd.read_csv(dolar_path, sep=';', decimal=',', engine='python',\n",
    "                    names=['Data', 'Tipo1', 'Tipo2', 'MOEDA', 'PTAX_COMPRA', 'PTAX_VENDA', 'INVERSO1', 'INVERSO2'], usecols=['Data', 'PTAX_VENDA'])\n",
    "\n",
    "euro = pd.read_csv(euro_path, sep=';', decimal=',', engine='python',\n",
    "                   names=['Data', 'Tipo1', 'Tipo2', 'MOEDA', 'PTAX_COMPRA', 'PTAX_VENDA', 'INVERSO1', 'INVERSO2'], usecols=['Data', 'PTAX_VENDA'])\n",
    "\n",
    "libra = pd.read_csv(libra_path, sep=';', decimal=',', engine='python',\n",
    "                    names=['Data', 'Tipo1', 'Tipo2', 'MOEDA', 'PTAX_COMPRA', 'PTAX_VENDA', 'INVERSO1', 'INVERSO2'], usecols=['Data', 'PTAX_VENDA'])\n",
    "\n",
    "franco = pd.read_csv(franco_path, sep=';', decimal=',', engine='python',\n",
    "                 names=['Data', 'Tipo1','Tipo2','MOEDA','PTAX_COMPRA','PTAX_VENDA','INVERSO1','INVERSO2'],usecols=['Data','PTAX_VENDA'])"
   ]
  },
  {
   "cell_type": "code",
   "execution_count": 30,
   "metadata": {},
   "outputs": [
    {
     "data": {
      "text/html": [
       "<div>\n",
       "<style scoped>\n",
       "    .dataframe tbody tr th:only-of-type {\n",
       "        vertical-align: middle;\n",
       "    }\n",
       "\n",
       "    .dataframe tbody tr th {\n",
       "        vertical-align: top;\n",
       "    }\n",
       "\n",
       "    .dataframe thead th {\n",
       "        text-align: right;\n",
       "    }\n",
       "</style>\n",
       "<table border=\"1\" class=\"dataframe\">\n",
       "  <thead>\n",
       "    <tr style=\"text-align: right;\">\n",
       "      <th></th>\n",
       "      <th>Data</th>\n",
       "      <th>PTAX_VENDA</th>\n",
       "    </tr>\n",
       "  </thead>\n",
       "  <tbody>\n",
       "    <tr>\n",
       "      <th>0</th>\n",
       "      <td>3012000</td>\n",
       "      <td>1.85047</td>\n",
       "    </tr>\n",
       "    <tr>\n",
       "      <th>1</th>\n",
       "      <td>4012000</td>\n",
       "      <td>1.89150</td>\n",
       "    </tr>\n",
       "    <tr>\n",
       "      <th>2</th>\n",
       "      <td>5012000</td>\n",
       "      <td>1.91582</td>\n",
       "    </tr>\n",
       "    <tr>\n",
       "      <th>3</th>\n",
       "      <td>6012000</td>\n",
       "      <td>1.90761</td>\n",
       "    </tr>\n",
       "    <tr>\n",
       "      <th>4</th>\n",
       "      <td>7012000</td>\n",
       "      <td>1.88241</td>\n",
       "    </tr>\n",
       "  </tbody>\n",
       "</table>\n",
       "</div>"
      ],
      "text/plain": [
       "      Data  PTAX_VENDA\n",
       "0  3012000     1.85047\n",
       "1  4012000     1.89150\n",
       "2  5012000     1.91582\n",
       "3  6012000     1.90761\n",
       "4  7012000     1.88241"
      ]
     },
     "execution_count": 30,
     "metadata": {},
     "output_type": "execute_result"
    }
   ],
   "source": [
    "euro.head()"
   ]
  },
  {
   "cell_type": "code",
   "execution_count": 31,
   "metadata": {},
   "outputs": [
    {
     "name": "stdout",
     "output_type": "stream",
     "text": [
      "<class 'pandas.core.frame.DataFrame'>\n",
      "RangeIndex: 5812 entries, 0 to 5811\n",
      "Data columns (total 2 columns):\n",
      " #   Column      Non-Null Count  Dtype  \n",
      "---  ------      --------------  -----  \n",
      " 0   Data        5812 non-null   int64  \n",
      " 1   PTAX_VENDA  5812 non-null   float64\n",
      "dtypes: float64(1), int64(1)\n",
      "memory usage: 90.9 KB\n"
     ]
    }
   ],
   "source": [
    "euro.info()"
   ]
  },
  {
   "cell_type": "code",
   "execution_count": 32,
   "metadata": {},
   "outputs": [
    {
     "data": {
      "text/html": [
       "<div>\n",
       "<style scoped>\n",
       "    .dataframe tbody tr th:only-of-type {\n",
       "        vertical-align: middle;\n",
       "    }\n",
       "\n",
       "    .dataframe tbody tr th {\n",
       "        vertical-align: top;\n",
       "    }\n",
       "\n",
       "    .dataframe thead th {\n",
       "        text-align: right;\n",
       "    }\n",
       "</style>\n",
       "<table border=\"1\" class=\"dataframe\">\n",
       "  <thead>\n",
       "    <tr style=\"text-align: right;\">\n",
       "      <th></th>\n",
       "      <th>Data</th>\n",
       "      <th>PTAX_VENDA</th>\n",
       "    </tr>\n",
       "  </thead>\n",
       "  <tbody>\n",
       "    <tr>\n",
       "      <th>0</th>\n",
       "      <td>3012000</td>\n",
       "      <td>1.8011</td>\n",
       "    </tr>\n",
       "    <tr>\n",
       "      <th>1</th>\n",
       "      <td>4012000</td>\n",
       "      <td>1.8337</td>\n",
       "    </tr>\n",
       "    <tr>\n",
       "      <th>2</th>\n",
       "      <td>5012000</td>\n",
       "      <td>1.8544</td>\n",
       "    </tr>\n",
       "    <tr>\n",
       "      <th>3</th>\n",
       "      <td>6012000</td>\n",
       "      <td>1.8461</td>\n",
       "    </tr>\n",
       "    <tr>\n",
       "      <th>4</th>\n",
       "      <td>7012000</td>\n",
       "      <td>1.8281</td>\n",
       "    </tr>\n",
       "  </tbody>\n",
       "</table>\n",
       "</div>"
      ],
      "text/plain": [
       "      Data  PTAX_VENDA\n",
       "0  3012000      1.8011\n",
       "1  4012000      1.8337\n",
       "2  5012000      1.8544\n",
       "3  6012000      1.8461\n",
       "4  7012000      1.8281"
      ]
     },
     "execution_count": 32,
     "metadata": {},
     "output_type": "execute_result"
    }
   ],
   "source": [
    "dolar.head()"
   ]
  },
  {
   "cell_type": "markdown",
   "metadata": {},
   "source": [
    "## Data Preparation"
   ]
  },
  {
   "cell_type": "code",
   "execution_count": 33,
   "metadata": {},
   "outputs": [],
   "source": [
    "def arrmua_data(df):\n",
    "    df['Date'] = df['Data'].apply(str)\n",
    "    df['year'] = df['Date'].str[-4:].apply(int)\n",
    "    df['month'] = df['Date'].str[-6:-4].apply(int)\n",
    "    df['day'] = df['Date'].str[-8:-6].apply(int)\n",
    "    df['Date'] = pd.to_datetime(df[['year','month','day']])\n",
    "\n",
    "arrmua_data(dolar)\n",
    "arrmua_data(euro)\n",
    "arrmua_data(libra)\n",
    "arrmua_data(franco)\n",
    "\n",
    "euro['EUR'] = euro['PTAX_VENDA']\n",
    "dolar['USD'] = dolar['PTAX_VENDA']\n",
    "libra['GBP'] = libra['PTAX_VENDA']\n",
    "franco['CHF'] = franco['PTAX_VENDA']"
   ]
  },
  {
   "cell_type": "code",
   "execution_count": 34,
   "metadata": {},
   "outputs": [],
   "source": [
    "euro = euro[['Date', 'EUR']]\n",
    "euro.set_index('Date', inplace=True)\n",
    "\n",
    "dolar = dolar[['Date', 'USD']]\n",
    "dolar.set_index('Date', inplace=True)\n",
    "\n",
    "libra = libra[['Date', 'GBP']]\n",
    "libra.set_index('Date', inplace=True)\n",
    "\n",
    "franco = franco[['Date', 'CHF']]\n",
    "franco.set_index('Date', inplace=True)"
   ]
  },
  {
   "cell_type": "code",
   "execution_count": 35,
   "metadata": {},
   "outputs": [
    {
     "name": "stdout",
     "output_type": "stream",
     "text": [
      "==========EURO==========\n"
     ]
    },
    {
     "data": {
      "text/html": [
       "<div>\n",
       "<style scoped>\n",
       "    .dataframe tbody tr th:only-of-type {\n",
       "        vertical-align: middle;\n",
       "    }\n",
       "\n",
       "    .dataframe tbody tr th {\n",
       "        vertical-align: top;\n",
       "    }\n",
       "\n",
       "    .dataframe thead th {\n",
       "        text-align: right;\n",
       "    }\n",
       "</style>\n",
       "<table border=\"1\" class=\"dataframe\">\n",
       "  <thead>\n",
       "    <tr style=\"text-align: right;\">\n",
       "      <th></th>\n",
       "      <th>EUR</th>\n",
       "    </tr>\n",
       "    <tr>\n",
       "      <th>Date</th>\n",
       "      <th></th>\n",
       "    </tr>\n",
       "  </thead>\n",
       "  <tbody>\n",
       "    <tr>\n",
       "      <th>2000-01-03</th>\n",
       "      <td>1.85047</td>\n",
       "    </tr>\n",
       "    <tr>\n",
       "      <th>2000-01-04</th>\n",
       "      <td>1.89150</td>\n",
       "    </tr>\n",
       "    <tr>\n",
       "      <th>2000-01-05</th>\n",
       "      <td>1.91582</td>\n",
       "    </tr>\n",
       "    <tr>\n",
       "      <th>2000-01-06</th>\n",
       "      <td>1.90761</td>\n",
       "    </tr>\n",
       "    <tr>\n",
       "      <th>2000-01-07</th>\n",
       "      <td>1.88241</td>\n",
       "    </tr>\n",
       "  </tbody>\n",
       "</table>\n",
       "</div>"
      ],
      "text/plain": [
       "                EUR\n",
       "Date               \n",
       "2000-01-03  1.85047\n",
       "2000-01-04  1.89150\n",
       "2000-01-05  1.91582\n",
       "2000-01-06  1.90761\n",
       "2000-01-07  1.88241"
      ]
     },
     "metadata": {},
     "output_type": "display_data"
    },
    {
     "name": "stdout",
     "output_type": "stream",
     "text": [
      "==========USD==========\n"
     ]
    },
    {
     "data": {
      "text/html": [
       "<div>\n",
       "<style scoped>\n",
       "    .dataframe tbody tr th:only-of-type {\n",
       "        vertical-align: middle;\n",
       "    }\n",
       "\n",
       "    .dataframe tbody tr th {\n",
       "        vertical-align: top;\n",
       "    }\n",
       "\n",
       "    .dataframe thead th {\n",
       "        text-align: right;\n",
       "    }\n",
       "</style>\n",
       "<table border=\"1\" class=\"dataframe\">\n",
       "  <thead>\n",
       "    <tr style=\"text-align: right;\">\n",
       "      <th></th>\n",
       "      <th>USD</th>\n",
       "    </tr>\n",
       "    <tr>\n",
       "      <th>Date</th>\n",
       "      <th></th>\n",
       "    </tr>\n",
       "  </thead>\n",
       "  <tbody>\n",
       "    <tr>\n",
       "      <th>2000-01-03</th>\n",
       "      <td>1.8011</td>\n",
       "    </tr>\n",
       "    <tr>\n",
       "      <th>2000-01-04</th>\n",
       "      <td>1.8337</td>\n",
       "    </tr>\n",
       "    <tr>\n",
       "      <th>2000-01-05</th>\n",
       "      <td>1.8544</td>\n",
       "    </tr>\n",
       "    <tr>\n",
       "      <th>2000-01-06</th>\n",
       "      <td>1.8461</td>\n",
       "    </tr>\n",
       "    <tr>\n",
       "      <th>2000-01-07</th>\n",
       "      <td>1.8281</td>\n",
       "    </tr>\n",
       "  </tbody>\n",
       "</table>\n",
       "</div>"
      ],
      "text/plain": [
       "               USD\n",
       "Date              \n",
       "2000-01-03  1.8011\n",
       "2000-01-04  1.8337\n",
       "2000-01-05  1.8544\n",
       "2000-01-06  1.8461\n",
       "2000-01-07  1.8281"
      ]
     },
     "metadata": {},
     "output_type": "display_data"
    },
    {
     "name": "stdout",
     "output_type": "stream",
     "text": [
      "==========GBP==========\n"
     ]
    },
    {
     "data": {
      "text/html": [
       "<div>\n",
       "<style scoped>\n",
       "    .dataframe tbody tr th:only-of-type {\n",
       "        vertical-align: middle;\n",
       "    }\n",
       "\n",
       "    .dataframe tbody tr th {\n",
       "        vertical-align: top;\n",
       "    }\n",
       "\n",
       "    .dataframe thead th {\n",
       "        text-align: right;\n",
       "    }\n",
       "</style>\n",
       "<table border=\"1\" class=\"dataframe\">\n",
       "  <thead>\n",
       "    <tr style=\"text-align: right;\">\n",
       "      <th></th>\n",
       "      <th>GBP</th>\n",
       "    </tr>\n",
       "    <tr>\n",
       "      <th>Date</th>\n",
       "      <th></th>\n",
       "    </tr>\n",
       "  </thead>\n",
       "  <tbody>\n",
       "    <tr>\n",
       "      <th>2000-01-03</th>\n",
       "      <td>2.95132</td>\n",
       "    </tr>\n",
       "    <tr>\n",
       "      <th>2000-01-04</th>\n",
       "      <td>3.00455</td>\n",
       "    </tr>\n",
       "    <tr>\n",
       "      <th>2000-01-05</th>\n",
       "      <td>3.04904</td>\n",
       "    </tr>\n",
       "    <tr>\n",
       "      <th>2000-01-06</th>\n",
       "      <td>3.04721</td>\n",
       "    </tr>\n",
       "    <tr>\n",
       "      <th>2000-01-07</th>\n",
       "      <td>2.99885</td>\n",
       "    </tr>\n",
       "  </tbody>\n",
       "</table>\n",
       "</div>"
      ],
      "text/plain": [
       "                GBP\n",
       "Date               \n",
       "2000-01-03  2.95132\n",
       "2000-01-04  3.00455\n",
       "2000-01-05  3.04904\n",
       "2000-01-06  3.04721\n",
       "2000-01-07  2.99885"
      ]
     },
     "metadata": {},
     "output_type": "display_data"
    },
    {
     "name": "stdout",
     "output_type": "stream",
     "text": [
      "==========CHF==========\n"
     ]
    },
    {
     "data": {
      "text/html": [
       "<div>\n",
       "<style scoped>\n",
       "    .dataframe tbody tr th:only-of-type {\n",
       "        vertical-align: middle;\n",
       "    }\n",
       "\n",
       "    .dataframe tbody tr th {\n",
       "        vertical-align: top;\n",
       "    }\n",
       "\n",
       "    .dataframe thead th {\n",
       "        text-align: right;\n",
       "    }\n",
       "</style>\n",
       "<table border=\"1\" class=\"dataframe\">\n",
       "  <thead>\n",
       "    <tr style=\"text-align: right;\">\n",
       "      <th></th>\n",
       "      <th>CHF</th>\n",
       "    </tr>\n",
       "    <tr>\n",
       "      <th>Date</th>\n",
       "      <th></th>\n",
       "    </tr>\n",
       "  </thead>\n",
       "  <tbody>\n",
       "    <tr>\n",
       "      <th>2000-01-03</th>\n",
       "      <td>1.15173</td>\n",
       "    </tr>\n",
       "    <tr>\n",
       "      <th>2000-01-04</th>\n",
       "      <td>1.17755</td>\n",
       "    </tr>\n",
       "    <tr>\n",
       "      <th>2000-01-05</th>\n",
       "      <td>1.19222</td>\n",
       "    </tr>\n",
       "    <tr>\n",
       "      <th>2000-01-06</th>\n",
       "      <td>1.18711</td>\n",
       "    </tr>\n",
       "    <tr>\n",
       "      <th>2000-01-07</th>\n",
       "      <td>1.16817</td>\n",
       "    </tr>\n",
       "  </tbody>\n",
       "</table>\n",
       "</div>"
      ],
      "text/plain": [
       "                CHF\n",
       "Date               \n",
       "2000-01-03  1.15173\n",
       "2000-01-04  1.17755\n",
       "2000-01-05  1.19222\n",
       "2000-01-06  1.18711\n",
       "2000-01-07  1.16817"
      ]
     },
     "metadata": {},
     "output_type": "display_data"
    }
   ],
   "source": [
    "print(\"=\" * 10 + 'EURO' + \"=\" * 10)\n",
    "display(euro.head())\n",
    "\n",
    "print(\"=\" * 10 + 'USD' + \"=\" * 10)\n",
    "display(dolar.head())\n",
    "\n",
    "print(\"=\" * 10 + 'GBP' + \"=\" * 10)\n",
    "display(libra.head())\n",
    "\n",
    "print(\"=\" * 10 + 'CHF' + \"=\" * 10)\n",
    "display(franco.head())"
   ]
  },
  {
   "cell_type": "code",
   "execution_count": 36,
   "metadata": {},
   "outputs": [
    {
     "data": {
      "text/html": [
       "<div>\n",
       "<style scoped>\n",
       "    .dataframe tbody tr th:only-of-type {\n",
       "        vertical-align: middle;\n",
       "    }\n",
       "\n",
       "    .dataframe tbody tr th {\n",
       "        vertical-align: top;\n",
       "    }\n",
       "\n",
       "    .dataframe thead th {\n",
       "        text-align: right;\n",
       "    }\n",
       "</style>\n",
       "<table border=\"1\" class=\"dataframe\">\n",
       "  <thead>\n",
       "    <tr style=\"text-align: right;\">\n",
       "      <th></th>\n",
       "      <th>USD</th>\n",
       "      <th>EUR</th>\n",
       "      <th>GBP</th>\n",
       "      <th>CHF</th>\n",
       "    </tr>\n",
       "    <tr>\n",
       "      <th>Date</th>\n",
       "      <th></th>\n",
       "      <th></th>\n",
       "      <th></th>\n",
       "      <th></th>\n",
       "    </tr>\n",
       "  </thead>\n",
       "  <tbody>\n",
       "    <tr>\n",
       "      <th>2000-01-03</th>\n",
       "      <td>1.8011</td>\n",
       "      <td>1.85047</td>\n",
       "      <td>2.95132</td>\n",
       "      <td>1.15173</td>\n",
       "    </tr>\n",
       "    <tr>\n",
       "      <th>2000-01-04</th>\n",
       "      <td>1.8337</td>\n",
       "      <td>1.89150</td>\n",
       "      <td>3.00455</td>\n",
       "      <td>1.17755</td>\n",
       "    </tr>\n",
       "    <tr>\n",
       "      <th>2000-01-05</th>\n",
       "      <td>1.8544</td>\n",
       "      <td>1.91582</td>\n",
       "      <td>3.04904</td>\n",
       "      <td>1.19222</td>\n",
       "    </tr>\n",
       "    <tr>\n",
       "      <th>2000-01-06</th>\n",
       "      <td>1.8461</td>\n",
       "      <td>1.90761</td>\n",
       "      <td>3.04721</td>\n",
       "      <td>1.18711</td>\n",
       "    </tr>\n",
       "    <tr>\n",
       "      <th>2000-01-07</th>\n",
       "      <td>1.8281</td>\n",
       "      <td>1.88241</td>\n",
       "      <td>2.99885</td>\n",
       "      <td>1.16817</td>\n",
       "    </tr>\n",
       "  </tbody>\n",
       "</table>\n",
       "</div>"
      ],
      "text/plain": [
       "               USD      EUR      GBP      CHF\n",
       "Date                                         \n",
       "2000-01-03  1.8011  1.85047  2.95132  1.15173\n",
       "2000-01-04  1.8337  1.89150  3.00455  1.17755\n",
       "2000-01-05  1.8544  1.91582  3.04904  1.19222\n",
       "2000-01-06  1.8461  1.90761  3.04721  1.18711\n",
       "2000-01-07  1.8281  1.88241  2.99885  1.16817"
      ]
     },
     "execution_count": 36,
     "metadata": {},
     "output_type": "execute_result"
    }
   ],
   "source": [
    "cesta = pd.concat([dolar, euro, libra, franco], axis=1)\n",
    "cesta.head()"
   ]
  },
  {
   "cell_type": "code",
   "execution_count": 37,
   "metadata": {},
   "outputs": [
    {
     "data": {
      "text/html": [
       "<div>\n",
       "<style scoped>\n",
       "    .dataframe tbody tr th:only-of-type {\n",
       "        vertical-align: middle;\n",
       "    }\n",
       "\n",
       "    .dataframe tbody tr th {\n",
       "        vertical-align: top;\n",
       "    }\n",
       "\n",
       "    .dataframe thead th {\n",
       "        text-align: right;\n",
       "    }\n",
       "</style>\n",
       "<table border=\"1\" class=\"dataframe\">\n",
       "  <thead>\n",
       "    <tr style=\"text-align: right;\">\n",
       "      <th></th>\n",
       "      <th>USD</th>\n",
       "      <th>EUR</th>\n",
       "      <th>GBP</th>\n",
       "      <th>CHF</th>\n",
       "    </tr>\n",
       "    <tr>\n",
       "      <th>Date</th>\n",
       "      <th></th>\n",
       "      <th></th>\n",
       "      <th></th>\n",
       "      <th></th>\n",
       "    </tr>\n",
       "  </thead>\n",
       "  <tbody>\n",
       "    <tr>\n",
       "      <th>2000-01-04</th>\n",
       "      <td>0.017938</td>\n",
       "      <td>0.021931</td>\n",
       "      <td>0.017875</td>\n",
       "      <td>0.022171</td>\n",
       "    </tr>\n",
       "    <tr>\n",
       "      <th>2000-01-05</th>\n",
       "      <td>0.011225</td>\n",
       "      <td>0.012776</td>\n",
       "      <td>0.014699</td>\n",
       "      <td>0.012381</td>\n",
       "    </tr>\n",
       "    <tr>\n",
       "      <th>2000-01-06</th>\n",
       "      <td>-0.004486</td>\n",
       "      <td>-0.004295</td>\n",
       "      <td>-0.000600</td>\n",
       "      <td>-0.004295</td>\n",
       "    </tr>\n",
       "    <tr>\n",
       "      <th>2000-01-07</th>\n",
       "      <td>-0.009798</td>\n",
       "      <td>-0.013298</td>\n",
       "      <td>-0.015998</td>\n",
       "      <td>-0.016083</td>\n",
       "    </tr>\n",
       "    <tr>\n",
       "      <th>2000-01-10</th>\n",
       "      <td>-0.006586</td>\n",
       "      <td>-0.008820</td>\n",
       "      <td>-0.007377</td>\n",
       "      <td>-0.009513</td>\n",
       "    </tr>\n",
       "    <tr>\n",
       "      <th>...</th>\n",
       "      <td>...</td>\n",
       "      <td>...</td>\n",
       "      <td>...</td>\n",
       "      <td>...</td>\n",
       "    </tr>\n",
       "    <tr>\n",
       "      <th>2023-02-13</th>\n",
       "      <td>-0.013262</td>\n",
       "      <td>-0.009153</td>\n",
       "      <td>-0.008057</td>\n",
       "      <td>-0.010129</td>\n",
       "    </tr>\n",
       "    <tr>\n",
       "      <th>2023-02-14</th>\n",
       "      <td>-0.006329</td>\n",
       "      <td>-0.006608</td>\n",
       "      <td>-0.004763</td>\n",
       "      <td>-0.007633</td>\n",
       "    </tr>\n",
       "    <tr>\n",
       "      <th>2023-02-15</th>\n",
       "      <td>0.014188</td>\n",
       "      <td>0.010451</td>\n",
       "      <td>0.001436</td>\n",
       "      <td>0.010737</td>\n",
       "    </tr>\n",
       "    <tr>\n",
       "      <th>2023-02-16</th>\n",
       "      <td>0.003611</td>\n",
       "      <td>0.003329</td>\n",
       "      <td>0.004534</td>\n",
       "      <td>0.002953</td>\n",
       "    </tr>\n",
       "    <tr>\n",
       "      <th>2023-02-17</th>\n",
       "      <td>-0.008043</td>\n",
       "      <td>-0.009063</td>\n",
       "      <td>-0.009297</td>\n",
       "      <td>-0.009867</td>\n",
       "    </tr>\n",
       "  </tbody>\n",
       "</table>\n",
       "<p>5811 rows × 4 columns</p>\n",
       "</div>"
      ],
      "text/plain": [
       "                 USD       EUR       GBP       CHF\n",
       "Date                                              \n",
       "2000-01-04  0.017938  0.021931  0.017875  0.022171\n",
       "2000-01-05  0.011225  0.012776  0.014699  0.012381\n",
       "2000-01-06 -0.004486 -0.004295 -0.000600 -0.004295\n",
       "2000-01-07 -0.009798 -0.013298 -0.015998 -0.016083\n",
       "2000-01-10 -0.006586 -0.008820 -0.007377 -0.009513\n",
       "...              ...       ...       ...       ...\n",
       "2023-02-13 -0.013262 -0.009153 -0.008057 -0.010129\n",
       "2023-02-14 -0.006329 -0.006608 -0.004763 -0.007633\n",
       "2023-02-15  0.014188  0.010451  0.001436  0.010737\n",
       "2023-02-16  0.003611  0.003329  0.004534  0.002953\n",
       "2023-02-17 -0.008043 -0.009063 -0.009297 -0.009867\n",
       "\n",
       "[5811 rows x 4 columns]"
      ]
     },
     "execution_count": 37,
     "metadata": {},
     "output_type": "execute_result"
    }
   ],
   "source": [
    "cesta_returns = np.log(1+cesta.pct_change(1)).dropna()\n",
    "cesta_returns"
   ]
  },
  {
   "cell_type": "markdown",
   "metadata": {},
   "source": [
    "Kết quả của `cesta_returns` sẽ là một DataFrame mới chứa tỷ lệ phần trăm thay đổi logarit của giá trị cho mỗi cặp giá trị liền kề trong các cột `dolar`, `euro`, `libra` và `franco`.\n",
    "\n",
    " **Ý nghĩa:**\n",
    "\n",
    "- `cesta_returns` cung cấp cho ta thông tin về mức độ biến động của tỷ giá hối đoái theo thời gian.\n",
    "\n",
    "- Giá trị dương cho thấy giá trị tiền tệ đã tăng so với giá trị trước đó, trong khi giá trị âm cho thấy giá trị tiền tệ đã giảm.\n",
    "\n",
    "- Việc sử dụng logarit tự nhiên giúp ổn định dữ liệu và dễ dàng so sánh mức độ biến động giữa các cột khác nhau."
   ]
  },
  {
   "cell_type": "code",
   "execution_count": 38,
   "metadata": {},
   "outputs": [
    {
     "data": {
      "text/plain": [
       "<Axes: xlabel='Date'>"
      ]
     },
     "execution_count": 38,
     "metadata": {},
     "output_type": "execute_result"
    },
    {
     "data": {
      "image/png": "[encoded data removed]",
      "text/plain": [
       "<Figure size 1200x300 with 1 Axes>"
      ]
     },
     "metadata": {},
     "output_type": "display_data"
    }
   ],
   "source": [
    "cesta_returns.plot(figsize=(12, 3))"
   ]
  },
  {
   "cell_type": "markdown",
   "metadata": {},
   "source": [
    "## **1. Variance-Covariance Method (or Pametric)**\n",
    "\n",
    "### Create a Covariance Matrix Based on Returns"
   ]
  },
  {
   "cell_type": "code",
   "execution_count": 39,
   "metadata": {},
   "outputs": [
    {
     "data": {
      "text/html": [
       "<div>\n",
       "<style scoped>\n",
       "    .dataframe tbody tr th:only-of-type {\n",
       "        vertical-align: middle;\n",
       "    }\n",
       "\n",
       "    .dataframe tbody tr th {\n",
       "        vertical-align: top;\n",
       "    }\n",
       "\n",
       "    .dataframe thead th {\n",
       "        text-align: right;\n",
       "    }\n",
       "</style>\n",
       "<table border=\"1\" class=\"dataframe\">\n",
       "  <thead>\n",
       "    <tr style=\"text-align: right;\">\n",
       "      <th></th>\n",
       "      <th>USD</th>\n",
       "      <th>EUR</th>\n",
       "      <th>GBP</th>\n",
       "      <th>CHF</th>\n",
       "    </tr>\n",
       "  </thead>\n",
       "  <tbody>\n",
       "    <tr>\n",
       "      <th>USD</th>\n",
       "      <td>0.000093</td>\n",
       "      <td>0.000081</td>\n",
       "      <td>0.000080</td>\n",
       "      <td>0.000086</td>\n",
       "    </tr>\n",
       "    <tr>\n",
       "      <th>EUR</th>\n",
       "      <td>0.000081</td>\n",
       "      <td>0.000103</td>\n",
       "      <td>0.000089</td>\n",
       "      <td>0.000104</td>\n",
       "    </tr>\n",
       "    <tr>\n",
       "      <th>GBP</th>\n",
       "      <td>0.000080</td>\n",
       "      <td>0.000089</td>\n",
       "      <td>0.000101</td>\n",
       "      <td>0.000091</td>\n",
       "    </tr>\n",
       "    <tr>\n",
       "      <th>CHF</th>\n",
       "      <td>0.000086</td>\n",
       "      <td>0.000104</td>\n",
       "      <td>0.000091</td>\n",
       "      <td>0.000121</td>\n",
       "    </tr>\n",
       "  </tbody>\n",
       "</table>\n",
       "</div>"
      ],
      "text/plain": [
       "          USD       EUR       GBP       CHF\n",
       "USD  0.000093  0.000081  0.000080  0.000086\n",
       "EUR  0.000081  0.000103  0.000089  0.000104\n",
       "GBP  0.000080  0.000089  0.000101  0.000091\n",
       "CHF  0.000086  0.000104  0.000091  0.000121"
      ]
     },
     "execution_count": 39,
     "metadata": {},
     "output_type": "execute_result"
    }
   ],
   "source": [
    "# Generate Var-Cov Matrix\n",
    "cov_matrix = cesta_returns.cov()\n",
    "cov_matrix"
   ]
  },
  {
   "cell_type": "markdown",
   "metadata": {},
   "source": [
    "### Calculate the Portfolio Mean and Standard Deviation"
   ]
  },
  {
   "cell_type": "code",
   "execution_count": 40,
   "metadata": {},
   "outputs": [
    {
     "name": "stdout",
     "output_type": "stream",
     "text": [
      "Portfolio mean is equal to 10001 and the standard deviation is equal to 96.14\n"
     ]
    }
   ],
   "source": [
    "# Calculate average return \n",
    "avg_returns = cesta_returns.mean()\n",
    "\n",
    "# Calculate mean returns for portfolio overall\n",
    "# using dot product to normalize individual means against investment weights\n",
    "portfolio_mean = avg_returns.dot(weights)\n",
    "\n",
    "# Portfolio Standard Deviation\n",
    "portfolio_std = np.sqrt(weights.T.dot(cov_matrix).dot(weights))\n",
    "\n",
    "# Investment Mean\n",
    "investment_mean = (1 + portfolio_mean) * initial_investment\n",
    "\n",
    "# Standard Deviation of Investment\n",
    "investment_std = portfolio_std * initial_investment\n",
    "\n",
    "print(\"Portfolio mean is equal to\", int(investment_mean), \"and the standard deviation is equal to\", round(investment_std, 2))"
   ]
  },
  {
   "cell_type": "markdown",
   "metadata": {},
   "source": [
    "### Inverse of the Normal Cumulative Distribution with a specified Confidence Interval, Standar Deviation and Mean"
   ]
  },
  {
   "cell_type": "code",
   "execution_count": 41,
   "metadata": {},
   "outputs": [
    {
     "data": {
      "text/plain": [
       "9778.280141749377"
      ]
     },
     "execution_count": 41,
     "metadata": {},
     "output_type": "execute_result"
    }
   ],
   "source": [
    "# Select your confidence interval\n",
    "\n",
    "conf_level = 0.01\n",
    "\n",
    "# Scipy ppf method to generate values for the\n",
    "# inverse cumulative distribution function to a normal distribution\n",
    "# plugging the mean, sd of our portfolio\n",
    "\n",
    "cutoff = norm.ppf(conf_level, investment_mean,investment_std)\n",
    "cutoff"
   ]
  },
  {
   "cell_type": "markdown",
   "metadata": {},
   "source": [
    "### **Estimate the Value at Risk (VaR)**"
   ]
  },
  {
   "cell_type": "code",
   "execution_count": 43,
   "metadata": {},
   "outputs": [
    {
     "name": "stdout",
     "output_type": "stream",
     "text": [
      "Value at Risk is equal to 221 $, which is 2.22 percent of initial investment\n"
     ]
    }
   ],
   "source": [
    "# Calculate VaR\n",
    "VaR_1day = initial_investment - cutoff\n",
    "\n",
    "print(\"Value at Risk is equal to\", int(VaR_1day),  \"$, which is\", round(VaR_1day/initial_investment*100,2), 'percent of initial investment')"
   ]
  },
  {
   "cell_type": "markdown",
   "metadata": {},
   "source": [
    "**It means with 99% of confidence a 10k USD portfolio will not exceed losses greather than 219 USD over a one day period**"
   ]
  },
  {
   "cell_type": "markdown",
   "metadata": {},
   "source": [
    "### Distribution"
   ]
  },
  {
   "cell_type": "code",
   "execution_count": 44,
   "metadata": {},
   "outputs": [
    {
     "data": {
      "image/png": "[encoded data removed]",
      "text/plain": [
       "<Figure size 640x480 with 1 Axes>"
      ]
     },
     "metadata": {},
     "output_type": "display_data"
    },
    {
     "data": {
      "image/png": "[encoded data removed]",
      "text/plain": [
       "<Figure size 640x480 with 1 Axes>"
      ]
     },
     "metadata": {},
     "output_type": "display_data"
    },
    {
     "data": {
      "image/png": "[encoded data removed]",
      "text/plain": [
       "<Figure size 640x480 with 1 Axes>"
      ]
     },
     "metadata": {},
     "output_type": "display_data"
    },
    {
     "data": {
      "image/png": "[encoded data removed]",
      "text/plain": [
       "<Figure size 640x480 with 1 Axes>"
      ]
     },
     "metadata": {},
     "output_type": "display_data"
    }
   ],
   "source": [
    "fxs = {'USD': 'Dolar', 'EUR': 'Euro', 'GBP' : 'Pound', 'CHF' : 'Franc'}\n",
    "\n",
    "for fx in fxs:\n",
    "    cesta_returns[fx].hist(bins = 1000, histtype = 'stepfilled', alpha = 0.5)\n",
    "    x = np.linspace(portfolio_mean - 3*portfolio_std, portfolio_mean+3*portfolio_std,len(cesta_returns[fx]))\n",
    "    plt.plot(x, norm.pdf(x, portfolio_mean, portfolio_std), \"r\")\n",
    "    plt.title(\"{} returns (binned) vs. normal distribution\".format(fxs[fx]))\n",
    "    plt.show()"
   ]
  },
  {
   "cell_type": "markdown",
   "metadata": {},
   "source": [
    "# **2. Historical Method**"
   ]
  },
  {
   "cell_type": "code",
   "execution_count": 47,
   "metadata": {},
   "outputs": [
    {
     "name": "stdout",
     "output_type": "stream",
     "text": [
      "(5811,)\n"
     ]
    },
    {
     "data": {
      "text/plain": [
       "array([ 0.01997871,  0.01277027, -0.00341904, ...,  0.0092033 ,\n",
       "        0.0036069 , -0.00906765])"
      ]
     },
     "execution_count": 47,
     "metadata": {},
     "output_type": "execute_result"
    }
   ],
   "source": [
    "# Convert Returns in to P&L (Profit and Loss)\n",
    "\n",
    "PnL = (weights * cesta_returns.values).sum(axis = 1)\n",
    "print(PnL.shape)\n",
    "PnL"
   ]
  },
  {
   "cell_type": "code",
   "execution_count": 49,
   "metadata": {},
   "outputs": [
    {
     "data": {
      "text/plain": [
       "-0.024826427119132646"
      ]
     },
     "execution_count": 49,
     "metadata": {},
     "output_type": "execute_result"
    }
   ],
   "source": [
    "historical_var_perc = np.percentile(PnL,1, interpolation='lower')\n",
    "historical_var_perc"
   ]
  },
  {
   "cell_type": "code",
   "execution_count": 51,
   "metadata": {},
   "outputs": [
    {
     "name": "stdout",
     "output_type": "stream",
     "text": [
      "The historical VaR is  248.3\n"
     ]
    }
   ],
   "source": [
    "historical_var = historical_var_perc * initial_investment\n",
    "\n",
    "print('The historical VaR is ', round(abs(historical_var), 1))"
   ]
  },
  {
   "cell_type": "markdown",
   "metadata": {},
   "source": [
    "### Kurtosis and Skew"
   ]
  },
  {
   "cell_type": "code",
   "execution_count": 52,
   "metadata": {},
   "outputs": [
    {
     "name": "stdout",
     "output_type": "stream",
     "text": [
      "Skew is 0.05\n",
      "Kurtosis is 8.52\n"
     ]
    }
   ],
   "source": [
    "# A normal distribution should have a zero skew and more importantly,\n",
    "# zero kurtosis (technically 3, but SciPy subtracts 3 to normalize it)\n",
    "# So the distribution of our return does have fat tails\n",
    "print(f\"Skew is {round(skew(PnL),2)}\")\n",
    "print(f\"Kurtosis is {round(kurtosis(PnL),2)}\")"
   ]
  },
  {
   "cell_type": "markdown",
   "metadata": {},
   "source": [
    "### **Boostrap VaR**"
   ]
  },
  {
   "cell_type": "code",
   "execution_count": 53,
   "metadata": {},
   "outputs": [],
   "source": [
    "def VaR99(data):\n",
    "    return np.percentile(data, 1, interpolation= 'lower')\n",
    "\n",
    "def boostrap(data, func):\n",
    "    sample = np.random.choice(data, len(data))\n",
    "    return func(sample)\n",
    "\n",
    "def draw_bs_reps(data, func, size):\n",
    "    \"\"\"Draw bootsrap replicates\"\"\"\n",
    "    bs_replicates = np.empty(size)\n",
    "\n",
    "    for i in range(size):\n",
    "        bs_replicates[i] = boostrap(data, func)\n",
    "    return bs_replicates"
   ]
  },
  {
   "cell_type": "code",
   "execution_count": 54,
   "metadata": {},
   "outputs": [
    {
     "name": "stderr",
     "output_type": "stream",
     "text": [
      "C:\\Users\\Hải Nam\\AppData\\Local\\Temp\\ipykernel_17004\\2600184631.py:6: DeprecationWarning: the `interpolation=` argument to percentile was renamed to `method=`, which has additional options.\n",
      "Users of the modes 'nearest', 'lower', 'higher', or 'midpoint' are encouraged to review the method they used. (Deprecated NumPy 1.22)\n",
      "  return func(sample)\n"
     ]
    },
    {
     "name": "stdout",
     "output_type": "stream",
     "text": [
      "The boostrap VaR is 246.68\n"
     ]
    }
   ],
   "source": [
    "boostrap_VaR_perc = draw_bs_reps(PnL, VaR99, 1000)\n",
    "\n",
    "bs_VaR = abs(boostrap_VaR_perc) * initial_investment\n",
    "\n",
    "print(f'The boostrap VaR is {round(np.mean(bs_VaR), 2)}')"
   ]
  },
  {
   "cell_type": "code",
   "execution_count": 60,
   "metadata": {},
   "outputs": [
    {
     "data": {
      "text/plain": [
       "array([-0.02519929, -0.02500444, -0.02593637, -0.02533293, -0.02536802,\n",
       "       -0.02592214, -0.02533293, -0.02610987, -0.02533293, -0.0239154 ,\n",
       "       -0.02500444, -0.02536802, -0.02428295, -0.02325891, -0.02500444,\n",
       "       -0.0220561 , -0.02533293, -0.02609819, -0.02549633, -0.02349518,\n",
       "       -0.02593637, -0.02592214, -0.02482643, -0.02482643, -0.0239154 ,\n",
       "       -0.02408049, -0.02454441, -0.0239154 , -0.02593637, -0.02259174,\n",
       "       -0.02482643, -0.02325891, -0.02592214, -0.02533293, -0.02454441,\n",
       "       -0.02428295, -0.02536802, -0.02251908, -0.02593637, -0.02500444,\n",
       "       -0.02652255, -0.02548011, -0.02251769, -0.02500444, -0.02258287,\n",
       "       -0.02652255, -0.02428295, -0.0239052 , -0.02536802, -0.02500444,\n",
       "       -0.02325891, -0.02565249, -0.02408049, -0.02351849, -0.02428295,\n",
       "       -0.02610987, -0.02295325, -0.02536802, -0.02593637, -0.02394705,\n",
       "       -0.0239052 , -0.02592214, -0.0239154 , -0.02408049, -0.02389806,\n",
       "       -0.02609819, -0.02549633, -0.02519929, -0.02548011, -0.0239052 ,\n",
       "       -0.02251769, -0.02351849, -0.02645112, -0.0239154 , -0.02394705,\n",
       "       -0.02592214, -0.0239052 , -0.02482643, -0.02536802, -0.02349518,\n",
       "       -0.02659429, -0.02548011, -0.02536802, -0.02548011, -0.02536802,\n",
       "       -0.02349518, -0.02536802, -0.02325891, -0.02519929, -0.02428295,\n",
       "       -0.02389806, -0.02500444, -0.0270039 , -0.02592214, -0.02394705,\n",
       "       -0.02500444, -0.02325891, -0.0239154 , -0.02428295, -0.02500444,\n",
       "       -0.02454441, -0.02592214, -0.02593637, -0.02592214, -0.0270039 ,\n",
       "       -0.02548011, -0.02259174, -0.0239052 , -0.02428295, -0.02389806,\n",
       "       -0.02548011, -0.0239052 , -0.02519929, -0.02500444, -0.02236579,\n",
       "       -0.02610987, -0.02645112, -0.02408049, -0.02255427, -0.02536802,\n",
       "       -0.02548011, -0.02548011, -0.02259174, -0.0239052 , -0.02593637,\n",
       "       -0.02428295, -0.02610987, -0.02519929, -0.02394705, -0.02565249,\n",
       "       -0.0239154 , -0.02428295, -0.02536802, -0.0239154 , -0.02659429,\n",
       "       -0.02565249, -0.02428295, -0.02408049, -0.02533293, -0.02408049,\n",
       "       -0.02610987, -0.02519929, -0.02482643, -0.02536802, -0.02674079,\n",
       "       -0.02389806, -0.02351849, -0.02565249, -0.0277239 , -0.02536802,\n",
       "       -0.0239154 , -0.02428295, -0.02592214, -0.02295325, -0.02536802,\n",
       "       -0.02482643, -0.02519929, -0.02519929, -0.02565249, -0.02610987,\n",
       "       -0.02394705, -0.02408049, -0.02549633, -0.02325891, -0.02610987,\n",
       "       -0.02536802, -0.02408049, -0.02609819, -0.02428295, -0.02652255,\n",
       "       -0.02428295, -0.02351849, -0.02394705, -0.0239052 , -0.02565249,\n",
       "       -0.02565249, -0.02408049, -0.02389806, -0.02259174, -0.02351849,\n",
       "       -0.02549633, -0.02659429, -0.02548011, -0.0239154 , -0.02500444,\n",
       "       -0.02548011, -0.02565249, -0.0239154 , -0.02549633, -0.02533293,\n",
       "       -0.02609819, -0.02428295, -0.02454441, -0.02454441, -0.02533293,\n",
       "       -0.02500444, -0.02519929, -0.02394705, -0.02565249, -0.02351849,\n",
       "       -0.02454441, -0.02536802, -0.02565249, -0.02394705, -0.0239154 ,\n",
       "       -0.0239052 , -0.02519929, -0.0239154 , -0.02500444, -0.02482643,\n",
       "       -0.02349518, -0.02592214, -0.02325891, -0.02454441, -0.02482643,\n",
       "       -0.02659429, -0.02322333, -0.02428295, -0.02236579, -0.02533293,\n",
       "       -0.02428295, -0.02549633, -0.02454441, -0.02674079, -0.02549633,\n",
       "       -0.02325891, -0.02408049, -0.02533293, -0.02593637, -0.0239154 ,\n",
       "       -0.02322333, -0.02565249, -0.02394705, -0.02565249, -0.02610987,\n",
       "       -0.02454441, -0.02322333, -0.02482643, -0.02500444, -0.02454441,\n",
       "       -0.02259174, -0.02408049, -0.02482643, -0.02408049, -0.0270039 ,\n",
       "       -0.02533293, -0.02533293, -0.02295325, -0.02652255, -0.02549633,\n",
       "       -0.02428295, -0.02536802, -0.02454441, -0.02351849, -0.02533293,\n",
       "       -0.02536802, -0.0239154 , -0.02482643, -0.02719123, -0.02482643,\n",
       "       -0.02548011, -0.02325891, -0.02454441, -0.02428295, -0.02394705,\n",
       "       -0.02536802, -0.02536802, -0.02500444, -0.02593637, -0.02325891,\n",
       "       -0.02592214, -0.02533293, -0.02549633, -0.02251908, -0.02322333,\n",
       "       -0.02549633, -0.02351849, -0.02519929, -0.0239052 , -0.02454441,\n",
       "       -0.02325891, -0.02482643, -0.02533293, -0.02325891, -0.02548011,\n",
       "       -0.0239052 , -0.02593637, -0.02349518, -0.02593637, -0.0239154 ,\n",
       "       -0.0239154 , -0.02645112, -0.02536802, -0.0239154 , -0.02645112,\n",
       "       -0.02548011, -0.02428295, -0.02482643, -0.02223649, -0.02428295,\n",
       "       -0.02592214, -0.02322333, -0.02519929, -0.02593637, -0.02349518,\n",
       "       -0.02325891, -0.02592214, -0.02394705, -0.02428295, -0.02454441,\n",
       "       -0.02351849, -0.02325891, -0.02549633, -0.02454441, -0.02609819,\n",
       "       -0.02536802, -0.02719123, -0.02536802, -0.02408049, -0.0239052 ,\n",
       "       -0.0239052 , -0.02428295, -0.0239052 , -0.02645112, -0.02394705,\n",
       "       -0.02500444, -0.02519929, -0.02454441, -0.02408049, -0.02533293,\n",
       "       -0.02295325, -0.02389806, -0.02394705, -0.02500444, -0.02536802,\n",
       "       -0.02536802, -0.0239052 , -0.02259174, -0.02258287, -0.02408049,\n",
       "       -0.02428295, -0.02593637, -0.02295325, -0.02500444, -0.02428295,\n",
       "       -0.02322333, -0.02351849, -0.02408049, -0.02652255, -0.0239154 ,\n",
       "       -0.02519929, -0.02565249, -0.02533293, -0.0239154 , -0.02609819,\n",
       "       -0.02482643, -0.02610987, -0.0239052 , -0.02325891, -0.02592214,\n",
       "       -0.02533293, -0.02659429, -0.02482643, -0.02389806, -0.02482643,\n",
       "       -0.02533293, -0.02533293, -0.02548011, -0.02389806, -0.02500444,\n",
       "       -0.02325891, -0.02428295, -0.02428295, -0.02428295, -0.02482643,\n",
       "       -0.02454441, -0.02236579, -0.02428295, -0.02500444, -0.02251908,\n",
       "       -0.02428295, -0.02454441, -0.0239052 , -0.02533293, -0.02610987,\n",
       "       -0.0239154 , -0.02565249, -0.02351849, -0.02548011, -0.02482643,\n",
       "       -0.02549633, -0.02349518, -0.02454441, -0.02210474, -0.02549633,\n",
       "       -0.02428295, -0.02593637, -0.02482643, -0.02536802, -0.02394705,\n",
       "       -0.02533293, -0.02533293, -0.02519929, -0.02454441, -0.02349518,\n",
       "       -0.02548011, -0.02428295, -0.02565249, -0.02592214, -0.02609819,\n",
       "       -0.02519929, -0.02428295, -0.02351849, -0.02610987, -0.02533293,\n",
       "       -0.02548011, -0.02454441, -0.02592214, -0.02593637, -0.02394705,\n",
       "       -0.02645112, -0.02454441, -0.02428295, -0.02533293, -0.02428295,\n",
       "       -0.02325891, -0.0239052 , -0.02500444, -0.02190845, -0.02482643,\n",
       "       -0.02533293, -0.02428295, -0.02389806, -0.02549633, -0.02428295,\n",
       "       -0.02593637, -0.02454441, -0.02394705, -0.02500444, -0.02482643,\n",
       "       -0.02349518, -0.02454441, -0.02500444, -0.02548011, -0.02609819,\n",
       "       -0.02428295, -0.02533293, -0.02533293, -0.02533293, -0.0239052 ,\n",
       "       -0.02325891, -0.02394705, -0.02652255, -0.02482643, -0.02536802,\n",
       "       -0.02454441, -0.02454441, -0.0277239 , -0.02519929, -0.02349518,\n",
       "       -0.02349518, -0.02500444, -0.02454441, -0.02592214, -0.02500444,\n",
       "       -0.02536802, -0.02548011, -0.02394705, -0.02500444, -0.02394705,\n",
       "       -0.02259174, -0.02652255, -0.02394705, -0.02536802, -0.02610987,\n",
       "       -0.02500444, -0.02258287, -0.02394705, -0.02536802, -0.02593637,\n",
       "       -0.0239154 , -0.0239154 , -0.02394705, -0.02482643, -0.02394705,\n",
       "       -0.02322333, -0.02533293, -0.02408049, -0.02482643, -0.02408049,\n",
       "       -0.02533293, -0.02500444, -0.02533293, -0.02428295, -0.02295325,\n",
       "       -0.02394705, -0.02325891, -0.02349518, -0.02500444, -0.02500444,\n",
       "       -0.02295325, -0.02325891, -0.02408049, -0.02565249, -0.02533293,\n",
       "       -0.02454441, -0.02549633, -0.02645112, -0.02394705, -0.0239052 ,\n",
       "       -0.02325891, -0.02349518, -0.02394705, -0.02408049, -0.02259174,\n",
       "       -0.02482643, -0.02548011, -0.02349518, -0.02389806, -0.02519929,\n",
       "       -0.02258287, -0.02592214, -0.02519929, -0.02519929, -0.0239052 ,\n",
       "       -0.02255427, -0.02428295, -0.0239154 , -0.0239154 , -0.02251908,\n",
       "       -0.0239154 , -0.02533293, -0.02773614, -0.0239052 , -0.02565249,\n",
       "       -0.02351849, -0.02255427, -0.0239154 , -0.02325891, -0.02519929,\n",
       "       -0.0239052 , -0.02322333, -0.02251769, -0.02533293, -0.02652255,\n",
       "       -0.02500444, -0.0239154 , -0.02549633, -0.02454441, -0.02593637,\n",
       "       -0.02351849, -0.02500444, -0.02322333, -0.02454441, -0.0239052 ,\n",
       "       -0.02428295, -0.0239052 , -0.02548011, -0.02428295, -0.02500444,\n",
       "       -0.02652255, -0.02408049, -0.02533293, -0.02593637, -0.02593637,\n",
       "       -0.02454441, -0.02428295, -0.02533293, -0.02519929, -0.02482643,\n",
       "       -0.02482643, -0.02428295, -0.02533293, -0.02428295, -0.02183451,\n",
       "       -0.02500444, -0.02322333, -0.02533293, -0.02519929, -0.02389806,\n",
       "       -0.0239154 , -0.02652255, -0.02565249, -0.02500444, -0.02408049,\n",
       "       -0.02408049, -0.02482643, -0.02351849, -0.02565249, -0.02533293,\n",
       "       -0.02454441, -0.0239154 , -0.02295325, -0.02349518, -0.0217967 ,\n",
       "       -0.0239154 , -0.02351849, -0.02592214, -0.02349518, -0.02519929,\n",
       "       -0.02610987, -0.02349518, -0.02428295, -0.02548011, -0.02408049,\n",
       "       -0.02536802, -0.02482643, -0.0239154 , -0.02592214, -0.02549633,\n",
       "       -0.0239154 , -0.02428295, -0.02394705, -0.02548011, -0.0239154 ,\n",
       "       -0.02482643, -0.02325891, -0.02251908, -0.02565249, -0.02454441,\n",
       "       -0.02548011, -0.02408049, -0.02549633, -0.02349518, -0.02408049,\n",
       "       -0.02408049, -0.02533293, -0.02408049, -0.02652255, -0.02592214,\n",
       "       -0.02428295, -0.02322333, -0.02519929, -0.02536802, -0.02592214,\n",
       "       -0.02609819, -0.02592214, -0.02519929, -0.02394705, -0.02500444,\n",
       "       -0.02500444, -0.02533293, -0.02674079, -0.02592214, -0.02389806,\n",
       "       -0.02500444, -0.02349518, -0.02428295, -0.02519929, -0.02533293,\n",
       "       -0.02255427, -0.02351849, -0.0270039 , -0.02482643, -0.02454441,\n",
       "       -0.02351849, -0.02349518, -0.02258287, -0.02610987, -0.02408049,\n",
       "       -0.02609819, -0.02592214, -0.02609819, -0.02549633, -0.02592214,\n",
       "       -0.02408049, -0.02351849, -0.02482643, -0.02482643, -0.02519929,\n",
       "       -0.02295325, -0.0239154 , -0.02394705, -0.02428295, -0.02389806,\n",
       "       -0.02533293, -0.02549633, -0.02519929, -0.0239154 , -0.02351849,\n",
       "       -0.02536802, -0.02593637, -0.02389806, -0.02394705, -0.02519929,\n",
       "       -0.02565249, -0.02500444, -0.02549633, -0.02533293, -0.02349518,\n",
       "       -0.0239154 , -0.02454441, -0.02408049, -0.02408049, -0.02408049,\n",
       "       -0.02645112, -0.02428295, -0.02322333, -0.02548011, -0.02533293,\n",
       "       -0.02351849, -0.02482643, -0.02351849, -0.02609819, -0.02519929,\n",
       "       -0.02548011, -0.02454441, -0.02533293, -0.02325891, -0.02593637,\n",
       "       -0.02454441, -0.02592214, -0.02428295, -0.02652255, -0.02408049,\n",
       "       -0.02408049, -0.02389806, -0.02325891, -0.02454441, -0.02394705,\n",
       "       -0.02322333, -0.02533293, -0.02251908, -0.02223649, -0.02519929,\n",
       "       -0.0239154 , -0.02349518, -0.02786003, -0.02394705, -0.02609819,\n",
       "       -0.02536802, -0.02548011, -0.02548011, -0.02428295, -0.02645112,\n",
       "       -0.0239154 , -0.0239154 , -0.02251769, -0.02536802, -0.0239154 ,\n",
       "       -0.02428295, -0.02394705, -0.02565249, -0.02533293, -0.02592214,\n",
       "       -0.02610987, -0.02454441, -0.02428295, -0.02210474, -0.02536802,\n",
       "       -0.02609819, -0.02548011, -0.02519929, -0.02500444, -0.02500444,\n",
       "       -0.02259174, -0.02549633, -0.02519929, -0.02500444, -0.02536802,\n",
       "       -0.02408049, -0.02549633, -0.02674079, -0.02139527, -0.02322333,\n",
       "       -0.0239154 , -0.02255427, -0.02394705, -0.02258287, -0.02519929,\n",
       "       -0.02251769, -0.02482643, -0.0239052 , -0.02351849, -0.02325891,\n",
       "       -0.02519929, -0.02482643, -0.02548011, -0.02322333, -0.02500444,\n",
       "       -0.02408049, -0.02408049, -0.02500444, -0.02394705, -0.02773614,\n",
       "       -0.02593637, -0.0277239 , -0.02482643, -0.02609819, -0.02549633,\n",
       "       -0.02593637, -0.02592214, -0.02394705, -0.02408049, -0.02325891,\n",
       "       -0.02428295, -0.02565249, -0.02536802, -0.02428295, -0.02548011,\n",
       "       -0.02565249, -0.02565249, -0.02428295, -0.02548011, -0.02536802,\n",
       "       -0.02533293, -0.02593637, -0.02500444, -0.02251769, -0.02428295,\n",
       "       -0.02394705, -0.02548011, -0.02482643, -0.02500444, -0.02549633,\n",
       "       -0.02548011, -0.02500444, -0.02500444, -0.02408049, -0.02408049,\n",
       "       -0.02519929, -0.02500444, -0.0239052 , -0.02245925, -0.02454441,\n",
       "       -0.02500444, -0.0239154 , -0.02593637, -0.02428295, -0.02549633,\n",
       "       -0.02533293, -0.02652255, -0.02533293, -0.02500444, -0.02549633,\n",
       "       -0.02408049, -0.02349518, -0.02548011, -0.02593637, -0.02500444,\n",
       "       -0.0239154 , -0.02428295, -0.02251908, -0.0239154 , -0.02428295,\n",
       "       -0.02565249, -0.02610987, -0.02593637, -0.02482643, -0.02351849,\n",
       "       -0.02454441, -0.02207845, -0.02548011, -0.02500444, -0.02592214,\n",
       "       -0.02482643, -0.02610987, -0.0239052 , -0.02592214, -0.02519929,\n",
       "       -0.02500444, -0.02549633, -0.02519929, -0.02549633, -0.02593637,\n",
       "       -0.02214343, -0.02548011, -0.02536802, -0.02454441, -0.02349518,\n",
       "       -0.02349518, -0.02565249, -0.02325891, -0.02482643, -0.02500444,\n",
       "       -0.02674079, -0.02549633, -0.02428295, -0.02659429, -0.02394705,\n",
       "       -0.02251908, -0.02645112, -0.02408049, -0.02428295, -0.02548011,\n",
       "       -0.02408049, -0.02394705, -0.02349518, -0.02565249, -0.02482643,\n",
       "       -0.02325891, -0.02536802, -0.02536802, -0.02536802, -0.02536802,\n",
       "       -0.02394705, -0.02500444, -0.02592214, -0.02519929, -0.02428295,\n",
       "       -0.02519929, -0.02454441, -0.02482643, -0.0239154 , -0.02482643,\n",
       "       -0.02389806, -0.02592214, -0.02500444, -0.02549633, -0.02394705,\n",
       "       -0.02536802, -0.02519929, -0.02210474, -0.02548011, -0.02408049,\n",
       "       -0.02255427, -0.02549633, -0.02536802, -0.02394705, -0.02351849,\n",
       "       -0.02482643, -0.02351849, -0.02394705, -0.02482643, -0.02519929,\n",
       "       -0.0239052 , -0.02251908, -0.02259174, -0.02609819, -0.02394705,\n",
       "       -0.02548011, -0.02428295, -0.02394705, -0.02428295, -0.02428295,\n",
       "       -0.02454441, -0.02548011, -0.02408049, -0.02533293, -0.02533293,\n",
       "       -0.02408049, -0.02322333, -0.02408049, -0.02565249, -0.02295325,\n",
       "       -0.02565249, -0.02536802, -0.0239154 , -0.02593637, -0.02325891,\n",
       "       -0.02533293, -0.02394705, -0.02610987, -0.02408049, -0.02255427,\n",
       "       -0.02408049, -0.02245925, -0.02482643, -0.02394705, -0.02533293,\n",
       "       -0.02609819, -0.02533293, -0.02482643, -0.02389806, -0.02659429,\n",
       "       -0.02322333, -0.02548011, -0.02482643, -0.02394705, -0.02536802,\n",
       "       -0.0239052 , -0.0239052 , -0.02536802, -0.02251769, -0.02295325,\n",
       "       -0.0239154 , -0.02408049, -0.02394705, -0.02652255, -0.02548011,\n",
       "       -0.02322333, -0.02609819, -0.02408049, -0.02351849, -0.02408049,\n",
       "       -0.02454441, -0.02408049, -0.02549633, -0.02500444, -0.02322333,\n",
       "       -0.02454441, -0.02645112, -0.02394705, -0.02454441, -0.02536802,\n",
       "       -0.0239052 , -0.02500444, -0.02389806, -0.02592214, -0.0239154 ])"
      ]
     },
     "execution_count": 60,
     "metadata": {},
     "output_type": "execute_result"
    }
   ],
   "source": [
    "boostrap_VaR_perc"
   ]
  },
  {
   "cell_type": "code",
   "execution_count": 61,
   "metadata": {},
   "outputs": [
    {
     "data": {
      "text/plain": [
       "array([251.99291716, 250.0444006 , 259.36372452, 253.32925901,\n",
       "       253.68017098, 259.22140474, 253.32925901, 261.09872377,\n",
       "       253.32925901, 239.15400659, 250.0444006 , 253.68017098,\n",
       "       242.82951216, 232.58914205, 250.0444006 , 220.56103041,\n",
       "       253.32925901, 260.98193384, 254.96325578, 234.95181067,\n",
       "       259.36372452, 259.22140474, 248.26427119, 248.26427119,\n",
       "       239.15400659, 240.80489814, 245.44413888, 239.15400659,\n",
       "       259.36372452, 225.91743608, 248.26427119, 232.58914205,\n",
       "       259.22140474, 253.32925901, 245.44413888, 242.82951216,\n",
       "       253.68017098, 225.1907649 , 259.36372452, 250.0444006 ,\n",
       "       265.22547065, 254.80109333, 225.17691033, 250.0444006 ,\n",
       "       225.82872211, 265.22547065, 242.82951216, 239.05200219,\n",
       "       253.68017098, 250.0444006 , 232.58914205, 256.52493458,\n",
       "       240.80489814, 235.1848799 , 242.82951216, 261.09872377,\n",
       "       229.53250245, 253.68017098, 259.36372452, 239.47049758,\n",
       "       239.05200219, 259.22140474, 239.15400659, 240.80489814,\n",
       "       238.98058191, 260.98193384, 254.96325578, 251.99291716,\n",
       "       254.80109333, 239.05200219, 225.17691033, 235.1848799 ,\n",
       "       264.51120812, 239.15400659, 239.47049758, 259.22140474,\n",
       "       239.05200219, 248.26427119, 253.68017098, 234.95181067,\n",
       "       265.9428862 , 254.80109333, 253.68017098, 254.80109333,\n",
       "       253.68017098, 234.95181067, 253.68017098, 232.58914205,\n",
       "       251.99291716, 242.82951216, 238.98058191, 250.0444006 ,\n",
       "       270.03897342, 259.22140474, 239.47049758, 250.0444006 ,\n",
       "       232.58914205, 239.15400659, 242.82951216, 250.0444006 ,\n",
       "       245.44413888, 259.22140474, 259.36372452, 259.22140474,\n",
       "       270.03897342, 254.80109333, 225.91743608, 239.05200219,\n",
       "       242.82951216, 238.98058191, 254.80109333, 239.05200219,\n",
       "       251.99291716, 250.0444006 , 223.65787782, 261.09872377,\n",
       "       264.51120812, 240.80489814, 225.54273661, 253.68017098,\n",
       "       254.80109333, 254.80109333, 225.91743608, 239.05200219,\n",
       "       259.36372452, 242.82951216, 261.09872377, 251.99291716,\n",
       "       239.47049758, 256.52493458, 239.15400659, 242.82951216,\n",
       "       253.68017098, 239.15400659, 265.9428862 , 256.52493458,\n",
       "       242.82951216, 240.80489814, 253.32925901, 240.80489814,\n",
       "       261.09872377, 251.99291716, 248.26427119, 253.68017098,\n",
       "       267.4079286 , 238.98058191, 235.1848799 , 256.52493458,\n",
       "       277.23900924, 253.68017098, 239.15400659, 242.82951216,\n",
       "       259.22140474, 229.53250245, 253.68017098, 248.26427119,\n",
       "       251.99291716, 251.99291716, 256.52493458, 261.09872377,\n",
       "       239.47049758, 240.80489814, 254.96325578, 232.58914205,\n",
       "       261.09872377, 253.68017098, 240.80489814, 260.98193384,\n",
       "       242.82951216, 265.22547065, 242.82951216, 235.1848799 ,\n",
       "       239.47049758, 239.05200219, 256.52493458, 256.52493458,\n",
       "       240.80489814, 238.98058191, 225.91743608, 235.1848799 ,\n",
       "       254.96325578, 265.9428862 , 254.80109333, 239.15400659,\n",
       "       250.0444006 , 254.80109333, 256.52493458, 239.15400659,\n",
       "       254.96325578, 253.32925901, 260.98193384, 242.82951216,\n",
       "       245.44413888, 245.44413888, 253.32925901, 250.0444006 ,\n",
       "       251.99291716, 239.47049758, 256.52493458, 235.1848799 ,\n",
       "       245.44413888, 253.68017098, 256.52493458, 239.47049758,\n",
       "       239.15400659, 239.05200219, 251.99291716, 239.15400659,\n",
       "       250.0444006 , 248.26427119, 234.95181067, 259.22140474,\n",
       "       232.58914205, 245.44413888, 248.26427119, 265.9428862 ,\n",
       "       232.23326582, 242.82951216, 223.65787782, 253.32925901,\n",
       "       242.82951216, 254.96325578, 245.44413888, 267.4079286 ,\n",
       "       254.96325578, 232.58914205, 240.80489814, 253.32925901,\n",
       "       259.36372452, 239.15400659, 232.23326582, 256.52493458,\n",
       "       239.47049758, 256.52493458, 261.09872377, 245.44413888,\n",
       "       232.23326582, 248.26427119, 250.0444006 , 245.44413888,\n",
       "       225.91743608, 240.80489814, 248.26427119, 240.80489814,\n",
       "       270.03897342, 253.32925901, 253.32925901, 229.53250245,\n",
       "       265.22547065, 254.96325578, 242.82951216, 253.68017098,\n",
       "       245.44413888, 235.1848799 , 253.32925901, 253.68017098,\n",
       "       239.15400659, 248.26427119, 271.91234019, 248.26427119,\n",
       "       254.80109333, 232.58914205, 245.44413888, 242.82951216,\n",
       "       239.47049758, 253.68017098, 253.68017098, 250.0444006 ,\n",
       "       259.36372452, 232.58914205, 259.22140474, 253.32925901,\n",
       "       254.96325578, 225.1907649 , 232.23326582, 254.96325578,\n",
       "       235.1848799 , 251.99291716, 239.05200219, 245.44413888,\n",
       "       232.58914205, 248.26427119, 253.32925901, 232.58914205,\n",
       "       254.80109333, 239.05200219, 259.36372452, 234.95181067,\n",
       "       259.36372452, 239.15400659, 239.15400659, 264.51120812,\n",
       "       253.68017098, 239.15400659, 264.51120812, 254.80109333,\n",
       "       242.82951216, 248.26427119, 222.36490019, 242.82951216,\n",
       "       259.22140474, 232.23326582, 251.99291716, 259.36372452,\n",
       "       234.95181067, 232.58914205, 259.22140474, 239.47049758,\n",
       "       242.82951216, 245.44413888, 235.1848799 , 232.58914205,\n",
       "       254.96325578, 245.44413888, 260.98193384, 253.68017098,\n",
       "       271.91234019, 253.68017098, 240.80489814, 239.05200219,\n",
       "       239.05200219, 242.82951216, 239.05200219, 264.51120812,\n",
       "       239.47049758, 250.0444006 , 251.99291716, 245.44413888,\n",
       "       240.80489814, 253.32925901, 229.53250245, 238.98058191,\n",
       "       239.47049758, 250.0444006 , 253.68017098, 253.68017098,\n",
       "       239.05200219, 225.91743608, 225.82872211, 240.80489814,\n",
       "       242.82951216, 259.36372452, 229.53250245, 250.0444006 ,\n",
       "       242.82951216, 232.23326582, 235.1848799 , 240.80489814,\n",
       "       265.22547065, 239.15400659, 251.99291716, 256.52493458,\n",
       "       253.32925901, 239.15400659, 260.98193384, 248.26427119,\n",
       "       261.09872377, 239.05200219, 232.58914205, 259.22140474,\n",
       "       253.32925901, 265.9428862 , 248.26427119, 238.98058191,\n",
       "       248.26427119, 253.32925901, 253.32925901, 254.80109333,\n",
       "       238.98058191, 250.0444006 , 232.58914205, 242.82951216,\n",
       "       242.82951216, 242.82951216, 248.26427119, 245.44413888,\n",
       "       223.65787782, 242.82951216, 250.0444006 , 225.1907649 ,\n",
       "       242.82951216, 245.44413888, 239.05200219, 253.32925901,\n",
       "       261.09872377, 239.15400659, 256.52493458, 235.1848799 ,\n",
       "       254.80109333, 248.26427119, 254.96325578, 234.95181067,\n",
       "       245.44413888, 221.0473845 , 254.96325578, 242.82951216,\n",
       "       259.36372452, 248.26427119, 253.68017098, 239.47049758,\n",
       "       253.32925901, 253.32925901, 251.99291716, 245.44413888,\n",
       "       234.95181067, 254.80109333, 242.82951216, 256.52493458,\n",
       "       259.22140474, 260.98193384, 251.99291716, 242.82951216,\n",
       "       235.1848799 , 261.09872377, 253.32925901, 254.80109333,\n",
       "       245.44413888, 259.22140474, 259.36372452, 239.47049758,\n",
       "       264.51120812, 245.44413888, 242.82951216, 253.32925901,\n",
       "       242.82951216, 232.58914205, 239.05200219, 250.0444006 ,\n",
       "       219.084547  , 248.26427119, 253.32925901, 242.82951216,\n",
       "       238.98058191, 254.96325578, 242.82951216, 259.36372452,\n",
       "       245.44413888, 239.47049758, 250.0444006 , 248.26427119,\n",
       "       234.95181067, 245.44413888, 250.0444006 , 254.80109333,\n",
       "       260.98193384, 242.82951216, 253.32925901, 253.32925901,\n",
       "       253.32925901, 239.05200219, 232.58914205, 239.47049758,\n",
       "       265.22547065, 248.26427119, 253.68017098, 245.44413888,\n",
       "       245.44413888, 277.23900924, 251.99291716, 234.95181067,\n",
       "       234.95181067, 250.0444006 , 245.44413888, 259.22140474,\n",
       "       250.0444006 , 253.68017098, 254.80109333, 239.47049758,\n",
       "       250.0444006 , 239.47049758, 225.91743608, 265.22547065,\n",
       "       239.47049758, 253.68017098, 261.09872377, 250.0444006 ,\n",
       "       225.82872211, 239.47049758, 253.68017098, 259.36372452,\n",
       "       239.15400659, 239.15400659, 239.47049758, 248.26427119,\n",
       "       239.47049758, 232.23326582, 253.32925901, 240.80489814,\n",
       "       248.26427119, 240.80489814, 253.32925901, 250.0444006 ,\n",
       "       253.32925901, 242.82951216, 229.53250245, 239.47049758,\n",
       "       232.58914205, 234.95181067, 250.0444006 , 250.0444006 ,\n",
       "       229.53250245, 232.58914205, 240.80489814, 256.52493458,\n",
       "       253.32925901, 245.44413888, 254.96325578, 264.51120812,\n",
       "       239.47049758, 239.05200219, 232.58914205, 234.95181067,\n",
       "       239.47049758, 240.80489814, 225.91743608, 248.26427119,\n",
       "       254.80109333, 234.95181067, 238.98058191, 251.99291716,\n",
       "       225.82872211, 259.22140474, 251.99291716, 251.99291716,\n",
       "       239.05200219, 225.54273661, 242.82951216, 239.15400659,\n",
       "       239.15400659, 225.1907649 , 239.15400659, 253.32925901,\n",
       "       277.36136974, 239.05200219, 256.52493458, 235.1848799 ,\n",
       "       225.54273661, 239.15400659, 232.58914205, 251.99291716,\n",
       "       239.05200219, 232.23326582, 225.17691033, 253.32925901,\n",
       "       265.22547065, 250.0444006 , 239.15400659, 254.96325578,\n",
       "       245.44413888, 259.36372452, 235.1848799 , 250.0444006 ,\n",
       "       232.23326582, 245.44413888, 239.05200219, 242.82951216,\n",
       "       239.05200219, 254.80109333, 242.82951216, 250.0444006 ,\n",
       "       265.22547065, 240.80489814, 253.32925901, 259.36372452,\n",
       "       259.36372452, 245.44413888, 242.82951216, 253.32925901,\n",
       "       251.99291716, 248.26427119, 248.26427119, 242.82951216,\n",
       "       253.32925901, 242.82951216, 218.34514861, 250.0444006 ,\n",
       "       232.23326582, 253.32925901, 251.99291716, 238.98058191,\n",
       "       239.15400659, 265.22547065, 256.52493458, 250.0444006 ,\n",
       "       240.80489814, 240.80489814, 248.26427119, 235.1848799 ,\n",
       "       256.52493458, 253.32925901, 245.44413888, 239.15400659,\n",
       "       229.53250245, 234.95181067, 217.96703507, 239.15400659,\n",
       "       235.1848799 , 259.22140474, 234.95181067, 251.99291716,\n",
       "       261.09872377, 234.95181067, 242.82951216, 254.80109333,\n",
       "       240.80489814, 253.68017098, 248.26427119, 239.15400659,\n",
       "       259.22140474, 254.96325578, 239.15400659, 242.82951216,\n",
       "       239.47049758, 254.80109333, 239.15400659, 248.26427119,\n",
       "       232.58914205, 225.1907649 , 256.52493458, 245.44413888,\n",
       "       254.80109333, 240.80489814, 254.96325578, 234.95181067,\n",
       "       240.80489814, 240.80489814, 253.32925901, 240.80489814,\n",
       "       265.22547065, 259.22140474, 242.82951216, 232.23326582,\n",
       "       251.99291716, 253.68017098, 259.22140474, 260.98193384,\n",
       "       259.22140474, 251.99291716, 239.47049758, 250.0444006 ,\n",
       "       250.0444006 , 253.32925901, 267.4079286 , 259.22140474,\n",
       "       238.98058191, 250.0444006 , 234.95181067, 242.82951216,\n",
       "       251.99291716, 253.32925901, 225.54273661, 235.1848799 ,\n",
       "       270.03897342, 248.26427119, 245.44413888, 235.1848799 ,\n",
       "       234.95181067, 225.82872211, 261.09872377, 240.80489814,\n",
       "       260.98193384, 259.22140474, 260.98193384, 254.96325578,\n",
       "       259.22140474, 240.80489814, 235.1848799 , 248.26427119,\n",
       "       248.26427119, 251.99291716, 229.53250245, 239.15400659,\n",
       "       239.47049758, 242.82951216, 238.98058191, 253.32925901,\n",
       "       254.96325578, 251.99291716, 239.15400659, 235.1848799 ,\n",
       "       253.68017098, 259.36372452, 238.98058191, 239.47049758,\n",
       "       251.99291716, 256.52493458, 250.0444006 , 254.96325578,\n",
       "       253.32925901, 234.95181067, 239.15400659, 245.44413888,\n",
       "       240.80489814, 240.80489814, 240.80489814, 264.51120812,\n",
       "       242.82951216, 232.23326582, 254.80109333, 253.32925901,\n",
       "       235.1848799 , 248.26427119, 235.1848799 , 260.98193384,\n",
       "       251.99291716, 254.80109333, 245.44413888, 253.32925901,\n",
       "       232.58914205, 259.36372452, 245.44413888, 259.22140474,\n",
       "       242.82951216, 265.22547065, 240.80489814, 240.80489814,\n",
       "       238.98058191, 232.58914205, 245.44413888, 239.47049758,\n",
       "       232.23326582, 253.32925901, 225.1907649 , 222.36490019,\n",
       "       251.99291716, 239.15400659, 234.95181067, 278.60034415,\n",
       "       239.47049758, 260.98193384, 253.68017098, 254.80109333,\n",
       "       254.80109333, 242.82951216, 264.51120812, 239.15400659,\n",
       "       239.15400659, 225.17691033, 253.68017098, 239.15400659,\n",
       "       242.82951216, 239.47049758, 256.52493458, 253.32925901,\n",
       "       259.22140474, 261.09872377, 245.44413888, 242.82951216,\n",
       "       221.0473845 , 253.68017098, 260.98193384, 254.80109333,\n",
       "       251.99291716, 250.0444006 , 250.0444006 , 225.91743608,\n",
       "       254.96325578, 251.99291716, 250.0444006 , 253.68017098,\n",
       "       240.80489814, 254.96325578, 267.4079286 , 213.95273174,\n",
       "       232.23326582, 239.15400659, 225.54273661, 239.47049758,\n",
       "       225.82872211, 251.99291716, 225.17691033, 248.26427119,\n",
       "       239.05200219, 235.1848799 , 232.58914205, 251.99291716,\n",
       "       248.26427119, 254.80109333, 232.23326582, 250.0444006 ,\n",
       "       240.80489814, 240.80489814, 250.0444006 , 239.47049758,\n",
       "       277.36136974, 259.36372452, 277.23900924, 248.26427119,\n",
       "       260.98193384, 254.96325578, 259.36372452, 259.22140474,\n",
       "       239.47049758, 240.80489814, 232.58914205, 242.82951216,\n",
       "       256.52493458, 253.68017098, 242.82951216, 254.80109333,\n",
       "       256.52493458, 256.52493458, 242.82951216, 254.80109333,\n",
       "       253.68017098, 253.32925901, 259.36372452, 250.0444006 ,\n",
       "       225.17691033, 242.82951216, 239.47049758, 254.80109333,\n",
       "       248.26427119, 250.0444006 , 254.96325578, 254.80109333,\n",
       "       250.0444006 , 250.0444006 , 240.80489814, 240.80489814,\n",
       "       251.99291716, 250.0444006 , 239.05200219, 224.59247886,\n",
       "       245.44413888, 250.0444006 , 239.15400659, 259.36372452,\n",
       "       242.82951216, 254.96325578, 253.32925901, 265.22547065,\n",
       "       253.32925901, 250.0444006 , 254.96325578, 240.80489814,\n",
       "       234.95181067, 254.80109333, 259.36372452, 250.0444006 ,\n",
       "       239.15400659, 242.82951216, 225.1907649 , 239.15400659,\n",
       "       242.82951216, 256.52493458, 261.09872377, 259.36372452,\n",
       "       248.26427119, 235.1848799 , 245.44413888, 220.78454697,\n",
       "       254.80109333, 250.0444006 , 259.22140474, 248.26427119,\n",
       "       261.09872377, 239.05200219, 259.22140474, 251.99291716,\n",
       "       250.0444006 , 254.96325578, 251.99291716, 254.96325578,\n",
       "       259.36372452, 221.43433261, 254.80109333, 253.68017098,\n",
       "       245.44413888, 234.95181067, 234.95181067, 256.52493458,\n",
       "       232.58914205, 248.26427119, 250.0444006 , 267.4079286 ,\n",
       "       254.96325578, 242.82951216, 265.9428862 , 239.47049758,\n",
       "       225.1907649 , 264.51120812, 240.80489814, 242.82951216,\n",
       "       254.80109333, 240.80489814, 239.47049758, 234.95181067,\n",
       "       256.52493458, 248.26427119, 232.58914205, 253.68017098,\n",
       "       253.68017098, 253.68017098, 253.68017098, 239.47049758,\n",
       "       250.0444006 , 259.22140474, 251.99291716, 242.82951216,\n",
       "       251.99291716, 245.44413888, 248.26427119, 239.15400659,\n",
       "       248.26427119, 238.98058191, 259.22140474, 250.0444006 ,\n",
       "       254.96325578, 239.47049758, 253.68017098, 251.99291716,\n",
       "       221.0473845 , 254.80109333, 240.80489814, 225.54273661,\n",
       "       254.96325578, 253.68017098, 239.47049758, 235.1848799 ,\n",
       "       248.26427119, 235.1848799 , 239.47049758, 248.26427119,\n",
       "       251.99291716, 239.05200219, 225.1907649 , 225.91743608,\n",
       "       260.98193384, 239.47049758, 254.80109333, 242.82951216,\n",
       "       239.47049758, 242.82951216, 242.82951216, 245.44413888,\n",
       "       254.80109333, 240.80489814, 253.32925901, 253.32925901,\n",
       "       240.80489814, 232.23326582, 240.80489814, 256.52493458,\n",
       "       229.53250245, 256.52493458, 253.68017098, 239.15400659,\n",
       "       259.36372452, 232.58914205, 253.32925901, 239.47049758,\n",
       "       261.09872377, 240.80489814, 225.54273661, 240.80489814,\n",
       "       224.59247886, 248.26427119, 239.47049758, 253.32925901,\n",
       "       260.98193384, 253.32925901, 248.26427119, 238.98058191,\n",
       "       265.9428862 , 232.23326582, 254.80109333, 248.26427119,\n",
       "       239.47049758, 253.68017098, 239.05200219, 239.05200219,\n",
       "       253.68017098, 225.17691033, 229.53250245, 239.15400659,\n",
       "       240.80489814, 239.47049758, 265.22547065, 254.80109333,\n",
       "       232.23326582, 260.98193384, 240.80489814, 235.1848799 ,\n",
       "       240.80489814, 245.44413888, 240.80489814, 254.96325578,\n",
       "       250.0444006 , 232.23326582, 245.44413888, 264.51120812,\n",
       "       239.47049758, 245.44413888, 253.68017098, 239.05200219,\n",
       "       250.0444006 , 238.98058191, 259.22140474, 239.15400659])"
      ]
     },
     "execution_count": 61,
     "metadata": {},
     "output_type": "execute_result"
    }
   ],
   "source": [
    "bs_VaR"
   ]
  },
  {
   "cell_type": "code",
   "execution_count": 62,
   "metadata": {},
   "outputs": [
    {
     "data": {
      "text/plain": [
       "Text(0, 0.5, 'PDF')"
      ]
     },
     "execution_count": 62,
     "metadata": {},
     "output_type": "execute_result"
    },
    {
     "data": {
      "image/png": "[encoded data removed]",
      "text/plain": [
       "<Figure size 640x480 with 1 Axes>"
      ]
     },
     "metadata": {},
     "output_type": "display_data"
    }
   ],
   "source": [
    "plt.hist(bs_VaR, bins=50, density=True)\n",
    "plt.xlabel(\"VaR Distribution of 10000 Samples\")\n",
    "plt.ylabel(\"PDF\")"
   ]
  },
  {
   "cell_type": "markdown",
   "metadata": {},
   "source": [
    "### **Confidence Interval**"
   ]
  },
  {
   "cell_type": "code",
   "execution_count": 63,
   "metadata": {},
   "outputs": [
    {
     "name": "stdout",
     "output_type": "stream",
     "text": [
      "The 99% Boostrap VaR confidence interval is [222.35559452 270.03897342]\n"
     ]
    }
   ],
   "source": [
    "conf_intervals = np.percentile(bs_VaR, [1.0, 99.0])\n",
    "\n",
    "print(f\"The 99% Boostrap VaR confidence interval is {conf_intervals}\")"
   ]
  },
  {
   "cell_type": "markdown",
   "metadata": {},
   "source": [
    "## **3. Monte Carlo Simulation (Method)**"
   ]
  },
  {
   "cell_type": "code",
   "execution_count": 65,
   "metadata": {},
   "outputs": [
    {
     "data": {
      "text/plain": [
       "array([[1.        , 0.81975114, 0.81927087, 0.80475794],\n",
       "       [0.81975114, 1.        , 0.87055726, 0.92459421],\n",
       "       [0.81927087, 0.87055726, 1.        , 0.82422974],\n",
       "       [0.80475794, 0.92459421, 0.82422974, 1.        ]])"
      ]
     },
     "execution_count": 65,
     "metadata": {},
     "output_type": "execute_result"
    }
   ],
   "source": [
    "corr = cesta_returns.corr().values\n",
    "chol = np.linalg.cholesky(corr)\n",
    "corr"
   ]
  },
  {
   "cell_type": "code",
   "execution_count": 66,
   "metadata": {},
   "outputs": [
    {
     "data": {
      "text/plain": [
       "array([[1.        , 0.        , 0.        , 0.        ],\n",
       "       [0.81975114, 0.57271989, 0.        , 0.        ],\n",
       "       [0.81927087, 0.34739326, 0.45619421, 0.        ],\n",
       "       [0.80475794, 0.46251749, 0.00929326, 0.37196217]])"
      ]
     },
     "execution_count": 66,
     "metadata": {},
     "output_type": "execute_result"
    }
   ],
   "source": [
    "chol"
   ]
  },
  {
   "cell_type": "code",
   "execution_count": 67,
   "metadata": {},
   "outputs": [],
   "source": [
    "usd_mean = cesta_returns['USD'].mean()\n",
    "usd_sd = cesta_returns['USD'].std()\n",
    "\n",
    "eur_mean = cesta_returns['EUR'].mean()\n",
    "eur_sd = cesta_returns['EUR'].std()\n",
    "\n",
    "gbp_mean = cesta_returns['GBP'].mean()\n",
    "gbp_sd = cesta_returns['GBP'].std()\n",
    "\n",
    "chf_mean = cesta_returns['CHF'].mean()\n",
    "chf_sd = cesta_returns['CHF'].std()"
   ]
  },
  {
   "cell_type": "code",
   "execution_count": 68,
   "metadata": {},
   "outputs": [],
   "source": [
    "var_list = []\n",
    "\n",
    "for i in range(1000):\n",
    "\n",
    "    usd_rets = np.random.normal(usd_mean, usd_sd, 1000)\n",
    "    eur_rets = np.random.normal(eur_mean, eur_sd, 1000)\n",
    "    gbp_rets = np.random.normal(gbp_mean, gbp_sd, 1000)\n",
    "    chf_rets = np.random.normal(chf_mean, chf_sd, 1000)\n",
    "\n",
    "    no_corr_port = np.array([usd_rets, eur_rets, gbp_rets, chf_rets])\n",
    "\n",
    "    np.matmul(chol, no_corr_port)\n",
    "\n",
    "    cesta_returns_sim = pd.DataFrame(np.matmul(chol, no_corr_port)).T\n",
    "\n",
    "    # Generate Var-Cov Matrix\n",
    "    cov_matrix = cesta_returns_sim.cov()\n",
    "    cov_matrix\n",
    "\n",
    "    # Calculate avarage return\n",
    "\n",
    "    avg_returns = cesta_returns_sim.mean()\n",
    "\n",
    "    # Calculate mean returns for portfolio overall, using dot product to normalize individual means against investment weights\n",
    "\n",
    "    portfolio_mean = avg_returns.dot(weights)\n",
    "\n",
    "    # Portfolio Standard Deviation\n",
    "\n",
    "    portfolio_sd = np.sqrt(weights.T.dot(cov_matrix).dot(weights))\n",
    "\n",
    "    # Investment Mean\n",
    "\n",
    "    investment_mean = (1+portfolio_mean) * initial_investment\n",
    "\n",
    "    # SD of investment\n",
    "\n",
    "    investment_sd = initial_investment * portfolio_sd\n",
    "\n",
    "    # Select your confidence interval\n",
    "\n",
    "    conf_level = 0.01\n",
    "\n",
    "    # Scipy ppf method to generate values for the\n",
    "    # inverse cumulative distribution function to a normal distribution\n",
    "    # plugging the mean, sd of our portfolio\n",
    "\n",
    "    cutoff = norm.ppf(conf_level, investment_mean, investment_sd)\n",
    "\n",
    "    # Calculate VaR\n",
    "\n",
    "    VaR_1day = initial_investment - cutoff\n",
    "\n",
    "    var_list.append(VaR_1day)"
   ]
  },
  {
   "cell_type": "code",
   "execution_count": 69,
   "metadata": {},
   "outputs": [
    {
     "data": {
      "text/plain": [
       "210.44470450706135"
      ]
     },
     "execution_count": 69,
     "metadata": {},
     "output_type": "execute_result"
    }
   ],
   "source": [
    "np.mean(var_list)"
   ]
  }
 ],
 "metadata": {
  "kernelspec": {
   "display_name": "Python 3",
   "language": "python",
   "name": "python3"
  },
  "language_info": {
   "codemirror_mode": {
    "name": "ipython",
    "version": 3
   },
   "file_extension": ".py",
   "mimetype": "text/x-python",
   "name": "python",
   "nbconvert_exporter": "python",
   "pygments_lexer": "ipython3",
   "version": "3.10.11"
  }
 },
 "nbformat": 4,
 "nbformat_minor": 2
}
